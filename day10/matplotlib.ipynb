{
 "cells": [
  {
   "metadata": {
    "ExecuteTime": {
     "end_time": "2025-01-04T01:38:56.227961Z",
     "start_time": "2025-01-04T01:38:56.224465Z"
    }
   },
   "cell_type": "code",
   "source": "a",
   "id": "7b05779e666f34de",
   "outputs": [
    {
     "data": {
      "text/plain": [
       "3"
      ]
     },
     "execution_count": 8,
     "metadata": {},
     "output_type": "execute_result"
    }
   ],
   "execution_count": 8
  },
  {
   "metadata": {
    "ExecuteTime": {
     "end_time": "2025-01-04T01:47:07.020084Z",
     "start_time": "2025-01-04T01:47:07.017002Z"
    }
   },
   "cell_type": "code",
   "source": "a=1+2\n",
   "id": "bd7726c913933531",
   "outputs": [],
   "execution_count": 10
  },
  {
   "metadata": {
    "ExecuteTime": {
     "end_time": "2025-01-04T01:46:56.009029Z",
     "start_time": "2025-01-04T01:46:56.005536Z"
    }
   },
   "cell_type": "code",
   "source": "a=1+2",
   "id": "3d3798ccb7e6567f",
   "outputs": [],
   "execution_count": 9
  },
  {
   "metadata": {},
   "cell_type": "code",
   "outputs": [],
   "execution_count": null,
   "source": "",
   "id": "2db42355347c85e1"
  }
 ],
 "metadata": {
  "kernelspec": {
   "display_name": "Python 3",
   "language": "python",
   "name": "python3"
  },
  "language_info": {
   "codemirror_mode": {
    "name": "ipython",
    "version": 2
   },
   "file_extension": ".py",
   "mimetype": "text/x-python",
   "name": "python",
   "nbconvert_exporter": "python",
   "pygments_lexer": "ipython2",
   "version": "2.7.6"
  }
 },
 "nbformat": 4,
 "nbformat_minor": 5
}
