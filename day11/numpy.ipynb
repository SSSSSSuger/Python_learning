{
 "cells": [
  {
   "cell_type": "code",
   "id": "initial_id",
   "metadata": {
    "collapsed": true,
    "ExecuteTime": {
     "end_time": "2025-01-11T00:44:16.528688Z",
     "start_time": "2025-01-11T00:44:16.432834Z"
    }
   },
   "source": [
    "import numpy as np\n",
    "\n",
    "list1 = [1, 2, 3, 4]\n",
    "print(list1)\n",
    "print(type(list1))\n",
    "\n",
    "arry1 = np.array(list1)\n",
    "print(arry1)\n",
    "print(type(arry1))"
   ],
   "outputs": [
    {
     "name": "stdout",
     "output_type": "stream",
     "text": [
      "[1, 2, 3, 4]\n",
      "<class 'list'>\n",
      "[1 2 3 4]\n",
      "<class 'numpy.ndarray'>\n"
     ]
    }
   ],
   "execution_count": 1
  },
  {
   "metadata": {
    "ExecuteTime": {
     "end_time": "2025-01-11T00:44:44.416002Z",
     "start_time": "2025-01-11T00:44:16.528688Z"
    }
   },
   "cell_type": "code",
   "source": [
    "import random\n",
    "import time\n",
    "import numpy as np\n",
    "\n",
    "a = []\n",
    "for i in range(100000000):\n",
    "    a.append(random.random())\n",
    "print('随机完毕')\n",
    "\n",
    "b = np.array(a)  # 转换为ndarray\n",
    "print('转换完毕')\n",
    "\n"
   ],
   "id": "dbbf0fc4894e107c",
   "outputs": [
    {
     "name": "stdout",
     "output_type": "stream",
     "text": [
      "随机完毕\n",
      "转换完毕\n"
     ]
    }
   ],
   "execution_count": 2
  },
  {
   "metadata": {
    "ExecuteTime": {
     "end_time": "2025-01-11T00:44:49.121464Z",
     "start_time": "2025-01-11T00:44:44.421985Z"
    }
   },
   "cell_type": "code",
   "source": [
    "t1 = time.time()\n",
    "sum1 = sum(a)\n",
    "t2 = time.time()\n",
    "\n",
    "t4 = time.time()\n",
    "sum3 = np.sum(b)\n",
    "t5 = time.time()\n",
    "print(t2 - t1, t5 - t4)"
   ],
   "id": "beccfdf19ea88b7c",
   "outputs": [
    {
     "name": "stdout",
     "output_type": "stream",
     "text": [
      "2.8568718433380127 1.8291430473327637\n"
     ]
    }
   ],
   "execution_count": 3
  },
  {
   "metadata": {
    "ExecuteTime": {
     "end_time": "2025-01-11T00:44:49.487592Z",
     "start_time": "2025-01-11T00:44:49.125454Z"
    }
   },
   "cell_type": "code",
   "source": [
    "import numpy as np\n",
    "\n",
    "list2 = [[1, 2], [3, 4], [5, 6]]\n",
    "\n",
    "twoArray = np.array(list2)\n",
    "print(type(twoArray))\n",
    "print(twoArray)\n",
    "print(list2) "
   ],
   "id": "c37c4bcde804e8d4",
   "outputs": [
    {
     "name": "stdout",
     "output_type": "stream",
     "text": [
      "<class 'numpy.ndarray'>\n",
      "[[1 2]\n",
      " [3 4]\n",
      " [5 6]]\n",
      "[[1, 2], [3, 4], [5, 6]]\n"
     ]
    }
   ],
   "execution_count": 4
  },
  {
   "metadata": {
    "ExecuteTime": {
     "end_time": "2025-01-11T00:44:49.507239Z",
     "start_time": "2025-01-11T00:44:49.490585Z"
    }
   },
   "cell_type": "code",
   "source": "twoArray.tolist()",
   "id": "98d8bf29a1ad1d98",
   "outputs": [
    {
     "data": {
      "text/plain": [
       "[[1, 2], [3, 4], [5, 6]]"
      ]
     },
     "execution_count": 5,
     "metadata": {},
     "output_type": "execute_result"
    }
   ],
   "execution_count": 5
  },
  {
   "metadata": {
    "ExecuteTime": {
     "end_time": "2025-01-11T00:44:49.514203Z",
     "start_time": "2025-01-11T00:44:49.508239Z"
    }
   },
   "cell_type": "code",
   "source": [
    "list2 = [[1, 2], [3, 4], [5, 6]]\n",
    "\n",
    "twoArray = np.array(list2)\n",
    "print(twoArray.ndim)\n",
    "\n",
    "print(twoArray.shape)\n",
    "print(twoArray.size)\n",
    "print(twoArray.dtype)"
   ],
   "id": "3dddc80bee53ae70",
   "outputs": [
    {
     "name": "stdout",
     "output_type": "stream",
     "text": [
      "2\n",
      "(3, 2)\n",
      "6\n",
      "int64\n"
     ]
    }
   ],
   "execution_count": 6
  },
  {
   "metadata": {
    "ExecuteTime": {
     "end_time": "2025-01-11T00:44:49.518847Z",
     "start_time": "2025-01-11T00:44:49.514203Z"
    }
   },
   "cell_type": "code",
   "source": [
    "four = np.array([[1, 2, 3], [4, 5, 6]])\n",
    "print(four)\n",
    "\n",
    "four1 = four\n",
    "print(id(four))"
   ],
   "id": "f739d70703d37e1d",
   "outputs": [
    {
     "name": "stdout",
     "output_type": "stream",
     "text": [
      "[[1 2 3]\n",
      " [4 5 6]]\n",
      "2155067575536\n"
     ]
    }
   ],
   "execution_count": 7
  },
  {
   "metadata": {
    "ExecuteTime": {
     "end_time": "2025-01-11T00:44:49.523685Z",
     "start_time": "2025-01-11T00:44:49.518847Z"
    }
   },
   "cell_type": "code",
   "source": [
    "four.shape = (3,2)\n",
    "print(id(four))\n",
    "print(id(four1))\n",
    "print(four)"
   ],
   "id": "af4098392d71d39d",
   "outputs": [
    {
     "name": "stdout",
     "output_type": "stream",
     "text": [
      "2155067575536\n",
      "2155067575536\n",
      "[[1 2]\n",
      " [3 4]\n",
      " [5 6]]\n"
     ]
    }
   ],
   "execution_count": 8
  },
  {
   "metadata": {
    "ExecuteTime": {
     "end_time": "2025-01-11T00:44:49.528894Z",
     "start_time": "2025-01-11T00:44:49.524685Z"
    }
   },
   "cell_type": "code",
   "source": [
    "four2 = four.reshape(2,3)\n",
    "print(four)\n",
    "print(id(four))\n",
    "print(id(four2))"
   ],
   "id": "79d6cbf41dd8ace9",
   "outputs": [
    {
     "name": "stdout",
     "output_type": "stream",
     "text": [
      "[[1 2]\n",
      " [3 4]\n",
      " [5 6]]\n",
      "2155067575536\n",
      "2155067575728\n"
     ]
    }
   ],
   "execution_count": 9
  },
  {
   "metadata": {
    "ExecuteTime": {
     "end_time": "2025-01-11T00:45:25.084760Z",
     "start_time": "2025-01-11T00:45:25.080337Z"
    }
   },
   "cell_type": "code",
   "source": [
    "five = four.reshape((6,),order='F')\n",
    "# f代表列展开 默认为c行展开\n",
    "print(five)\n",
    "six = four.flatten()\n",
    "print(six)\n",
    "\n"
   ],
   "id": "a42e5e3c703a5d5a",
   "outputs": [
    {
     "name": "stdout",
     "output_type": "stream",
     "text": [
      "[1 3 5 2 4 6]\n",
      "[1 2 3 4 5 6]\n"
     ]
    }
   ],
   "execution_count": 10
  },
  {
   "metadata": {
    "ExecuteTime": {
     "end_time": "2025-01-06T11:25:25.769123Z",
     "start_time": "2025-01-06T11:25:25.765214Z"
    }
   },
   "cell_type": "code",
   "source": [
    "seven = five.reshape(3,2)\n",
    "print(seven)\n",
    "seven"
   ],
   "id": "cf5ba499acd2956e",
   "outputs": [
    {
     "name": "stdout",
     "output_type": "stream",
     "text": [
      "[[1 2]\n",
      " [3 4]\n",
      " [5 6]]\n"
     ]
    },
    {
     "data": {
      "text/plain": [
       "array([[1, 2],\n",
       "       [3, 4],\n",
       "       [5, 6]])"
      ]
     },
     "execution_count": 22,
     "metadata": {},
     "output_type": "execute_result"
    }
   ],
   "execution_count": 22
  },
  {
   "metadata": {
    "ExecuteTime": {
     "end_time": "2025-01-06T11:27:30.271849Z",
     "start_time": "2025-01-06T11:27:30.267490Z"
    }
   },
   "cell_type": "code",
   "source": [
    "t = np.arange(24)\n",
    "print(t)\n",
    "tt = t.reshape(3,8)\n",
    "print(tt)\n",
    "\n",
    "ttt = t.reshape(2,3,4)\n",
    "print(ttt)\n",
    "\n"
   ],
   "id": "185651cffb166a87",
   "outputs": [
    {
     "name": "stdout",
     "output_type": "stream",
     "text": [
      "[ 0  1  2  3  4  5  6  7  8  9 10 11 12 13 14 15 16 17 18 19 20 21 22 23]\n",
      "[[ 0  1  2  3  4  5  6  7]\n",
      " [ 8  9 10 11 12 13 14 15]\n",
      " [16 17 18 19 20 21 22 23]]\n",
      "[[[ 0  1  2  3]\n",
      "  [ 4  5  6  7]\n",
      "  [ 8  9 10 11]]\n",
      "\n",
      " [[12 13 14 15]\n",
      "  [16 17 18 19]\n",
      "  [20 21 22 23]]]\n"
     ]
    }
   ],
   "execution_count": 25
  },
  {
   "metadata": {
    "ExecuteTime": {
     "end_time": "2025-01-06T11:28:25.804407Z",
     "start_time": "2025-01-06T11:28:24.930610Z"
    }
   },
   "cell_type": "code",
   "source": [
    "a = np.array([9, 12, 88, 14, 25])\n",
    "\n",
    "b = a.tolist()\n",
    "print(b)"
   ],
   "id": "cb0af92bcb4c3955",
   "outputs": [
    {
     "name": "stdout",
     "output_type": "stream",
     "text": [
      "[9, 12, 88, 14, 25]\n"
     ]
    }
   ],
   "execution_count": 26
  },
  {
   "metadata": {
    "ExecuteTime": {
     "end_time": "2025-01-06T11:40:03.408102Z",
     "start_time": "2025-01-06T11:40:03.404409Z"
    }
   },
   "cell_type": "code",
   "source": [
    "t1 = np.arange(24).reshape((6, 4))\n",
    "print(t1)\n",
    "print(t1+1)\n",
    "print(t1+[1,2,3,4])\n",
    "print(t1*2)"
   ],
   "id": "22553c22b3579801",
   "outputs": [
    {
     "name": "stdout",
     "output_type": "stream",
     "text": [
      "[[ 0  1  2  3]\n",
      " [ 4  5  6  7]\n",
      " [ 8  9 10 11]\n",
      " [12 13 14 15]\n",
      " [16 17 18 19]\n",
      " [20 21 22 23]]\n",
      "[[ 1  2  3  4]\n",
      " [ 5  6  7  8]\n",
      " [ 9 10 11 12]\n",
      " [13 14 15 16]\n",
      " [17 18 19 20]\n",
      " [21 22 23 24]]\n",
      "[[ 1  3  5  7]\n",
      " [ 5  7  9 11]\n",
      " [ 9 11 13 15]\n",
      " [13 15 17 19]\n",
      " [17 19 21 23]\n",
      " [21 23 25 27]]\n",
      "[[ 0  2  4  6]\n",
      " [ 8 10 12 14]\n",
      " [16 18 20 22]\n",
      " [24 26 28 30]\n",
      " [32 34 36 38]\n",
      " [40 42 44 46]]\n"
     ]
    }
   ],
   "execution_count": 32
  },
  {
   "metadata": {
    "ExecuteTime": {
     "end_time": "2025-01-06T11:42:00.847351Z",
     "start_time": "2025-01-06T11:42:00.844036Z"
    }
   },
   "cell_type": "code",
   "source": [
    "t1 = np.arange(24).reshape((6, 4))\n",
    "t2 = np.arange(100, 124).reshape((6, 4))\n",
    "print(t1)\n",
    "# print(t2)\n",
    "# print(t1*t2)\n",
    "\n",
    "print(t1*[1,2,3,4])\n",
    "\n"
   ],
   "id": "6894bebb29276ed1",
   "outputs": [
    {
     "name": "stdout",
     "output_type": "stream",
     "text": [
      "[[ 0  1  2  3]\n",
      " [ 4  5  6  7]\n",
      " [ 8  9 10 11]\n",
      " [12 13 14 15]\n",
      " [16 17 18 19]\n",
      " [20 21 22 23]]\n",
      "[[ 0  2  6 12]\n",
      " [ 4 10 18 28]\n",
      " [ 8 18 30 44]\n",
      " [12 26 42 60]\n",
      " [16 34 54 76]\n",
      " [20 42 66 92]]\n"
     ]
    }
   ],
   "execution_count": 36
  },
  {
   "metadata": {
    "ExecuteTime": {
     "end_time": "2025-01-06T11:42:51.787266Z",
     "start_time": "2025-01-06T11:42:51.784196Z"
    }
   },
   "cell_type": "code",
   "source": [
    "t1 = np.arange(24).reshape((4, 6))\n",
    "t2 = np.arange(4).reshape((4, 1))\n",
    "print(t2)\n",
    "print(t1)\n",
    "print(t1+t2)"
   ],
   "id": "e19d68be51b1a3f6",
   "outputs": [
    {
     "name": "stdout",
     "output_type": "stream",
     "text": [
      "[[0]\n",
      " [1]\n",
      " [2]\n",
      " [3]]\n",
      "[[ 0  1  2  3  4  5]\n",
      " [ 6  7  8  9 10 11]\n",
      " [12 13 14 15 16 17]\n",
      " [18 19 20 21 22 23]]\n",
      "[[ 0  1  2  3  4  5]\n",
      " [ 7  8  9 10 11 12]\n",
      " [14 15 16 17 18 19]\n",
      " [21 22 23 24 25 26]]\n"
     ]
    }
   ],
   "execution_count": 38
  },
  {
   "metadata": {
    "ExecuteTime": {
     "end_time": "2025-01-06T11:43:27.289569Z",
     "start_time": "2025-01-06T11:43:27.285950Z"
    }
   },
   "cell_type": "code",
   "source": [
    "a = np.arange(24).reshape((2, 3, 4))\n",
    "b = np.arange(12).reshape((1, 3, 4))\n",
    "print(a)\n",
    "print(b)\n",
    "a - b"
   ],
   "id": "2409893bced0fa9b",
   "outputs": [
    {
     "name": "stdout",
     "output_type": "stream",
     "text": [
      "[[[ 0  1  2  3]\n",
      "  [ 4  5  6  7]\n",
      "  [ 8  9 10 11]]\n",
      "\n",
      " [[12 13 14 15]\n",
      "  [16 17 18 19]\n",
      "  [20 21 22 23]]]\n",
      "[[[ 0  1  2  3]\n",
      "  [ 4  5  6  7]\n",
      "  [ 8  9 10 11]]]\n"
     ]
    },
    {
     "data": {
      "text/plain": [
       "array([[[ 0,  0,  0,  0],\n",
       "        [ 0,  0,  0,  0],\n",
       "        [ 0,  0,  0,  0]],\n",
       "\n",
       "       [[12, 12, 12, 12],\n",
       "        [12, 12, 12, 12],\n",
       "        [12, 12, 12, 12]]])"
      ]
     },
     "execution_count": 40,
     "metadata": {},
     "output_type": "execute_result"
    }
   ],
   "execution_count": 40
  },
  {
   "metadata": {
    "ExecuteTime": {
     "end_time": "2025-01-06T11:44:18.838193Z",
     "start_time": "2025-01-06T11:44:18.834739Z"
    }
   },
   "cell_type": "code",
   "source": [
    "# 联系轴\n",
    "import numpy as np\n",
    "\n",
    "a = np.array([[1, 2, 3], [4, 5, 6]])\n",
    "print(a)\n",
    "print(\"-\" * 20)\n",
    "print(np.sum(a, axis=0))  # [5 7 9]，按哪个轴求和，哪个轴没了\n",
    "print(\"-\" * 20)\n",
    "print(np.sum(a, axis=1))  # [ 6 15]\n",
    "print(\"-\" * 20)\n",
    "print(np.sum(a))\n",
    "print(\"-\" * 20)\n"
   ],
   "id": "2382033ad1fee00b",
   "outputs": [
    {
     "name": "stdout",
     "output_type": "stream",
     "text": [
      "[[1 2 3]\n",
      " [4 5 6]]\n",
      "--------------------\n",
      "[5 7 9]\n",
      "--------------------\n",
      "[ 6 15]\n",
      "--------------------\n",
      "21\n",
      "--------------------\n"
     ]
    }
   ],
   "execution_count": 41
  },
  {
   "metadata": {
    "ExecuteTime": {
     "end_time": "2025-01-06T11:48:26.184227Z",
     "start_time": "2025-01-06T11:48:26.179241Z"
    }
   },
   "cell_type": "code",
   "source": [
    "a = np.arange(24).reshape((2, 3, 4))\n",
    "b = np.sum(a, axis=0)\n",
    "print(a)\n",
    "# print(b)\n",
    "print(\"-\" * 20)\n",
    "print(b.shape)\n",
    "print(b)\n",
    "c = np.sum(a, axis=1)\n",
    "print(\"-\" * 20)\n",
    "print(c.shape)\n",
    "print(c)\n",
    "d = np.sum(a, axis=2)\n",
    "print(\"-\" * 20)\n",
    "print(d.shape)\n",
    "print(d)"
   ],
   "id": "73edfe0fcd74d508",
   "outputs": [
    {
     "name": "stdout",
     "output_type": "stream",
     "text": [
      "[[[ 0  1  2  3]\n",
      "  [ 4  5  6  7]\n",
      "  [ 8  9 10 11]]\n",
      "\n",
      " [[12 13 14 15]\n",
      "  [16 17 18 19]\n",
      "  [20 21 22 23]]]\n",
      "--------------------\n",
      "(3, 4)\n",
      "[[12 14 16 18]\n",
      " [20 22 24 26]\n",
      " [28 30 32 34]]\n",
      "--------------------\n",
      "(2, 4)\n",
      "[[12 15 18 21]\n",
      " [48 51 54 57]]\n",
      "--------------------\n",
      "(2, 3)\n",
      "[[ 6 22 38]\n",
      " [54 70 86]]\n"
     ]
    }
   ],
   "execution_count": 46
  },
  {
   "metadata": {},
   "cell_type": "markdown",
   "source": "切片",
   "id": "dcea1ea8217895f5"
  },
  {
   "metadata": {
    "ExecuteTime": {
     "end_time": "2025-01-06T11:49:56.396983Z",
     "start_time": "2025-01-06T11:49:56.392214Z"
    }
   },
   "cell_type": "code",
   "source": [
    "import numpy as np\n",
    "\n",
    "a = np.arange(10)\n",
    "# 冒号分隔切片参数 start:stop:step 来进行切片操作print(a[2:7:2])# 从索引 2 开始到索引 7 停止，间隔为 2\n",
    "\n",
    "# 如果只放置一个参数，如 [2]，将返回与该索引相对应的单个元素\n",
    "print(a[0], a)\n",
    "\n",
    "# 如果为 [2:]，表示从该索引开始以后的所有项都将被提取\n",
    "print(a[2:])\n",
    "\n",
    "print(a[2:8:2])  #切片是左闭右开\n"
   ],
   "id": "edaf8aa85e9c5d04",
   "outputs": [
    {
     "name": "stdout",
     "output_type": "stream",
     "text": [
      "0 [0 1 2 3 4 5 6 7 8 9]\n",
      "[2 3 4 5 6 7 8 9]\n",
      "[2 4 6]\n"
     ]
    }
   ],
   "execution_count": 47
  },
  {
   "metadata": {
    "ExecuteTime": {
     "end_time": "2025-01-06T11:51:44.473028Z",
     "start_time": "2025-01-06T11:51:44.468330Z"
    }
   },
   "cell_type": "code",
   "source": [
    "import numpy as np\n",
    "\n",
    "t1 = np.arange(24).reshape(4, 6)\n",
    "print(t1)\n",
    "print('*' * 20)\n",
    "print(t1[1])  # 取一行(一行代表是一条数据，索引也是从0开始的) print(t1[1,:]) # 取一行\n",
    "print('*' * 20)\n",
    "print(t1[1:])  # 取连续的多行\n",
    "print('*' * 20)\n",
    "print(t1[1:3, :])  # 取连续的多行\n",
    "print('*' * 20)\n",
    "print(t1[[0, 2, 3]])  # 取不连续的多行"
   ],
   "id": "20f4d95e51f35ac3",
   "outputs": [
    {
     "name": "stdout",
     "output_type": "stream",
     "text": [
      "[[ 0  1  2  3  4  5]\n",
      " [ 6  7  8  9 10 11]\n",
      " [12 13 14 15 16 17]\n",
      " [18 19 20 21 22 23]]\n",
      "********************\n",
      "[ 6  7  8  9 10 11]\n",
      "********************\n",
      "[[ 6  7  8  9 10 11]\n",
      " [12 13 14 15 16 17]\n",
      " [18 19 20 21 22 23]]\n",
      "********************\n",
      "[[ 6  7  8  9 10 11]\n",
      " [12 13 14 15 16 17]]\n",
      "********************\n",
      "[[ 0  1  2  3  4  5]\n",
      " [12 13 14 15 16 17]\n",
      " [18 19 20 21 22 23]]\n"
     ]
    }
   ],
   "execution_count": 48
  },
  {
   "metadata": {
    "ExecuteTime": {
     "end_time": "2025-01-06T11:53:41.144858Z",
     "start_time": "2025-01-06T11:53:40.868027Z"
    }
   },
   "cell_type": "code",
   "source": [
    "t2 = np.arange(24).reshape(4, 6).tolist()\n",
    "t2[[0, 2, 3]]"
   ],
   "id": "1372dadea4c2fcc8",
   "outputs": [
    {
     "ename": "TypeError",
     "evalue": "list indices must be integers or slices, not list",
     "output_type": "error",
     "traceback": [
      "\u001B[1;31m---------------------------------------------------------------------------\u001B[0m",
      "\u001B[1;31mTypeError\u001B[0m                                 Traceback (most recent call last)",
      "Cell \u001B[1;32mIn[49], line 2\u001B[0m\n\u001B[0;32m      1\u001B[0m t2 \u001B[38;5;241m=\u001B[39m np\u001B[38;5;241m.\u001B[39marange(\u001B[38;5;241m24\u001B[39m)\u001B[38;5;241m.\u001B[39mreshape(\u001B[38;5;241m4\u001B[39m, \u001B[38;5;241m6\u001B[39m)\u001B[38;5;241m.\u001B[39mtolist()\n\u001B[1;32m----> 2\u001B[0m \u001B[43mt2\u001B[49m\u001B[43m[\u001B[49m\u001B[43m[\u001B[49m\u001B[38;5;241;43m0\u001B[39;49m\u001B[43m,\u001B[49m\u001B[43m \u001B[49m\u001B[38;5;241;43m2\u001B[39;49m\u001B[43m,\u001B[49m\u001B[43m \u001B[49m\u001B[38;5;241;43m3\u001B[39;49m\u001B[43m]\u001B[49m\u001B[43m]\u001B[49m\n",
      "\u001B[1;31mTypeError\u001B[0m: list indices must be integers or slices, not list"
     ]
    }
   ],
   "execution_count": 49
  },
  {
   "metadata": {
    "ExecuteTime": {
     "end_time": "2025-01-06T11:54:10.810949Z",
     "start_time": "2025-01-06T11:54:10.806702Z"
    }
   },
   "cell_type": "code",
   "source": [
    "print(t1)\n",
    "print(t1[:, 1])  # 取一列\n",
    "print('*' * 20)\n",
    "print(t1[:, 1:])  # 连续的多列\n",
    "print('*' * 20)\n",
    "print(t1[:, [0, 2, 3]])  # 取不连续的多列\n",
    "print('*' * 20)\n",
    "print(t1[2, 3])  # # 取某一个值,三行四列  py是t1[2][3]\n",
    "print('*' * 20)\n",
    "print(t1[[0, 1, 1], [0, 1, 3]])  # 取多个不连续的值，[[行，行。。。],[列，列。。。]]\n",
    "\n",
    "t1[1:3, 1:4]  #取1-3行，1-4列"
   ],
   "id": "cc768101e37c53cc",
   "outputs": [
    {
     "name": "stdout",
     "output_type": "stream",
     "text": [
      "[[ 0  1  2  3  4  5]\n",
      " [ 6  7  8  9 10 11]\n",
      " [12 13 14 15 16 17]\n",
      " [18 19 20 21 22 23]]\n",
      "[ 1  7 13 19]\n",
      "********************\n",
      "[[ 1  2  3  4  5]\n",
      " [ 7  8  9 10 11]\n",
      " [13 14 15 16 17]\n",
      " [19 20 21 22 23]]\n",
      "********************\n",
      "[[ 0  2  3]\n",
      " [ 6  8  9]\n",
      " [12 14 15]\n",
      " [18 20 21]]\n",
      "********************\n",
      "15\n",
      "********************\n",
      "[0 7 9]\n"
     ]
    },
    {
     "data": {
      "text/plain": [
       "array([[ 7,  8,  9],\n",
       "       [13, 14, 15]])"
      ]
     },
     "execution_count": 51,
     "metadata": {},
     "output_type": "execute_result"
    }
   ],
   "execution_count": 51
  },
  {
   "metadata": {},
   "cell_type": "markdown",
   "source": "修改值",
   "id": "e8fe70f9903ee27b"
  },
  {
   "metadata": {
    "ExecuteTime": {
     "end_time": "2025-01-06T11:58:35.279551Z",
     "start_time": "2025-01-06T11:58:35.274864Z"
    }
   },
   "cell_type": "code",
   "source": [
    "import numpy as np\n",
    "\n",
    "t = np.arange(24).reshape(4, 6)\n",
    "print(t)\n",
    "print(id(t))\n",
    "print('-' * 50)\n",
    "# # 修改某一行的值\n",
    "# t[1,:]=0\n",
    "#\n",
    "# # 修改某一列的值\n",
    "# t[:,1]=0\n",
    "#\n",
    "# # 修改连续多行\n",
    "# t[1:3,:]=0\n",
    "#\n",
    "# # 修改连续多列\n",
    "# t[:,1:4]=0\n",
    "#\n",
    "# # 修改多行多列，取第二行到第四行，第三列到第五列\n",
    "# t[1:3,2:5]=0\n",
    "#\n",
    "# # 修改多个不相邻的点\n",
    "t[[0,1],[1,3]]=0\n",
    "print(t)\n",
    "\n",
    "# 可以根据条件修改，比如讲小于10的值改掉\n",
    "t[t<10]=0\n",
    "print(t)\n",
    "# 使用逻辑判断\n",
    "# np.logical_and\t& # np.logical_or\t|\n",
    "# np.logical_not\t\t~\n",
    "# t[(t>2)&(t<6)]=0\t# 逻辑与，and\n",
    "# t[(t<2)|(t>6)]=0\t# 逻辑或，or\n",
    "# t[~(t>6)]=0\t# 逻辑非\n",
    "# print(t)\n",
    "t = t.clip(10, 18)\n",
    "print(id(t))\n",
    "t\n"
   ],
   "id": "5f9c8e51b4ee5fe1",
   "outputs": [
    {
     "name": "stdout",
     "output_type": "stream",
     "text": [
      "[[ 0  1  2  3  4  5]\n",
      " [ 6  7  8  9 10 11]\n",
      " [12 13 14 15 16 17]\n",
      " [18 19 20 21 22 23]]\n",
      "2471051413808\n",
      "--------------------------------------------------\n",
      "[[ 0  0  2  3  4  5]\n",
      " [ 6  7  8  0 10 11]\n",
      " [12 13 14 15 16 17]\n",
      " [18 19 20 21 22 23]]\n",
      "[[ 0  0  0  0  0  0]\n",
      " [ 0  0  0  0 10 11]\n",
      " [12 13 14 15 16 17]\n",
      " [18 19 20 21 22 23]]\n",
      "2471051423504\n"
     ]
    },
    {
     "data": {
      "text/plain": [
       "array([[10, 10, 10, 10, 10, 10],\n",
       "       [10, 10, 10, 10, 10, 11],\n",
       "       [12, 13, 14, 15, 16, 17],\n",
       "       [18, 18, 18, 18, 18, 18]])"
      ]
     },
     "execution_count": 56,
     "metadata": {},
     "output_type": "execute_result"
    }
   ],
   "execution_count": 56
  }
 ],
 "metadata": {
  "kernelspec": {
   "display_name": "Python 3",
   "language": "python",
   "name": "python3"
  },
  "language_info": {
   "codemirror_mode": {
    "name": "ipython",
    "version": 2
   },
   "file_extension": ".py",
   "mimetype": "text/x-python",
   "name": "python",
   "nbconvert_exporter": "python",
   "pygments_lexer": "ipython2",
   "version": "2.7.6"
  }
 },
 "nbformat": 4,
 "nbformat_minor": 5
}
