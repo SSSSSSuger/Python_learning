{
 "cells": [
  {
   "cell_type": "code",
   "id": "initial_id",
   "metadata": {
    "collapsed": true,
    "ExecuteTime": {
     "end_time": "2025-01-07T10:35:31.606884Z",
     "start_time": "2025-01-07T10:35:31.604301Z"
    }
   },
   "source": [
    "import numpy as np\n",
    "a = np.nan\n",
    "b = np.inf\n",
    "print(type(a))\n",
    "print(type(b))"
   ],
   "outputs": [
    {
     "name": "stdout",
     "output_type": "stream",
     "text": [
      "<class 'float'>\n",
      "<class 'float'>\n"
     ]
    }
   ],
   "execution_count": 2
  },
  {
   "metadata": {
    "ExecuteTime": {
     "end_time": "2025-01-07T10:35:59.628794Z",
     "start_time": "2025-01-07T10:35:59.623308Z"
    }
   },
   "cell_type": "code",
   "source": [
    "print(np.nan == np.nan)\n",
    "print(True == 1)\n",
    "print(False == 0)\n",
    "np.nan + 1 "
   ],
   "id": "966a22c9b2d75cb6",
   "outputs": [
    {
     "name": "stdout",
     "output_type": "stream",
     "text": [
      "False\n",
      "True\n",
      "True\n"
     ]
    },
    {
     "data": {
      "text/plain": [
       "nan"
      ]
     },
     "execution_count": 3,
     "metadata": {},
     "output_type": "execute_result"
    }
   ],
   "execution_count": 3
  },
  {
   "metadata": {
    "ExecuteTime": {
     "end_time": "2025-01-07T10:38:43.236676Z",
     "start_time": "2025-01-07T10:38:43.233648Z"
    }
   },
   "cell_type": "code",
   "source": [
    "t = np.arange(24, dtype=float).reshape(4, 6)\n",
    "\n",
    "t[2,3] = np.nan\n",
    "t[3,3] = np.nan\n",
    "print(t)\n",
    "\n",
    "np.count_nonzero(t!=t)\n",
    "\n",
    "t[np.isnan(t)] = 0\n",
    "print(t)"
   ],
   "id": "c94ecc8f5b1adcd9",
   "outputs": [
    {
     "name": "stdout",
     "output_type": "stream",
     "text": [
      "[[ 0.  1.  2.  3.  4.  5.]\n",
      " [ 6.  7.  8.  9. 10. 11.]\n",
      " [12. 13. 14. nan 16. 17.]\n",
      " [18. 19. 20. nan 22. 23.]]\n",
      "[[ 0.  1.  2.  3.  4.  5.]\n",
      " [ 6.  7.  8.  9. 10. 11.]\n",
      " [12. 13. 14.  0. 16. 17.]\n",
      " [18. 19. 20.  0. 22. 23.]]\n"
     ]
    }
   ],
   "execution_count": 6
  },
  {
   "metadata": {
    "ExecuteTime": {
     "end_time": "2025-01-07T11:00:42.204008Z",
     "start_time": "2025-01-07T11:00:42.200049Z"
    }
   },
   "cell_type": "code",
   "source": [
    "t = np.arange(24, dtype=float).reshape(4, 6)\n",
    "\n",
    "t[2,3] = np.nan\n",
    "t[3,3] = np.nan\n",
    "print(t)\n",
    "\n",
    "# t[np.isnan(t)] = t.mean()\n",
    "\n",
    "print(t.shape[1])\n",
    "# 轴1的长度\n",
    "print('-'*50)\n",
    "for i in range(t.shape[1]):\n",
    "    temp_col = t[:,i]\n",
    "    # temp_col是每一列\n",
    "    # print(temp_col)\n",
    "    nan_num = np.count_nonzero(temp_col != temp_col)\n",
    "    # nan_num是每一列nan的个数\n",
    "    # print(nan_num)\n",
    "    if nan_num != 0:\n",
    "        temp_col_not_nan = temp_col[temp_col == temp_col] #存在nan的列里面非nan的值组成的array\n",
    "        print(temp_col_not_nan)\n",
    "        temp_col[np.isnan(temp_col)] = np.mean(temp_col_not_nan)\n",
    "print('-'*50)\n",
    "print(t)"
   ],
   "id": "9d3a82aa0c99f89b",
   "outputs": [
    {
     "name": "stdout",
     "output_type": "stream",
     "text": [
      "[[ 0.  1.  2.  3.  4.  5.]\n",
      " [ 6.  7.  8.  9. 10. 11.]\n",
      " [12. 13. 14. nan 16. 17.]\n",
      " [18. 19. 20. nan 22. 23.]]\n",
      "6\n",
      "--------------------------------------------------\n",
      "[3. 9.]\n",
      "--------------------------------------------------\n",
      "[[ 0.  1.  2.  3.  4.  5.]\n",
      " [ 6.  7.  8.  9. 10. 11.]\n",
      " [12. 13. 14.  6. 16. 17.]\n",
      " [18. 19. 20.  6. 22. 23.]]\n"
     ]
    }
   ],
   "execution_count": 21
  },
  {
   "metadata": {},
   "cell_type": "code",
   "outputs": [],
   "execution_count": null,
   "source": "",
   "id": "429acccfc8385b6b"
  }
 ],
 "metadata": {
  "kernelspec": {
   "display_name": "Python 3",
   "language": "python",
   "name": "python3"
  },
  "language_info": {
   "codemirror_mode": {
    "name": "ipython",
    "version": 2
   },
   "file_extension": ".py",
   "mimetype": "text/x-python",
   "name": "python",
   "nbconvert_exporter": "python",
   "pygments_lexer": "ipython2",
   "version": "2.7.6"
  }
 },
 "nbformat": 4,
 "nbformat_minor": 5
}
