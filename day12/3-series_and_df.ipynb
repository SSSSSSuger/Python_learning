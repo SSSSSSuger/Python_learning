{
 "cells": [
  {
   "cell_type": "code",
   "id": "initial_id",
   "metadata": {
    "collapsed": true,
    "ExecuteTime": {
     "end_time": "2025-01-07T11:32:45.226960Z",
     "start_time": "2025-01-07T11:32:44.568644Z"
    }
   },
   "source": "import pandas as pd",
   "outputs": [],
   "execution_count": 2
  },
  {
   "metadata": {
    "ExecuteTime": {
     "end_time": "2025-01-07T11:32:53.092581Z",
     "start_time": "2025-01-07T11:32:53.085992Z"
    }
   },
   "cell_type": "code",
   "source": [
    "ser_obj = pd.Series(range(20,30))\n",
    "print(ser_obj)"
   ],
   "id": "94388cfc5f5c381",
   "outputs": [
    {
     "name": "stdout",
     "output_type": "stream",
     "text": [
      "0    20\n",
      "1    21\n",
      "2    22\n",
      "3    23\n",
      "4    24\n",
      "5    25\n",
      "6    26\n",
      "7    27\n",
      "8    28\n",
      "9    29\n",
      "dtype: int64\n"
     ]
    }
   ],
   "execution_count": 5
  },
  {
   "metadata": {
    "ExecuteTime": {
     "end_time": "2025-01-07T11:33:27.232662Z",
     "start_time": "2025-01-07T11:33:27.224153Z"
    }
   },
   "cell_type": "code",
   "source": "print(ser_obj.index)",
   "id": "6a86e463c1b3140c",
   "outputs": [
    {
     "name": "stdout",
     "output_type": "stream",
     "text": [
      "RangeIndex(start=0, stop=10, step=1)\n"
     ]
    }
   ],
   "execution_count": 6
  },
  {
   "metadata": {
    "ExecuteTime": {
     "end_time": "2025-01-07T11:34:09.902717Z",
     "start_time": "2025-01-07T11:34:09.892165Z"
    }
   },
   "cell_type": "code",
   "source": [
    "print(ser_obj[0])\n",
    "print(ser_obj*2)\n",
    "print(ser_obj>25)"
   ],
   "id": "754cb6353f827605",
   "outputs": [
    {
     "name": "stdout",
     "output_type": "stream",
     "text": [
      "20\n",
      "0    40\n",
      "1    42\n",
      "2    44\n",
      "3    46\n",
      "4    48\n",
      "5    50\n",
      "6    52\n",
      "7    54\n",
      "8    56\n",
      "9    58\n",
      "dtype: int64\n",
      "0    False\n",
      "1    False\n",
      "2    False\n",
      "3    False\n",
      "4    False\n",
      "5    False\n",
      "6     True\n",
      "7     True\n",
      "8     True\n",
      "9     True\n",
      "dtype: bool\n"
     ]
    }
   ],
   "execution_count": 9
  },
  {
   "metadata": {
    "ExecuteTime": {
     "end_time": "2025-01-07T11:35:04.448521Z",
     "start_time": "2025-01-07T11:35:04.442500Z"
    }
   },
   "cell_type": "code",
   "source": [
    "year_data = {2001: 17.8, 2005: 20.1, 2003: 16.5}\n",
    "a = pd.Series(year_data)\n",
    "print(a)\n",
    "print(a.index)\n",
    "print(a.values)"
   ],
   "id": "1a0f60d58859dc2",
   "outputs": [
    {
     "name": "stdout",
     "output_type": "stream",
     "text": [
      "2001    17.8\n",
      "2005    20.1\n",
      "2003    16.5\n",
      "dtype: float64\n",
      "Index([2001, 2005, 2003], dtype='int64')\n",
      "[17.8 20.1 16.5]\n"
     ]
    }
   ],
   "execution_count": 12
  },
  {
   "metadata": {
    "ExecuteTime": {
     "end_time": "2025-01-07T11:36:19.124631Z",
     "start_time": "2025-01-07T11:36:19.116931Z"
    }
   },
   "cell_type": "code",
   "source": "print(ser_obj.head(6))",
   "id": "c51b64f2ec7e6cc2",
   "outputs": [
    {
     "name": "stdout",
     "output_type": "stream",
     "text": [
      "0    20\n",
      "1    21\n",
      "2    22\n",
      "3    23\n",
      "4    24\n",
      "5    25\n",
      "dtype: int64\n"
     ]
    }
   ],
   "execution_count": 14
  },
  {
   "metadata": {
    "ExecuteTime": {
     "end_time": "2025-01-07T11:37:38.068599Z",
     "start_time": "2025-01-07T11:37:38.062633Z"
    }
   },
   "cell_type": "code",
   "source": [
    "import numpy as np\n",
    "\n",
    "t = pd.DataFrame(np.arange(24).reshape(4,6))\n",
    "print(t)\n"
   ],
   "id": "78f72468a08ad774",
   "outputs": [
    {
     "name": "stdout",
     "output_type": "stream",
     "text": [
      "    0   1   2   3   4   5\n",
      "0   0   1   2   3   4   5\n",
      "1   6   7   8   9  10  11\n",
      "2  12  13  14  15  16  17\n",
      "3  18  19  20  21  22  23\n"
     ]
    }
   ],
   "execution_count": 18
  },
  {
   "metadata": {
    "ExecuteTime": {
     "end_time": "2025-01-07T11:38:28.460393Z",
     "start_time": "2025-01-07T11:38:28.452578Z"
    }
   },
   "cell_type": "code",
   "source": [
    "t.loc[0]\n",
    "# loc取行"
   ],
   "id": "320eace6ac991cdb",
   "outputs": [
    {
     "data": {
      "text/plain": [
       "0    0\n",
       "1    1\n",
       "2    2\n",
       "3    3\n",
       "4    4\n",
       "5    5\n",
       "Name: 0, dtype: int64"
      ]
     },
     "execution_count": 19,
     "metadata": {},
     "output_type": "execute_result"
    }
   ],
   "execution_count": 19
  },
  {
   "metadata": {
    "ExecuteTime": {
     "end_time": "2025-01-07T11:39:21.610921Z",
     "start_time": "2025-01-07T11:39:21.602772Z"
    }
   },
   "cell_type": "code",
   "source": [
    "d2 =[{\"name\" : \"xiaohong\" ,\"age\" :32,\"tel\" :10010},\n",
    "     { \"name\": \"xiaogang\" ,\"tel\": 10000} ,\n",
    "     {\"name\":\"xiaowang\" ,\"age\":22}]\n",
    "df2 = pd.DataFrame(d2)\n",
    "print(df2)\n",
    "# 所有缺失的值用Nan填充"
   ],
   "id": "566c3bb78f5e044",
   "outputs": [
    {
     "name": "stdout",
     "output_type": "stream",
     "text": [
      "       name   age      tel\n",
      "0  xiaohong  32.0  10010.0\n",
      "1  xiaogang   NaN  10000.0\n",
      "2  xiaowang  22.0      NaN\n"
     ]
    }
   ],
   "execution_count": 20
  },
  {
   "metadata": {
    "ExecuteTime": {
     "end_time": "2025-01-07T11:40:56.450247Z",
     "start_time": "2025-01-07T11:40:56.443094Z"
    }
   },
   "cell_type": "code",
   "source": [
    "pd.Series(1, index=list(range(3,7)),dtype='float32')\n",
    "# 索引从3-6 value为1 类型是float32\n"
   ],
   "id": "698cc47229a78353",
   "outputs": [
    {
     "data": {
      "text/plain": [
       "3    1.0\n",
       "4    1.0\n",
       "5    1.0\n",
       "6    1.0\n",
       "dtype: float32"
      ]
     },
     "execution_count": 21,
     "metadata": {},
     "output_type": "execute_result"
    }
   ],
   "execution_count": 21
  },
  {
   "metadata": {
    "ExecuteTime": {
     "end_time": "2025-01-07T11:42:03.488115Z",
     "start_time": "2025-01-07T11:42:03.478098Z"
    }
   },
   "cell_type": "code",
   "source": [
    "import pandas as pd\n",
    "import numpy as np\n",
    "dict_data = {'A': 1,\n",
    "             'B': pd.Timestamp('20190926'),\n",
    "             'C': pd.Series(1, index=list(range(4)),dtype='float32'),\n",
    "             'D': np.array([1,2,3,4],dtype='int32'),\n",
    "             'E': [\"Python\",\"Java\",\"C++\",\"C\"],\n",
    "             'F': 'wangdao' }\n",
    "#要么只有一个然后复制填充 要么只能和最长的相同长度 不然无法组成df\n",
    "df_obj2 = pd.DataFrame(dict_data)\n",
    "print(df_obj2)"
   ],
   "id": "3f080fb4f802c31e",
   "outputs": [
    {
     "name": "stdout",
     "output_type": "stream",
     "text": [
      "   A          B    C  D       E        F\n",
      "0  1 2019-09-26  1.0  1  Python  wangdao\n",
      "1  1 2019-09-26  1.0  2    Java  wangdao\n",
      "2  1 2019-09-26  1.0  3     C++  wangdao\n",
      "3  1 2019-09-26  1.0  4       C  wangdao\n"
     ]
    }
   ],
   "execution_count": 24
  },
  {
   "metadata": {
    "ExecuteTime": {
     "end_time": "2025-01-07T11:43:52.554953Z",
     "start_time": "2025-01-07T11:43:52.549817Z"
    }
   },
   "cell_type": "code",
   "source": [
    "print('-'*50)\n",
    "print(df_obj2.index) #行索引,重点\n",
    "#补课改变\n",
    "# df_obj2.index[0]=2  不可以单独修改某个索引值\n",
    "print(df_obj2.columns) #列索引，重点\n",
    "df_obj2.dtypes #每一列的数据类型，重点"
   ],
   "id": "87e03eaccb723f64",
   "outputs": [
    {
     "name": "stdout",
     "output_type": "stream",
     "text": [
      "--------------------------------------------------\n",
      "Index([0, 1, 2, 3], dtype='int64')\n",
      "Index(['A', 'B', 'C', 'D', 'E', 'F'], dtype='object')\n"
     ]
    },
    {
     "data": {
      "text/plain": [
       "A            int64\n",
       "B    datetime64[s]\n",
       "C          float32\n",
       "D            int32\n",
       "E           object\n",
       "F           object\n",
       "dtype: object"
      ]
     },
     "execution_count": 25,
     "metadata": {},
     "output_type": "execute_result"
    }
   ],
   "execution_count": 25
  },
  {
   "metadata": {
    "ExecuteTime": {
     "end_time": "2025-01-07T11:46:04.150152Z",
     "start_time": "2025-01-07T11:46:04.145078Z"
    }
   },
   "cell_type": "code",
   "source": [
    "ser_obj = pd.Series(range(5), index = list(\"abcde\"))\n",
    "# 索引用list\n",
    "print(ser_obj)\n",
    "ser_obj.index"
   ],
   "id": "2dbc6f7914d07a14",
   "outputs": [
    {
     "name": "stdout",
     "output_type": "stream",
     "text": [
      "a    0\n",
      "b    1\n",
      "c    2\n",
      "d    3\n",
      "e    4\n",
      "dtype: int64\n"
     ]
    },
    {
     "data": {
      "text/plain": [
       "Index(['a', 'b', 'c', 'd', 'e'], dtype='object')"
      ]
     },
     "execution_count": 27,
     "metadata": {},
     "output_type": "execute_result"
    }
   ],
   "execution_count": 27
  },
  {
   "metadata": {
    "ExecuteTime": {
     "end_time": "2025-01-07T11:47:33.546818Z",
     "start_time": "2025-01-07T11:47:33.543608Z"
    }
   },
   "cell_type": "code",
   "source": [
    "print(ser_obj['b'])\n",
    "print(ser_obj[2])\n",
    "\n",
    "print(ser_obj.loc['b']) #索引名 基于标签index\n",
    "print(ser_obj.iloc[2]) #位置索引 基于位置"
   ],
   "id": "b94d2fd1829523f5",
   "outputs": [
    {
     "name": "stdout",
     "output_type": "stream",
     "text": [
      "1\n",
      "2\n",
      "1\n",
      "2\n"
     ]
    },
    {
     "name": "stderr",
     "output_type": "stream",
     "text": [
      "C:\\Users\\false\\AppData\\Local\\Temp\\ipykernel_17288\\1514306708.py:2: FutureWarning: Series.__getitem__ treating keys as positions is deprecated. In a future version, integer keys will always be treated as labels (consistent with DataFrame behavior). To access a value by position, use `ser.iloc[pos]`\n",
      "  print(ser_obj[2])\n"
     ]
    }
   ],
   "execution_count": 30
  },
  {
   "metadata": {
    "ExecuteTime": {
     "end_time": "2025-01-07T11:49:34.757380Z",
     "start_time": "2025-01-07T11:49:34.748515Z"
    }
   },
   "cell_type": "code",
   "source": [
    "print(ser_obj.iloc[2:4])#左闭右开\n",
    "print(ser_obj.loc['b':'d'])#左闭右闭"
   ],
   "id": "d97d24a5aa9fcab",
   "outputs": [
    {
     "name": "stdout",
     "output_type": "stream",
     "text": [
      "c    2\n",
      "d    3\n",
      "dtype: int64\n",
      "b    1\n",
      "c    2\n",
      "d    3\n",
      "dtype: int64\n"
     ]
    }
   ],
   "execution_count": 32
  },
  {
   "metadata": {
    "ExecuteTime": {
     "end_time": "2025-01-07T11:49:50.154321Z",
     "start_time": "2025-01-07T11:49:50.147971Z"
    }
   },
   "cell_type": "code",
   "source": [
    "print(ser_obj.iloc[[0, 2, 4]])\n",
    "print(ser_obj.loc[['a', 'e']])\n",
    "#不连续 孤立索引某几个值"
   ],
   "id": "845fda544314c470",
   "outputs": [
    {
     "name": "stdout",
     "output_type": "stream",
     "text": [
      "a    0\n",
      "c    2\n",
      "e    4\n",
      "dtype: int64\n",
      "a    0\n",
      "e    4\n",
      "dtype: int64\n"
     ]
    }
   ],
   "execution_count": 33
  },
  {
   "metadata": {
    "ExecuteTime": {
     "end_time": "2025-01-07T11:50:24.994908Z",
     "start_time": "2025-01-07T11:50:24.990639Z"
    }
   },
   "cell_type": "code",
   "source": [
    "ser_bool = ser_obj > 2\n",
    "print(ser_obj)\n",
    "print(ser_bool)"
   ],
   "id": "42fcec1769566dc1",
   "outputs": [
    {
     "name": "stdout",
     "output_type": "stream",
     "text": [
      "a    0\n",
      "b    1\n",
      "c    2\n",
      "d    3\n",
      "e    4\n",
      "dtype: int64\n",
      "a    False\n",
      "b    False\n",
      "c    False\n",
      "d     True\n",
      "e     True\n",
      "dtype: bool\n"
     ]
    }
   ],
   "execution_count": 34
  },
  {
   "metadata": {
    "ExecuteTime": {
     "end_time": "2025-01-07T11:50:52.906419Z",
     "start_time": "2025-01-07T11:50:52.897709Z"
    }
   },
   "cell_type": "code",
   "source": [
    "print(ser_obj[ser_bool])\n",
    "\n",
    "print(ser_obj[ser_obj > 2])"
   ],
   "id": "be77e6bdfa4466a8",
   "outputs": [
    {
     "name": "stdout",
     "output_type": "stream",
     "text": [
      "--------------------------------------------------\n",
      "d    3\n",
      "e    4\n",
      "dtype: int64\n",
      "d    3\n",
      "e    4\n",
      "dtype: int64\n"
     ]
    }
   ],
   "execution_count": 35
  },
  {
   "metadata": {
    "ExecuteTime": {
     "end_time": "2025-01-07T11:51:48.424224Z",
     "start_time": "2025-01-07T11:51:48.413758Z"
    }
   },
   "cell_type": "code",
   "source": [
    "import numpy as np\n",
    "df_obj = pd.DataFrame(np.random.randn(5,4),columns = ['a', 'b', 'c', 'd'])\n",
    "print(df_obj.head())"
   ],
   "id": "f99036e953fc1fc7",
   "outputs": [
    {
     "name": "stdout",
     "output_type": "stream",
     "text": [
      "          a         b         c         d\n",
      "0 -0.269847 -0.126677  1.615697 -0.147560\n",
      "1  1.516070  0.039275 -0.611703 -0.513445\n",
      "2 -0.834158 -1.029798  0.266650 -0.445237\n",
      "3 -0.244759  1.941383 -0.296231 -0.205164\n",
      "4  0.651034 -0.375662  0.138749  0.328616\n"
     ]
    }
   ],
   "execution_count": 40
  },
  {
   "metadata": {
    "ExecuteTime": {
     "end_time": "2025-01-07T11:52:18.848448Z",
     "start_time": "2025-01-07T11:52:18.843648Z"
    }
   },
   "cell_type": "code",
   "source": [
    "print(df_obj['a']) # 返回Series类型\n",
    "print('-'*50)\n",
    "print(df_obj[['a']]) # 返回DataFrame类型\n",
    "print('-'*50)\n",
    "print(type(df_obj[['a']])) # 返回DataFrame类型"
   ],
   "id": "764824df7ac08393",
   "outputs": [
    {
     "name": "stdout",
     "output_type": "stream",
     "text": [
      "0   -0.269847\n",
      "1    1.516070\n",
      "2   -0.834158\n",
      "3   -0.244759\n",
      "4    0.651034\n",
      "Name: a, dtype: float64\n",
      "--------------------------------------------------\n",
      "          a\n",
      "0 -0.269847\n",
      "1  1.516070\n",
      "2 -0.834158\n",
      "3 -0.244759\n",
      "4  0.651034\n",
      "--------------------------------------------------\n",
      "<class 'pandas.core.frame.DataFrame'>\n"
     ]
    }
   ],
   "execution_count": 41
  },
  {
   "metadata": {
    "ExecuteTime": {
     "end_time": "2025-01-07T11:54:49.152258Z",
     "start_time": "2025-01-07T11:54:49.144188Z"
    }
   },
   "cell_type": "code",
   "source": [
    "print(ser_obj)\n",
    "print(ser_obj['b':'d'])\n",
    "print(ser_obj.loc['b':'d']) #前闭后闭\n",
    "print('-'*50)"
   ],
   "id": "346f7eb6d7941c23",
   "outputs": [
    {
     "name": "stdout",
     "output_type": "stream",
     "text": [
      "a    0\n",
      "b    1\n",
      "c    2\n",
      "d    3\n",
      "e    4\n",
      "dtype: int64\n",
      "b    1\n",
      "c    2\n",
      "d    3\n",
      "dtype: int64\n",
      "b    1\n",
      "c    2\n",
      "d    3\n",
      "dtype: int64\n",
      "--------------------------------------------------\n"
     ]
    }
   ],
   "execution_count": 44
  },
  {
   "metadata": {
    "ExecuteTime": {
     "end_time": "2025-01-07T11:55:17.300318Z",
     "start_time": "2025-01-07T11:55:17.294092Z"
    }
   },
   "cell_type": "code",
   "source": [
    "# DataFrame\n",
    "df_obj = pd.DataFrame(np.random.randn(5,4),\n",
    "                      columns = list('abcd'),\n",
    "                      index=list('abcde'))\n",
    "print(df_obj)\n",
    "print('-'*50)\n",
    "print(df_obj['a'])  #建议不用,拿的是列\n",
    "print('-'*50)\n",
    "print(df_obj.loc['a'])  #拿的是行\n",
    "print('-'*50)"
   ],
   "id": "43e445f5cc90a21",
   "outputs": [
    {
     "name": "stdout",
     "output_type": "stream",
     "text": [
      "          a         b         c         d\n",
      "a  0.008220  0.516273  0.367423 -0.715199\n",
      "b  0.405385  0.761269 -1.102424 -0.208099\n",
      "c -1.034216  1.220053 -0.288667  0.957219\n",
      "d -1.060687 -1.048209 -0.106439 -0.932718\n",
      "e  0.836660 -0.259946 -1.144317  0.706911\n",
      "--------------------------------------------------\n",
      "a    0.008220\n",
      "b    0.405385\n",
      "c   -1.034216\n",
      "d   -1.060687\n",
      "e    0.836660\n",
      "Name: a, dtype: float64\n",
      "--------------------------------------------------\n",
      "a    0.008220\n",
      "b    0.516273\n",
      "c    0.367423\n",
      "d   -0.715199\n",
      "Name: a, dtype: float64\n",
      "--------------------------------------------------\n"
     ]
    }
   ],
   "execution_count": 45
  },
  {
   "metadata": {
    "ExecuteTime": {
     "end_time": "2025-01-07T11:56:00.305901Z",
     "start_time": "2025-01-07T11:56:00.293860Z"
    }
   },
   "cell_type": "code",
   "source": [
    "print(df_obj.loc['a':'c', 'b':'d']) #连续索引\n",
    "print(df_obj.loc[['a','c'], ['b','d']]) #不连续索引\n",
    "print(df_obj.loc[['c'],['b']]) #取一个值,返回的是DataFrame类型\n",
    "print(df_obj.loc['c','b'])  #取一个值"
   ],
   "id": "48a11bf45ac21aa3",
   "outputs": [
    {
     "name": "stdout",
     "output_type": "stream",
     "text": [
      "          b         c         d\n",
      "a  0.516273  0.367423 -0.715199\n",
      "b  0.761269 -1.102424 -0.208099\n",
      "c  1.220053 -0.288667  0.957219\n",
      "          b         d\n",
      "a  0.516273 -0.715199\n",
      "c  1.220053  0.957219\n",
      "          b\n",
      "c  1.220053\n",
      "1.2200525678793332\n"
     ]
    }
   ],
   "execution_count": 46
  },
  {
   "metadata": {
    "ExecuteTime": {
     "end_time": "2025-01-07T11:57:29.426219Z",
     "start_time": "2025-01-07T11:57:29.420179Z"
    }
   },
   "cell_type": "code",
   "source": [
    "print(ser_obj)\n",
    "print('-'*50)\n",
    "# Series\n",
    "print(ser_obj[1:3])\n",
    "print('-'*50)\n",
    "print(ser_obj.iloc[1:3]) # 前闭后开[)，效率高"
   ],
   "id": "438064d2466f84f9",
   "outputs": [
    {
     "name": "stdout",
     "output_type": "stream",
     "text": [
      "a    0\n",
      "b    1\n",
      "c    2\n",
      "d    3\n",
      "e    4\n",
      "dtype: int64\n",
      "--------------------------------------------------\n",
      "b    1\n",
      "c    2\n",
      "dtype: int64\n",
      "--------------------------------------------------\n",
      "b    1\n",
      "c    2\n",
      "dtype: int64\n"
     ]
    }
   ],
   "execution_count": 47
  },
  {
   "metadata": {
    "ExecuteTime": {
     "end_time": "2025-01-07T11:58:20.399052Z",
     "start_time": "2025-01-07T11:58:20.387485Z"
    }
   },
   "cell_type": "code",
   "source": [
    "#没有设置行和列索引的DataFrame，iloc和loc的区别\n",
    "df_obj2 = pd.DataFrame(np.random.randn(5,4))\n",
    "print(df_obj2)\n",
    "print('-'*50)\n",
    "print(df_obj2.iloc[0:2]) #左闭右开 2行\n",
    "print('-'*50)\n",
    "print(df_obj2.loc[0:2]) #左闭右闭 3行"
   ],
   "id": "f1b76219473540dc",
   "outputs": [
    {
     "name": "stdout",
     "output_type": "stream",
     "text": [
      "          0         1         2         3\n",
      "0  0.091029  0.766962 -1.587988 -1.035522\n",
      "1  0.591317 -0.073449 -0.954192 -0.072298\n",
      "2  1.754613 -0.351928  1.169612 -1.423126\n",
      "3  0.097235 -0.396353 -1.707458 -0.787599\n",
      "4  1.557780  1.058363  0.787559 -1.227503\n",
      "--------------------------------------------------\n",
      "          0         1         2         3\n",
      "0  0.091029  0.766962 -1.587988 -1.035522\n",
      "1  0.591317 -0.073449 -0.954192 -0.072298\n",
      "--------------------------------------------------\n",
      "          0         1         2         3\n",
      "0  0.091029  0.766962 -1.587988 -1.035522\n",
      "1  0.591317 -0.073449 -0.954192 -0.072298\n",
      "2  1.754613 -0.351928  1.169612 -1.423126\n"
     ]
    }
   ],
   "execution_count": 48
  },
  {
   "metadata": {
    "ExecuteTime": {
     "end_time": "2025-01-07T11:59:21.843296Z",
     "start_time": "2025-01-07T11:59:21.837024Z"
    }
   },
   "cell_type": "code",
   "source": [
    "import pandas as pd\n",
    "import numpy as np\n",
    "# Numpy ufunc 函数，randn跟的是维数\n",
    "df = pd.DataFrame(np.random.randn(5,4) - 1)\n",
    "# 所有元素减1\n",
    "print(df)\n",
    "\n",
    "print(np.abs(df)) #绝对值函数"
   ],
   "id": "ec690ac0e6baa819",
   "outputs": [
    {
     "name": "stdout",
     "output_type": "stream",
     "text": [
      "          0         1         2         3\n",
      "0 -1.792423 -2.309132 -2.264142 -0.367231\n",
      "1 -3.359096 -1.548119 -0.939290 -0.883522\n",
      "2 -2.425038 -1.364964 -0.248354 -2.366988\n",
      "3 -0.704849 -1.602749 -1.300334 -1.746099\n",
      "4 -0.742789 -1.400021 -1.996742 -0.900642\n",
      "          0         1         2         3\n",
      "0  1.792423  2.309132  2.264142  0.367231\n",
      "1  3.359096  1.548119  0.939290  0.883522\n",
      "2  2.425038  1.364964  0.248354  2.366988\n",
      "3  0.704849  1.602749  1.300334  1.746099\n",
      "4  0.742789  1.400021  1.996742  0.900642\n"
     ]
    }
   ],
   "execution_count": 49
  },
  {
   "metadata": {
    "ExecuteTime": {
     "end_time": "2025-01-07T12:01:11.389998Z",
     "start_time": "2025-01-07T12:01:11.385631Z"
    }
   },
   "cell_type": "code",
   "source": [
    "print(df.apply(lambda x:x.max()))\n",
    "\n",
    "print(df.apply(lambda x : x.max(), axis=1))"
   ],
   "id": "e93fc2b1977f84b9",
   "outputs": [
    {
     "name": "stdout",
     "output_type": "stream",
     "text": [
      "0   -0.704849\n",
      "1   -1.364964\n",
      "2   -0.248354\n",
      "3   -0.367231\n",
      "dtype: float64\n",
      "0   -0.367231\n",
      "1   -0.883522\n",
      "2   -0.248354\n",
      "3   -0.704849\n",
      "4   -0.742789\n",
      "dtype: float64\n"
     ]
    }
   ],
   "execution_count": 51
  },
  {
   "metadata": {
    "ExecuteTime": {
     "end_time": "2025-01-07T12:01:42.554725Z",
     "start_time": "2025-01-07T12:01:42.549240Z"
    }
   },
   "cell_type": "code",
   "source": [
    "print(df.map(lambda x : '%.2f' % x))\n",
    "df.dtypes"
   ],
   "id": "87564fb76531b753",
   "outputs": [
    {
     "name": "stdout",
     "output_type": "stream",
     "text": [
      "       0      1      2      3\n",
      "0  -1.79  -2.31  -2.26  -0.37\n",
      "1  -3.36  -1.55  -0.94  -0.88\n",
      "2  -2.43  -1.36  -0.25  -2.37\n",
      "3  -0.70  -1.60  -1.30  -1.75\n",
      "4  -0.74  -1.40  -2.00  -0.90\n"
     ]
    },
    {
     "data": {
      "text/plain": [
       "0    float64\n",
       "1    float64\n",
       "2    float64\n",
       "3    float64\n",
       "dtype: object"
      ]
     },
     "execution_count": 52,
     "metadata": {},
     "output_type": "execute_result"
    }
   ],
   "execution_count": 52
  }
 ],
 "metadata": {
  "kernelspec": {
   "display_name": "Python 3",
   "language": "python",
   "name": "python3"
  },
  "language_info": {
   "codemirror_mode": {
    "name": "ipython",
    "version": 2
   },
   "file_extension": ".py",
   "mimetype": "text/x-python",
   "name": "python",
   "nbconvert_exporter": "python",
   "pygments_lexer": "ipython2",
   "version": "2.7.6"
  }
 },
 "nbformat": 4,
 "nbformat_minor": 5
}
