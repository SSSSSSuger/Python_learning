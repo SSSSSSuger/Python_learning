{
 "cells": [
  {
   "cell_type": "code",
   "id": "initial_id",
   "metadata": {
    "collapsed": true,
    "ExecuteTime": {
     "end_time": "2025-01-10T11:27:08.683820Z",
     "start_time": "2025-01-10T11:27:07.359208Z"
    }
   },
   "source": [
    "import time\n",
    "\n",
    "from sklearn.datasets import load_iris, fetch_20newsgroups, fetch_california_housing\n",
    "from sklearn.model_selection import train_test_split, GridSearchCV\n",
    "from sklearn.neighbors import KNeighborsClassifier\n",
    "from sklearn.preprocessing import StandardScaler\n",
    "from sklearn.feature_extraction.text import TfidfVectorizer\n",
    "from sklearn.naive_bayes import MultinomialNB\n",
    "from sklearn.metrics import classification_report\n",
    "from sklearn.feature_extraction import DictVectorizer\n",
    "from sklearn.tree import DecisionTreeClassifier, export_graphviz\n",
    "from sklearn.ensemble import RandomForestClassifier\n",
    "import pandas as pd\n",
    "import numpy as np\n",
    "from sklearn.metrics import roc_auc_score"
   ],
   "outputs": [],
   "execution_count": 1
  },
  {
   "metadata": {
    "ExecuteTime": {
     "end_time": "2025-01-10T11:27:17.891394Z",
     "start_time": "2025-01-10T11:27:08.684825Z"
    }
   },
   "cell_type": "code",
   "source": [
    "# K近邻\n",
    "\"\"\"\n",
    "K-近邻预测用户签到位置\n",
    ":return:None\n",
    "\"\"\"\n",
    "# 读取数据\n",
    "data = pd.read_csv(\"train.csv\")\n",
    "\n",
    "print(data.head(10))\n",
    "print(data.shape)\n",
    "print(data.info())\n",
    "# 处理数据\n",
    "# 1、缩小数据,查询数据,为了减少计算时间\n",
    "data = data.query(\"x > 2.0 &  x < 2.25 & y > 2.5 & y < 2.75\")"
   ],
   "id": "d4f26e0e4b9b6fc1",
   "outputs": [
    {
     "name": "stdout",
     "output_type": "stream",
     "text": [
      "   row_id       x       y  accuracy    time    place_id\n",
      "0       0  0.7941  9.0809        54  470702  8523065625\n",
      "1       1  5.9567  4.7968        13  186555  1757726713\n",
      "2       2  8.3078  7.0407        74  322648  1137537235\n",
      "3       3  7.3665  2.5165        65  704587  6567393236\n",
      "4       4  4.0961  1.1307        31  472130  7440663949\n",
      "5       5  3.8099  1.9586        75  178065  6289802927\n",
      "6       6  6.3336  4.3720        13  666829  9931249544\n",
      "7       7  5.7409  6.7697        85  369002  5662813655\n",
      "8       8  4.3114  6.9410         3  166384  8471780938\n",
      "9       9  6.3414  0.0758        65  400060  1253803156\n",
      "(29118021, 6)\n",
      "<class 'pandas.core.frame.DataFrame'>\n",
      "RangeIndex: 29118021 entries, 0 to 29118020\n",
      "Data columns (total 6 columns):\n",
      " #   Column    Dtype  \n",
      "---  ------    -----  \n",
      " 0   row_id    int64  \n",
      " 1   x         float64\n",
      " 2   y         float64\n",
      " 3   accuracy  int64  \n",
      " 4   time      int64  \n",
      " 5   place_id  int64  \n",
      "dtypes: float64(2), int64(4)\n",
      "memory usage: 1.3 GB\n",
      "None\n"
     ]
    }
   ],
   "execution_count": 2
  },
  {
   "metadata": {
    "ExecuteTime": {
     "end_time": "2025-01-10T11:27:17.896400Z",
     "start_time": "2025-01-10T11:27:17.891394Z"
    }
   },
   "cell_type": "code",
   "source": "data.shape",
   "id": "fe6fa32c657c5d76",
   "outputs": [
    {
     "data": {
      "text/plain": [
       "(16068, 6)"
      ]
     },
     "execution_count": 3,
     "metadata": {},
     "output_type": "execute_result"
    }
   ],
   "execution_count": 3
  },
  {
   "metadata": {
    "ExecuteTime": {
     "end_time": "2025-01-10T11:27:17.914319Z",
     "start_time": "2025-01-10T11:27:17.896400Z"
    }
   },
   "cell_type": "code",
   "source": "data.describe()",
   "id": "d5261c706a01037a",
   "outputs": [
    {
     "data": {
      "text/plain": [
       "             row_id             x             y      accuracy           time  \\\n",
       "count  1.606800e+04  16068.000000  16068.000000  16068.000000   16068.000000   \n",
       "mean   1.459072e+07      2.126385      2.626873     82.986557  420393.863829   \n",
       "std    8.420166e+06      0.073003      0.070087    118.557430  228646.985800   \n",
       "min    2.101000e+03      2.000100      2.500100      1.000000      58.000000   \n",
       "25%    7.295210e+06      2.062600      2.565675     24.000000  212949.750000   \n",
       "50%    1.463582e+07      2.124100      2.634700     62.000000  428691.500000   \n",
       "75%    2.192291e+07      2.192400      2.682300     76.000000  622458.000000   \n",
       "max    2.911724e+07      2.249900      2.749900   1010.000000  786211.000000   \n",
       "\n",
       "           place_id  \n",
       "count  1.606800e+04  \n",
       "mean   5.608534e+09  \n",
       "std    2.484970e+09  \n",
       "min    1.000617e+09  \n",
       "25%    3.143663e+09  \n",
       "50%    6.015971e+09  \n",
       "75%    7.651100e+09  \n",
       "max    9.998058e+09  "
      ],
      "text/html": [
       "<div>\n",
       "<style scoped>\n",
       "    .dataframe tbody tr th:only-of-type {\n",
       "        vertical-align: middle;\n",
       "    }\n",
       "\n",
       "    .dataframe tbody tr th {\n",
       "        vertical-align: top;\n",
       "    }\n",
       "\n",
       "    .dataframe thead th {\n",
       "        text-align: right;\n",
       "    }\n",
       "</style>\n",
       "<table border=\"1\" class=\"dataframe\">\n",
       "  <thead>\n",
       "    <tr style=\"text-align: right;\">\n",
       "      <th></th>\n",
       "      <th>row_id</th>\n",
       "      <th>x</th>\n",
       "      <th>y</th>\n",
       "      <th>accuracy</th>\n",
       "      <th>time</th>\n",
       "      <th>place_id</th>\n",
       "    </tr>\n",
       "  </thead>\n",
       "  <tbody>\n",
       "    <tr>\n",
       "      <th>count</th>\n",
       "      <td>1.606800e+04</td>\n",
       "      <td>16068.000000</td>\n",
       "      <td>16068.000000</td>\n",
       "      <td>16068.000000</td>\n",
       "      <td>16068.000000</td>\n",
       "      <td>1.606800e+04</td>\n",
       "    </tr>\n",
       "    <tr>\n",
       "      <th>mean</th>\n",
       "      <td>1.459072e+07</td>\n",
       "      <td>2.126385</td>\n",
       "      <td>2.626873</td>\n",
       "      <td>82.986557</td>\n",
       "      <td>420393.863829</td>\n",
       "      <td>5.608534e+09</td>\n",
       "    </tr>\n",
       "    <tr>\n",
       "      <th>std</th>\n",
       "      <td>8.420166e+06</td>\n",
       "      <td>0.073003</td>\n",
       "      <td>0.070087</td>\n",
       "      <td>118.557430</td>\n",
       "      <td>228646.985800</td>\n",
       "      <td>2.484970e+09</td>\n",
       "    </tr>\n",
       "    <tr>\n",
       "      <th>min</th>\n",
       "      <td>2.101000e+03</td>\n",
       "      <td>2.000100</td>\n",
       "      <td>2.500100</td>\n",
       "      <td>1.000000</td>\n",
       "      <td>58.000000</td>\n",
       "      <td>1.000617e+09</td>\n",
       "    </tr>\n",
       "    <tr>\n",
       "      <th>25%</th>\n",
       "      <td>7.295210e+06</td>\n",
       "      <td>2.062600</td>\n",
       "      <td>2.565675</td>\n",
       "      <td>24.000000</td>\n",
       "      <td>212949.750000</td>\n",
       "      <td>3.143663e+09</td>\n",
       "    </tr>\n",
       "    <tr>\n",
       "      <th>50%</th>\n",
       "      <td>1.463582e+07</td>\n",
       "      <td>2.124100</td>\n",
       "      <td>2.634700</td>\n",
       "      <td>62.000000</td>\n",
       "      <td>428691.500000</td>\n",
       "      <td>6.015971e+09</td>\n",
       "    </tr>\n",
       "    <tr>\n",
       "      <th>75%</th>\n",
       "      <td>2.192291e+07</td>\n",
       "      <td>2.192400</td>\n",
       "      <td>2.682300</td>\n",
       "      <td>76.000000</td>\n",
       "      <td>622458.000000</td>\n",
       "      <td>7.651100e+09</td>\n",
       "    </tr>\n",
       "    <tr>\n",
       "      <th>max</th>\n",
       "      <td>2.911724e+07</td>\n",
       "      <td>2.249900</td>\n",
       "      <td>2.749900</td>\n",
       "      <td>1010.000000</td>\n",
       "      <td>786211.000000</td>\n",
       "      <td>9.998058e+09</td>\n",
       "    </tr>\n",
       "  </tbody>\n",
       "</table>\n",
       "</div>"
      ]
     },
     "execution_count": 4,
     "metadata": {},
     "output_type": "execute_result"
    }
   ],
   "execution_count": 4
  },
  {
   "metadata": {
    "ExecuteTime": {
     "end_time": "2025-01-10T11:27:17.920552Z",
     "start_time": "2025-01-10T11:27:17.915325Z"
    }
   },
   "cell_type": "code",
   "source": [
    "time_value = pd.to_datetime(data['time'], unit='s')\n",
    "print(time_value.head(10))\n"
   ],
   "id": "118f07bb49ac835b",
   "outputs": [
    {
     "name": "stdout",
     "output_type": "stream",
     "text": [
      "2101    1970-01-04 23:46:01\n",
      "2273    1970-01-05 14:06:01\n",
      "3154    1970-01-05 00:30:19\n",
      "4209    1970-01-06 21:00:22\n",
      "8453    1970-01-01 23:16:23\n",
      "9362    1970-01-08 04:57:48\n",
      "10075   1970-01-08 08:31:59\n",
      "10095   1970-01-02 10:09:20\n",
      "10479   1970-01-08 23:27:34\n",
      "12178   1970-01-08 06:29:41\n",
      "Name: time, dtype: datetime64[ns]\n"
     ]
    }
   ],
   "execution_count": 5
  },
  {
   "metadata": {
    "ExecuteTime": {
     "end_time": "2025-01-10T11:27:17.926559Z",
     "start_time": "2025-01-10T11:27:17.920552Z"
    }
   },
   "cell_type": "code",
   "source": [
    "time_value = pd.DatetimeIndex(time_value)\n",
    "\n",
    "print('-' * 50)\n",
    "print(time_value[0:10])"
   ],
   "id": "ddfeaa5fb2a8eb75",
   "outputs": [
    {
     "name": "stdout",
     "output_type": "stream",
     "text": [
      "--------------------------------------------------\n",
      "DatetimeIndex(['1970-01-04 23:46:01', '1970-01-05 14:06:01',\n",
      "               '1970-01-05 00:30:19', '1970-01-06 21:00:22',\n",
      "               '1970-01-01 23:16:23', '1970-01-08 04:57:48',\n",
      "               '1970-01-08 08:31:59', '1970-01-02 10:09:20',\n",
      "               '1970-01-08 23:27:34', '1970-01-08 06:29:41'],\n",
      "              dtype='datetime64[ns]', name='time', freq=None)\n"
     ]
    }
   ],
   "execution_count": 6
  },
  {
   "metadata": {
    "ExecuteTime": {
     "end_time": "2025-01-10T11:27:17.931076Z",
     "start_time": "2025-01-10T11:27:17.926559Z"
    }
   },
   "cell_type": "code",
   "source": [
    "print('-' * 50)\n",
    "# 构造一些特征，执行的警告是因为我们的操作是复制，loc是直接放入\n",
    "print(type(data))"
   ],
   "id": "c697de727298aa2f",
   "outputs": [
    {
     "name": "stdout",
     "output_type": "stream",
     "text": [
      "--------------------------------------------------\n",
      "<class 'pandas.core.frame.DataFrame'>\n"
     ]
    }
   ],
   "execution_count": 7
  },
  {
   "metadata": {
    "ExecuteTime": {
     "end_time": "2025-01-10T11:27:17.938860Z",
     "start_time": "2025-01-10T11:27:17.931076Z"
    }
   },
   "cell_type": "code",
   "source": [
    "data.insert(data.shape[1], 'day', time_value.day)\n",
    "data.insert(data.shape[1], 'hour', time_value.hour)#是否去一个地方打卡，早上，中午，晚上是有影响的\n",
    "data.insert(data.shape[1], 'weekday', time_value.weekday) "
   ],
   "id": "56b174efdb87e03",
   "outputs": [],
   "execution_count": 8
  },
  {
   "metadata": {
    "ExecuteTime": {
     "end_time": "2025-01-10T11:27:17.946956Z",
     "start_time": "2025-01-10T11:27:17.938860Z"
    }
   },
   "cell_type": "code",
   "source": [
    "data = data.drop(['time'], axis=1)\n",
    "print('-' * 50)\n",
    "data.head()"
   ],
   "id": "8d13147199010b54",
   "outputs": [
    {
     "name": "stdout",
     "output_type": "stream",
     "text": [
      "--------------------------------------------------\n"
     ]
    },
    {
     "data": {
      "text/plain": [
       "      row_id       x       y  accuracy    place_id  day  hour  weekday\n",
       "2101    2101  2.2326  2.6215        55  2119626770    4    23        6\n",
       "2273    2273  2.0903  2.6981       166  8054130031    5    14        0\n",
       "3154    3154  2.2383  2.7305        64  1727040747    5     0        0\n",
       "4209    4209  2.2111  2.5478        22  5689129232    6    21        1\n",
       "8453    8453  2.2012  2.6419        42  7926938948    1    23        3"
      ],
      "text/html": [
       "<div>\n",
       "<style scoped>\n",
       "    .dataframe tbody tr th:only-of-type {\n",
       "        vertical-align: middle;\n",
       "    }\n",
       "\n",
       "    .dataframe tbody tr th {\n",
       "        vertical-align: top;\n",
       "    }\n",
       "\n",
       "    .dataframe thead th {\n",
       "        text-align: right;\n",
       "    }\n",
       "</style>\n",
       "<table border=\"1\" class=\"dataframe\">\n",
       "  <thead>\n",
       "    <tr style=\"text-align: right;\">\n",
       "      <th></th>\n",
       "      <th>row_id</th>\n",
       "      <th>x</th>\n",
       "      <th>y</th>\n",
       "      <th>accuracy</th>\n",
       "      <th>place_id</th>\n",
       "      <th>day</th>\n",
       "      <th>hour</th>\n",
       "      <th>weekday</th>\n",
       "    </tr>\n",
       "  </thead>\n",
       "  <tbody>\n",
       "    <tr>\n",
       "      <th>2101</th>\n",
       "      <td>2101</td>\n",
       "      <td>2.2326</td>\n",
       "      <td>2.6215</td>\n",
       "      <td>55</td>\n",
       "      <td>2119626770</td>\n",
       "      <td>4</td>\n",
       "      <td>23</td>\n",
       "      <td>6</td>\n",
       "    </tr>\n",
       "    <tr>\n",
       "      <th>2273</th>\n",
       "      <td>2273</td>\n",
       "      <td>2.0903</td>\n",
       "      <td>2.6981</td>\n",
       "      <td>166</td>\n",
       "      <td>8054130031</td>\n",
       "      <td>5</td>\n",
       "      <td>14</td>\n",
       "      <td>0</td>\n",
       "    </tr>\n",
       "    <tr>\n",
       "      <th>3154</th>\n",
       "      <td>3154</td>\n",
       "      <td>2.2383</td>\n",
       "      <td>2.7305</td>\n",
       "      <td>64</td>\n",
       "      <td>1727040747</td>\n",
       "      <td>5</td>\n",
       "      <td>0</td>\n",
       "      <td>0</td>\n",
       "    </tr>\n",
       "    <tr>\n",
       "      <th>4209</th>\n",
       "      <td>4209</td>\n",
       "      <td>2.2111</td>\n",
       "      <td>2.5478</td>\n",
       "      <td>22</td>\n",
       "      <td>5689129232</td>\n",
       "      <td>6</td>\n",
       "      <td>21</td>\n",
       "      <td>1</td>\n",
       "    </tr>\n",
       "    <tr>\n",
       "      <th>8453</th>\n",
       "      <td>8453</td>\n",
       "      <td>2.2012</td>\n",
       "      <td>2.6419</td>\n",
       "      <td>42</td>\n",
       "      <td>7926938948</td>\n",
       "      <td>1</td>\n",
       "      <td>23</td>\n",
       "      <td>3</td>\n",
       "    </tr>\n",
       "  </tbody>\n",
       "</table>\n",
       "</div>"
      ]
     },
     "execution_count": 9,
     "metadata": {},
     "output_type": "execute_result"
    }
   ],
   "execution_count": 9
  },
  {
   "metadata": {
    "ExecuteTime": {
     "end_time": "2025-01-10T11:27:17.952303Z",
     "start_time": "2025-01-10T11:27:17.946956Z"
    }
   },
   "cell_type": "code",
   "source": [
    "per = pd.Period('2025-01-10 18:00', 'h')\n",
    "per.weekday"
   ],
   "id": "dc776bab515ccb52",
   "outputs": [
    {
     "data": {
      "text/plain": [
       "4"
      ]
     },
     "execution_count": 10,
     "metadata": {},
     "output_type": "execute_result"
    }
   ],
   "execution_count": 10
  },
  {
   "metadata": {
    "ExecuteTime": {
     "end_time": "2025-01-10T11:27:17.972238Z",
     "start_time": "2025-01-10T11:27:17.952303Z"
    }
   },
   "cell_type": "code",
   "source": "data.describe()",
   "id": "67e9fa325851eeca",
   "outputs": [
    {
     "data": {
      "text/plain": [
       "             row_id             x             y      accuracy      place_id  \\\n",
       "count  1.606800e+04  16068.000000  16068.000000  16068.000000  1.606800e+04   \n",
       "mean   1.459072e+07      2.126385      2.626873     82.986557  5.608534e+09   \n",
       "std    8.420166e+06      0.073003      0.070087    118.557430  2.484970e+09   \n",
       "min    2.101000e+03      2.000100      2.500100      1.000000  1.000617e+09   \n",
       "25%    7.295210e+06      2.062600      2.565675     24.000000  3.143663e+09   \n",
       "50%    1.463582e+07      2.124100      2.634700     62.000000  6.015971e+09   \n",
       "75%    2.192291e+07      2.192400      2.682300     76.000000  7.651100e+09   \n",
       "max    2.911724e+07      2.249900      2.749900   1010.000000  9.998058e+09   \n",
       "\n",
       "                day          hour       weekday  \n",
       "count  16068.000000  16068.000000  16068.000000  \n",
       "mean       5.367065     11.462659      3.133869  \n",
       "std        2.644881      6.906369      1.765577  \n",
       "min        1.000000      0.000000      0.000000  \n",
       "25%        3.000000      6.000000      2.000000  \n",
       "50%        5.000000     12.000000      3.000000  \n",
       "75%        8.000000     17.000000      4.000000  \n",
       "max       10.000000     23.000000      6.000000  "
      ],
      "text/html": [
       "<div>\n",
       "<style scoped>\n",
       "    .dataframe tbody tr th:only-of-type {\n",
       "        vertical-align: middle;\n",
       "    }\n",
       "\n",
       "    .dataframe tbody tr th {\n",
       "        vertical-align: top;\n",
       "    }\n",
       "\n",
       "    .dataframe thead th {\n",
       "        text-align: right;\n",
       "    }\n",
       "</style>\n",
       "<table border=\"1\" class=\"dataframe\">\n",
       "  <thead>\n",
       "    <tr style=\"text-align: right;\">\n",
       "      <th></th>\n",
       "      <th>row_id</th>\n",
       "      <th>x</th>\n",
       "      <th>y</th>\n",
       "      <th>accuracy</th>\n",
       "      <th>place_id</th>\n",
       "      <th>day</th>\n",
       "      <th>hour</th>\n",
       "      <th>weekday</th>\n",
       "    </tr>\n",
       "  </thead>\n",
       "  <tbody>\n",
       "    <tr>\n",
       "      <th>count</th>\n",
       "      <td>1.606800e+04</td>\n",
       "      <td>16068.000000</td>\n",
       "      <td>16068.000000</td>\n",
       "      <td>16068.000000</td>\n",
       "      <td>1.606800e+04</td>\n",
       "      <td>16068.000000</td>\n",
       "      <td>16068.000000</td>\n",
       "      <td>16068.000000</td>\n",
       "    </tr>\n",
       "    <tr>\n",
       "      <th>mean</th>\n",
       "      <td>1.459072e+07</td>\n",
       "      <td>2.126385</td>\n",
       "      <td>2.626873</td>\n",
       "      <td>82.986557</td>\n",
       "      <td>5.608534e+09</td>\n",
       "      <td>5.367065</td>\n",
       "      <td>11.462659</td>\n",
       "      <td>3.133869</td>\n",
       "    </tr>\n",
       "    <tr>\n",
       "      <th>std</th>\n",
       "      <td>8.420166e+06</td>\n",
       "      <td>0.073003</td>\n",
       "      <td>0.070087</td>\n",
       "      <td>118.557430</td>\n",
       "      <td>2.484970e+09</td>\n",
       "      <td>2.644881</td>\n",
       "      <td>6.906369</td>\n",
       "      <td>1.765577</td>\n",
       "    </tr>\n",
       "    <tr>\n",
       "      <th>min</th>\n",
       "      <td>2.101000e+03</td>\n",
       "      <td>2.000100</td>\n",
       "      <td>2.500100</td>\n",
       "      <td>1.000000</td>\n",
       "      <td>1.000617e+09</td>\n",
       "      <td>1.000000</td>\n",
       "      <td>0.000000</td>\n",
       "      <td>0.000000</td>\n",
       "    </tr>\n",
       "    <tr>\n",
       "      <th>25%</th>\n",
       "      <td>7.295210e+06</td>\n",
       "      <td>2.062600</td>\n",
       "      <td>2.565675</td>\n",
       "      <td>24.000000</td>\n",
       "      <td>3.143663e+09</td>\n",
       "      <td>3.000000</td>\n",
       "      <td>6.000000</td>\n",
       "      <td>2.000000</td>\n",
       "    </tr>\n",
       "    <tr>\n",
       "      <th>50%</th>\n",
       "      <td>1.463582e+07</td>\n",
       "      <td>2.124100</td>\n",
       "      <td>2.634700</td>\n",
       "      <td>62.000000</td>\n",
       "      <td>6.015971e+09</td>\n",
       "      <td>5.000000</td>\n",
       "      <td>12.000000</td>\n",
       "      <td>3.000000</td>\n",
       "    </tr>\n",
       "    <tr>\n",
       "      <th>75%</th>\n",
       "      <td>2.192291e+07</td>\n",
       "      <td>2.192400</td>\n",
       "      <td>2.682300</td>\n",
       "      <td>76.000000</td>\n",
       "      <td>7.651100e+09</td>\n",
       "      <td>8.000000</td>\n",
       "      <td>17.000000</td>\n",
       "      <td>4.000000</td>\n",
       "    </tr>\n",
       "    <tr>\n",
       "      <th>max</th>\n",
       "      <td>2.911724e+07</td>\n",
       "      <td>2.249900</td>\n",
       "      <td>2.749900</td>\n",
       "      <td>1010.000000</td>\n",
       "      <td>9.998058e+09</td>\n",
       "      <td>10.000000</td>\n",
       "      <td>23.000000</td>\n",
       "      <td>6.000000</td>\n",
       "    </tr>\n",
       "  </tbody>\n",
       "</table>\n",
       "</div>"
      ]
     },
     "execution_count": 11,
     "metadata": {},
     "output_type": "execute_result"
    }
   ],
   "execution_count": 11
  },
  {
   "metadata": {
    "ExecuteTime": {
     "end_time": "2025-01-10T11:27:18.107065Z",
     "start_time": "2025-01-10T11:27:17.972238Z"
    }
   },
   "cell_type": "code",
   "source": [
    "place_count = data.groupby('place_id').aggregate(np.count_nonzero)\n",
    "place_count"
   ],
   "id": "c1c9af7f1168d58b",
   "outputs": [
    {
     "data": {
      "text/plain": [
       "            row_id   x   y  accuracy  day  hour  weekday\n",
       "place_id                                                \n",
       "1000616752       2   2   2         2    2     2        2\n",
       "1017703558      10  10  10        10   10    10        5\n",
       "1068339748       1   1   1         1    1     1        1\n",
       "1068896566       1   1   1         1    1     1        1\n",
       "1096341648       1   1   1         1    1     1        1\n",
       "...            ...  ..  ..       ...  ...   ...      ...\n",
       "9977423098       1   1   1         1    1     1        1\n",
       "9980711012       1   1   1         1    1     1        1\n",
       "9986238568       1   1   1         1    1     1        1\n",
       "9995972717       1   1   1         1    1     1        1\n",
       "9998057926      16  16  16        16   16    16       16\n",
       "\n",
       "[912 rows x 7 columns]"
      ],
      "text/html": [
       "<div>\n",
       "<style scoped>\n",
       "    .dataframe tbody tr th:only-of-type {\n",
       "        vertical-align: middle;\n",
       "    }\n",
       "\n",
       "    .dataframe tbody tr th {\n",
       "        vertical-align: top;\n",
       "    }\n",
       "\n",
       "    .dataframe thead th {\n",
       "        text-align: right;\n",
       "    }\n",
       "</style>\n",
       "<table border=\"1\" class=\"dataframe\">\n",
       "  <thead>\n",
       "    <tr style=\"text-align: right;\">\n",
       "      <th></th>\n",
       "      <th>row_id</th>\n",
       "      <th>x</th>\n",
       "      <th>y</th>\n",
       "      <th>accuracy</th>\n",
       "      <th>day</th>\n",
       "      <th>hour</th>\n",
       "      <th>weekday</th>\n",
       "    </tr>\n",
       "    <tr>\n",
       "      <th>place_id</th>\n",
       "      <th></th>\n",
       "      <th></th>\n",
       "      <th></th>\n",
       "      <th></th>\n",
       "      <th></th>\n",
       "      <th></th>\n",
       "      <th></th>\n",
       "    </tr>\n",
       "  </thead>\n",
       "  <tbody>\n",
       "    <tr>\n",
       "      <th>1000616752</th>\n",
       "      <td>2</td>\n",
       "      <td>2</td>\n",
       "      <td>2</td>\n",
       "      <td>2</td>\n",
       "      <td>2</td>\n",
       "      <td>2</td>\n",
       "      <td>2</td>\n",
       "    </tr>\n",
       "    <tr>\n",
       "      <th>1017703558</th>\n",
       "      <td>10</td>\n",
       "      <td>10</td>\n",
       "      <td>10</td>\n",
       "      <td>10</td>\n",
       "      <td>10</td>\n",
       "      <td>10</td>\n",
       "      <td>5</td>\n",
       "    </tr>\n",
       "    <tr>\n",
       "      <th>1068339748</th>\n",
       "      <td>1</td>\n",
       "      <td>1</td>\n",
       "      <td>1</td>\n",
       "      <td>1</td>\n",
       "      <td>1</td>\n",
       "      <td>1</td>\n",
       "      <td>1</td>\n",
       "    </tr>\n",
       "    <tr>\n",
       "      <th>1068896566</th>\n",
       "      <td>1</td>\n",
       "      <td>1</td>\n",
       "      <td>1</td>\n",
       "      <td>1</td>\n",
       "      <td>1</td>\n",
       "      <td>1</td>\n",
       "      <td>1</td>\n",
       "    </tr>\n",
       "    <tr>\n",
       "      <th>1096341648</th>\n",
       "      <td>1</td>\n",
       "      <td>1</td>\n",
       "      <td>1</td>\n",
       "      <td>1</td>\n",
       "      <td>1</td>\n",
       "      <td>1</td>\n",
       "      <td>1</td>\n",
       "    </tr>\n",
       "    <tr>\n",
       "      <th>...</th>\n",
       "      <td>...</td>\n",
       "      <td>...</td>\n",
       "      <td>...</td>\n",
       "      <td>...</td>\n",
       "      <td>...</td>\n",
       "      <td>...</td>\n",
       "      <td>...</td>\n",
       "    </tr>\n",
       "    <tr>\n",
       "      <th>9977423098</th>\n",
       "      <td>1</td>\n",
       "      <td>1</td>\n",
       "      <td>1</td>\n",
       "      <td>1</td>\n",
       "      <td>1</td>\n",
       "      <td>1</td>\n",
       "      <td>1</td>\n",
       "    </tr>\n",
       "    <tr>\n",
       "      <th>9980711012</th>\n",
       "      <td>1</td>\n",
       "      <td>1</td>\n",
       "      <td>1</td>\n",
       "      <td>1</td>\n",
       "      <td>1</td>\n",
       "      <td>1</td>\n",
       "      <td>1</td>\n",
       "    </tr>\n",
       "    <tr>\n",
       "      <th>9986238568</th>\n",
       "      <td>1</td>\n",
       "      <td>1</td>\n",
       "      <td>1</td>\n",
       "      <td>1</td>\n",
       "      <td>1</td>\n",
       "      <td>1</td>\n",
       "      <td>1</td>\n",
       "    </tr>\n",
       "    <tr>\n",
       "      <th>9995972717</th>\n",
       "      <td>1</td>\n",
       "      <td>1</td>\n",
       "      <td>1</td>\n",
       "      <td>1</td>\n",
       "      <td>1</td>\n",
       "      <td>1</td>\n",
       "      <td>1</td>\n",
       "    </tr>\n",
       "    <tr>\n",
       "      <th>9998057926</th>\n",
       "      <td>16</td>\n",
       "      <td>16</td>\n",
       "      <td>16</td>\n",
       "      <td>16</td>\n",
       "      <td>16</td>\n",
       "      <td>16</td>\n",
       "      <td>16</td>\n",
       "    </tr>\n",
       "  </tbody>\n",
       "</table>\n",
       "<p>912 rows × 7 columns</p>\n",
       "</div>"
      ]
     },
     "execution_count": 12,
     "metadata": {},
     "output_type": "execute_result"
    }
   ],
   "execution_count": 12
  },
  {
   "metadata": {
    "ExecuteTime": {
     "end_time": "2025-01-10T11:27:18.112169Z",
     "start_time": "2025-01-10T11:27:18.107065Z"
    }
   },
   "cell_type": "code",
   "source": "place_count['x'].describe()",
   "id": "7f5622d272b216e4",
   "outputs": [
    {
     "data": {
      "text/plain": [
       "count    912.000000\n",
       "mean      17.618421\n",
       "std       66.373037\n",
       "min        1.000000\n",
       "25%        1.000000\n",
       "50%        2.000000\n",
       "75%        5.000000\n",
       "max      824.000000\n",
       "Name: x, dtype: float64"
      ]
     },
     "execution_count": 13,
     "metadata": {},
     "output_type": "execute_result"
    }
   ],
   "execution_count": 13
  },
  {
   "metadata": {
    "ExecuteTime": {
     "end_time": "2025-01-10T11:27:18.120140Z",
     "start_time": "2025-01-10T11:27:18.113175Z"
    }
   },
   "cell_type": "code",
   "source": [
    "tf = place_count[place_count.row_id > 3].reset_index()\n",
    "tf  #剩余的签到地点"
   ],
   "id": "d209056d6aacca81",
   "outputs": [
    {
     "data": {
      "text/plain": [
       "       place_id  row_id    x    y  accuracy  day  hour  weekday\n",
       "0    1017703558      10   10   10        10   10    10        5\n",
       "1    1097200869      16   16   16        16   16    16       14\n",
       "2    1099012307     120  120  120       120  120   117       97\n",
       "3    1104074781       4    4    4         4    4     4        4\n",
       "4    1188903087       8    8    8         8    8     8        7\n",
       "..          ...     ...  ...  ...       ...  ...   ...      ...\n",
       "265  9904182060      18   18   18        18   18    16       14\n",
       "266  9919777984      11   11   11        11   11    11        9\n",
       "267  9940471456      68   68   68        68   68    62       58\n",
       "268  9950190890       6    6    6         6    6     6        6\n",
       "269  9998057926      16   16   16        16   16    16       16\n",
       "\n",
       "[270 rows x 8 columns]"
      ],
      "text/html": [
       "<div>\n",
       "<style scoped>\n",
       "    .dataframe tbody tr th:only-of-type {\n",
       "        vertical-align: middle;\n",
       "    }\n",
       "\n",
       "    .dataframe tbody tr th {\n",
       "        vertical-align: top;\n",
       "    }\n",
       "\n",
       "    .dataframe thead th {\n",
       "        text-align: right;\n",
       "    }\n",
       "</style>\n",
       "<table border=\"1\" class=\"dataframe\">\n",
       "  <thead>\n",
       "    <tr style=\"text-align: right;\">\n",
       "      <th></th>\n",
       "      <th>place_id</th>\n",
       "      <th>row_id</th>\n",
       "      <th>x</th>\n",
       "      <th>y</th>\n",
       "      <th>accuracy</th>\n",
       "      <th>day</th>\n",
       "      <th>hour</th>\n",
       "      <th>weekday</th>\n",
       "    </tr>\n",
       "  </thead>\n",
       "  <tbody>\n",
       "    <tr>\n",
       "      <th>0</th>\n",
       "      <td>1017703558</td>\n",
       "      <td>10</td>\n",
       "      <td>10</td>\n",
       "      <td>10</td>\n",
       "      <td>10</td>\n",
       "      <td>10</td>\n",
       "      <td>10</td>\n",
       "      <td>5</td>\n",
       "    </tr>\n",
       "    <tr>\n",
       "      <th>1</th>\n",
       "      <td>1097200869</td>\n",
       "      <td>16</td>\n",
       "      <td>16</td>\n",
       "      <td>16</td>\n",
       "      <td>16</td>\n",
       "      <td>16</td>\n",
       "      <td>16</td>\n",
       "      <td>14</td>\n",
       "    </tr>\n",
       "    <tr>\n",
       "      <th>2</th>\n",
       "      <td>1099012307</td>\n",
       "      <td>120</td>\n",
       "      <td>120</td>\n",
       "      <td>120</td>\n",
       "      <td>120</td>\n",
       "      <td>120</td>\n",
       "      <td>117</td>\n",
       "      <td>97</td>\n",
       "    </tr>\n",
       "    <tr>\n",
       "      <th>3</th>\n",
       "      <td>1104074781</td>\n",
       "      <td>4</td>\n",
       "      <td>4</td>\n",
       "      <td>4</td>\n",
       "      <td>4</td>\n",
       "      <td>4</td>\n",
       "      <td>4</td>\n",
       "      <td>4</td>\n",
       "    </tr>\n",
       "    <tr>\n",
       "      <th>4</th>\n",
       "      <td>1188903087</td>\n",
       "      <td>8</td>\n",
       "      <td>8</td>\n",
       "      <td>8</td>\n",
       "      <td>8</td>\n",
       "      <td>8</td>\n",
       "      <td>8</td>\n",
       "      <td>7</td>\n",
       "    </tr>\n",
       "    <tr>\n",
       "      <th>...</th>\n",
       "      <td>...</td>\n",
       "      <td>...</td>\n",
       "      <td>...</td>\n",
       "      <td>...</td>\n",
       "      <td>...</td>\n",
       "      <td>...</td>\n",
       "      <td>...</td>\n",
       "      <td>...</td>\n",
       "    </tr>\n",
       "    <tr>\n",
       "      <th>265</th>\n",
       "      <td>9904182060</td>\n",
       "      <td>18</td>\n",
       "      <td>18</td>\n",
       "      <td>18</td>\n",
       "      <td>18</td>\n",
       "      <td>18</td>\n",
       "      <td>16</td>\n",
       "      <td>14</td>\n",
       "    </tr>\n",
       "    <tr>\n",
       "      <th>266</th>\n",
       "      <td>9919777984</td>\n",
       "      <td>11</td>\n",
       "      <td>11</td>\n",
       "      <td>11</td>\n",
       "      <td>11</td>\n",
       "      <td>11</td>\n",
       "      <td>11</td>\n",
       "      <td>9</td>\n",
       "    </tr>\n",
       "    <tr>\n",
       "      <th>267</th>\n",
       "      <td>9940471456</td>\n",
       "      <td>68</td>\n",
       "      <td>68</td>\n",
       "      <td>68</td>\n",
       "      <td>68</td>\n",
       "      <td>68</td>\n",
       "      <td>62</td>\n",
       "      <td>58</td>\n",
       "    </tr>\n",
       "    <tr>\n",
       "      <th>268</th>\n",
       "      <td>9950190890</td>\n",
       "      <td>6</td>\n",
       "      <td>6</td>\n",
       "      <td>6</td>\n",
       "      <td>6</td>\n",
       "      <td>6</td>\n",
       "      <td>6</td>\n",
       "      <td>6</td>\n",
       "    </tr>\n",
       "    <tr>\n",
       "      <th>269</th>\n",
       "      <td>9998057926</td>\n",
       "      <td>16</td>\n",
       "      <td>16</td>\n",
       "      <td>16</td>\n",
       "      <td>16</td>\n",
       "      <td>16</td>\n",
       "      <td>16</td>\n",
       "      <td>16</td>\n",
       "    </tr>\n",
       "  </tbody>\n",
       "</table>\n",
       "<p>270 rows × 8 columns</p>\n",
       "</div>"
      ]
     },
     "execution_count": 14,
     "metadata": {},
     "output_type": "execute_result"
    }
   ],
   "execution_count": 14
  },
  {
   "metadata": {
    "ExecuteTime": {
     "end_time": "2025-01-10T11:27:18.127312Z",
     "start_time": "2025-01-10T11:27:18.121189Z"
    }
   },
   "cell_type": "code",
   "source": [
    "data = data[data['place_id'].isin(tf.place_id)]\n",
    "data.shape"
   ],
   "id": "b9f96ca1cefcd8d2",
   "outputs": [
    {
     "data": {
      "text/plain": [
       "(15148, 8)"
      ]
     },
     "execution_count": 15,
     "metadata": {},
     "output_type": "execute_result"
    }
   ],
   "execution_count": 15
  },
  {
   "metadata": {
    "ExecuteTime": {
     "end_time": "2025-01-10T11:27:18.132790Z",
     "start_time": "2025-01-10T11:27:18.128314Z"
    }
   },
   "cell_type": "code",
   "source": [
    "# # 取出数据当中的特征值和目标值\n",
    "y = data['place_id']\n",
    "# 删除目标值，保留特征值，\n",
    "x = data.drop(['place_id'], axis=1)\n",
    "# 删除无用的特征值，row_id是索引,这就是噪音\n",
    "x = x.drop(['row_id'], axis=1)\n",
    "print(x.shape)\n",
    "print(x.columns)"
   ],
   "id": "5709d38701fbe073",
   "outputs": [
    {
     "name": "stdout",
     "output_type": "stream",
     "text": [
      "(15148, 6)\n",
      "Index(['x', 'y', 'accuracy', 'day', 'hour', 'weekday'], dtype='object')\n"
     ]
    }
   ],
   "execution_count": 16
  },
  {
   "metadata": {
    "ExecuteTime": {
     "end_time": "2025-01-10T11:27:18.143482Z",
     "start_time": "2025-01-10T11:27:18.132790Z"
    }
   },
   "cell_type": "code",
   "source": [
    "# 进行数据的分割训练集合测试集\n",
    "x_train, x_test, y_train, y_test = train_test_split(x, y, test_size=0.25, random_state=1)\n",
    "\n",
    "# 特征工程（标准化）,下面3行注释，一开始我们不进行标准化，看下效果，目标值要不要标准化？\n",
    "std = StandardScaler()\n",
    "# #\n",
    "# # # 对测试集和训练集的特征值进行标准化,服务于knn fit\n",
    "x_train = std.fit_transform(x_train)\n",
    "# # transform返回的是copy，不在原有的输入对象中去修改\n",
    "# print(id(x_test))\n",
    "print(std.mean_)\n",
    "print(std.var_)\n",
    "x_test = std.transform(x_test)  #transfrom不再进行均值和方差的计算，是在原有的基础上去标准化\n",
    "print('-' * 50)\n",
    "# print(id(x_test))\n",
    "print(std.mean_)\n",
    "print(std.var_)"
   ],
   "id": "b7b14a5523ecf4ee",
   "outputs": [
    {
     "name": "stdout",
     "output_type": "stream",
     "text": [
      "[ 2.12678283  2.62717618 82.58128686  5.36255611 11.4637796   3.13211865]\n",
      "[5.37196722e-03 4.84314746e-03 1.36584127e+04 6.97928275e+00\n",
      " 4.80807451e+01 3.12742627e+00]\n",
      "--------------------------------------------------\n",
      "[ 2.12678283  2.62717618 82.58128686  5.36255611 11.4637796   3.13211865]\n",
      "[5.37196722e-03 4.84314746e-03 1.36584127e+04 6.97928275e+00\n",
      " 4.80807451e+01 3.12742627e+00]\n"
     ]
    }
   ],
   "execution_count": 17
  },
  {
   "metadata": {
    "ExecuteTime": {
     "end_time": "2025-01-10T11:27:18.147427Z",
     "start_time": "2025-01-10T11:27:18.144489Z"
    }
   },
   "cell_type": "code",
   "source": "x_train.shape",
   "id": "12938fdb1c2821dd",
   "outputs": [
    {
     "data": {
      "text/plain": [
       "(11361, 6)"
      ]
     },
     "execution_count": 18,
     "metadata": {},
     "output_type": "execute_result"
    }
   ],
   "execution_count": 18
  },
  {
   "metadata": {
    "ExecuteTime": {
     "end_time": "2025-01-10T11:27:25.274854Z",
     "start_time": "2025-01-10T11:27:25.036744Z"
    }
   },
   "cell_type": "code",
   "source": [
    "# # 进行算法流程 # 超参数，可以通过设置n_neighbors=5，来调整结果好坏\n",
    "knn = KNeighborsClassifier(n_neighbors=3)\n",
    "\n",
    "# # fit， predict,score，训练，knn的fit是不训练的，只是把训练集的特征值和目标值放入到内存中\n",
    "knn.fit(x_train, y_train)\n",
    "# # #\n",
    "# # # 得出预测结果\n",
    "y_predict = knn.predict(x_test)\n",
    "# #\n",
    "print(\"预测的目标签到位置为：\", y_predict[0:10])\n",
    "# # #\n",
    "# # # # 得出准确率,是评估指标\n",
    "print(\"预测的准确率:\", knn.score(x_test, y_test))\n",
    "# print(y_predict)\n",
    "# y_test"
   ],
   "id": "221d698716584787",
   "outputs": [
    {
     "name": "stdout",
     "output_type": "stream",
     "text": [
      "预测的目标签到位置为： [7175626357 1888235595 5728378850 7346312886 1974067055 7076275776\n",
      " 2719042180 6015970893 7709179486 3926374830]\n",
      "预测的准确率: 0.38737787166622656\n"
     ]
    }
   ],
   "execution_count": 19
  },
  {
   "metadata": {
    "ExecuteTime": {
     "end_time": "2025-01-10T11:27:52.095614Z",
     "start_time": "2025-01-10T11:27:52.092573Z"
    }
   },
   "cell_type": "code",
   "source": "print(y_test[0:10])",
   "id": "a2c15dd3d7b29bd8",
   "outputs": [
    {
     "name": "stdout",
     "output_type": "stream",
     "text": [
      "22061214    7175626357\n",
      "24397369    1285051622\n",
      "8590496     9350693064\n",
      "28639329    5126068724\n",
      "22889622    2719042180\n",
      "27852840    7766976999\n",
      "10029824    2719042180\n",
      "21909733    6015970893\n",
      "26850072    6502963776\n",
      "8940516     3926374830\n",
      "Name: place_id, dtype: int64\n"
     ]
    }
   ],
   "execution_count": 20
  },
  {
   "metadata": {
    "ExecuteTime": {
     "end_time": "2025-01-10T11:29:27.663872Z",
     "start_time": "2025-01-10T11:29:23.685292Z"
    }
   },
   "cell_type": "code",
   "source": [
    "#网格搜索时讲解\n",
    "# # 构造一些参数（超参）的值进行搜索\n",
    "param = {\"n_neighbors\": [3, 5, 7, 9, 11, 13, 16],'weights':['uniform', 'distance']}\n",
    "#\n",
    "# 进行网格搜索，cv=3是3折交叉验证，用其中2折训练，1折验证\n",
    "gc = GridSearchCV(knn, param_grid=param, cv=3)\n",
    "\n",
    "gc.fit(x_train, y_train)  #你给它的x_train，它又分为训练集，验证集\n",
    "\n",
    "# 预测准确率，为了给大家看看\n",
    "print(\"在测试集上准确率：\", gc.score(x_test, y_test))\n",
    "\n",
    "print(\"在交叉验证当中最好的结果：\", gc.best_score_) #最好的结果\n",
    "\n",
    "print(\"选择最好的模型是：\", gc.best_estimator_) #最好的模型,告诉你用了哪些参数\n",
    "\n",
    "print(\"每个超参数每次交叉验证的结果：\")\n",
    "gc.cv_results_"
   ],
   "id": "5a4fd720af2a9081",
   "outputs": [
    {
     "name": "stderr",
     "output_type": "stream",
     "text": [
      "C:\\Program Files\\Python312\\Lib\\site-packages\\sklearn\\model_selection\\_split.py:805: UserWarning: The least populated class in y has only 1 members, which is less than n_splits=3.\n",
      "  warnings.warn(\n"
     ]
    },
    {
     "name": "stdout",
     "output_type": "stream",
     "text": [
      "在测试集上准确率： 0.4248745709004489\n",
      "在交叉验证当中最好的结果： 0.4011970777220315\n",
      "选择最好的模型是： KNeighborsClassifier(n_neighbors=11, weights='distance')\n",
      "每个超参数每次交叉验证的结果：\n"
     ]
    },
    {
     "data": {
      "text/plain": [
       "{'mean_fit_time': array([0.00733733, 0.00534884, 0.00632644, 0.00691644, 0.00738645,\n",
       "        0.00621033, 0.00550723, 0.0058403 , 0.00550318, 0.00601204,\n",
       "        0.0061686 , 0.00600449, 0.00537968, 0.00701078]),\n",
       " 'std_fit_time': array([0.00191298, 0.00026514, 0.00025795, 0.00123844, 0.00104601,\n",
       "        0.00023226, 0.00079889, 0.00047205, 0.00040863, 0.00010714,\n",
       "        0.00087859, 0.00081577, 0.00027357, 0.00216874]),\n",
       " 'mean_score_time': array([0.09380873, 0.04405363, 0.10698708, 0.05135059, 0.11233505,\n",
       "        0.05894327, 0.10069601, 0.06647182, 0.11536908, 0.07603463,\n",
       "        0.10971697, 0.07262381, 0.10897811, 0.08952959]),\n",
       " 'std_score_time': array([6.08917350e-03, 7.05860053e-04, 1.81761314e-02, 2.86620974e-03,\n",
       "        6.89855138e-03, 1.12862860e-03, 9.18833433e-05, 4.63884326e-03,\n",
       "        7.64137090e-03, 3.20627069e-03, 2.96715689e-03, 6.19546641e-04,\n",
       "        1.17581163e-03, 1.33197514e-03]),\n",
       " 'param_n_neighbors': masked_array(data=[3, 3, 5, 5, 7, 7, 9, 9, 11, 11, 13, 13, 16, 16],\n",
       "              mask=[False, False, False, False, False, False, False, False,\n",
       "                    False, False, False, False, False, False],\n",
       "        fill_value=999999),\n",
       " 'param_weights': masked_array(data=['uniform', 'distance', 'uniform', 'distance',\n",
       "                    'uniform', 'distance', 'uniform', 'distance',\n",
       "                    'uniform', 'distance', 'uniform', 'distance',\n",
       "                    'uniform', 'distance'],\n",
       "              mask=[False, False, False, False, False, False, False, False,\n",
       "                    False, False, False, False, False, False],\n",
       "        fill_value=np.str_('?'),\n",
       "             dtype=object),\n",
       " 'params': [{'n_neighbors': 3, 'weights': 'uniform'},\n",
       "  {'n_neighbors': 3, 'weights': 'distance'},\n",
       "  {'n_neighbors': 5, 'weights': 'uniform'},\n",
       "  {'n_neighbors': 5, 'weights': 'distance'},\n",
       "  {'n_neighbors': 7, 'weights': 'uniform'},\n",
       "  {'n_neighbors': 7, 'weights': 'distance'},\n",
       "  {'n_neighbors': 9, 'weights': 'uniform'},\n",
       "  {'n_neighbors': 9, 'weights': 'distance'},\n",
       "  {'n_neighbors': 11, 'weights': 'uniform'},\n",
       "  {'n_neighbors': 11, 'weights': 'distance'},\n",
       "  {'n_neighbors': 13, 'weights': 'uniform'},\n",
       "  {'n_neighbors': 13, 'weights': 'distance'},\n",
       "  {'n_neighbors': 16, 'weights': 'uniform'},\n",
       "  {'n_neighbors': 16, 'weights': 'distance'}],\n",
       " 'split0_test_score': array([0.36625297, 0.37602324, 0.38341695, 0.39952469, 0.38843412,\n",
       "        0.40797465, 0.3844732 , 0.40850277, 0.38526538, 0.413784  ,\n",
       "        0.38632163, 0.40955902, 0.37892791, 0.40876683]),\n",
       " 'split1_test_score': array([0.34882493, 0.36625297, 0.36783734, 0.38684975, 0.37417481,\n",
       "        0.39899657, 0.37074201, 0.3939794 , 0.37364669, 0.39899657,\n",
       "        0.36730922, 0.39609189, 0.36361236, 0.39450753]),\n",
       " 'split2_test_score': array([0.34592025, 0.36836546, 0.37655136, 0.39107473, 0.36889358,\n",
       "        0.39371534, 0.3633483 , 0.39186691, 0.36678109, 0.39081067,\n",
       "        0.36123581, 0.38420914, 0.36176393, 0.39239504]),\n",
       " 'mean_test_score': array([0.35366605, 0.37021389, 0.37593522, 0.39248306, 0.3771675 ,\n",
       "        0.40022885, 0.3728545 , 0.39811636, 0.37523105, 0.40119708,\n",
       "        0.37162222, 0.39662002, 0.3681014 , 0.39855647]),\n",
       " 'std_test_score': array([0.00897895, 0.00419738, 0.00637526, 0.00526948, 0.00825329,\n",
       "        0.00588619, 0.00875261, 0.00739476, 0.00762889, 0.00950702,\n",
       "        0.01068569, 0.01035578, 0.0076926 , 0.00727115]),\n",
       " 'rank_test_score': array([14, 12,  8,  6,  7,  2, 10,  4,  9,  1, 11,  5, 13,  3],\n",
       "       dtype=int32)}"
      ]
     },
     "execution_count": 22,
     "metadata": {},
     "output_type": "execute_result"
    }
   ],
   "execution_count": 22
  }
 ],
 "metadata": {
  "kernelspec": {
   "display_name": "Python 3",
   "language": "python",
   "name": "python3"
  },
  "language_info": {
   "codemirror_mode": {
    "name": "ipython",
    "version": 2
   },
   "file_extension": ".py",
   "mimetype": "text/x-python",
   "name": "python",
   "nbconvert_exporter": "python",
   "pygments_lexer": "ipython2",
   "version": "2.7.6"
  }
 },
 "nbformat": 4,
 "nbformat_minor": 5
}
