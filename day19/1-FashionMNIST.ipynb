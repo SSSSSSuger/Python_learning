{
 "cells": [
  {
   "cell_type": "code",
   "id": "initial_id",
   "metadata": {
    "collapsed": true,
    "ExecuteTime": {
     "end_time": "2025-01-16T10:57:33.051857Z",
     "start_time": "2025-01-16T10:57:29.097754Z"
    }
   },
   "source": [
    "import matplotlib as mpl\n",
    "import matplotlib.pyplot as plt\n",
    "%matplotlib inline\n",
    "import numpy as np\n",
    "import sklearn\n",
    "import pandas as pd\n",
    "import os\n",
    "import sys\n",
    "import time\n",
    "from tqdm.auto import tqdm\n",
    "import torch\n",
    "import torch.nn as nn\n",
    "import torch.nn.functional as F\n",
    "\n",
    "print(sys.version_info)\n",
    "for module in mpl, np, pd, sklearn, torch:\n",
    "    print(module.__name__, module.__version__)\n",
    "    \n",
    "device = torch.device(\"cuda:0\") if torch.cuda.is_available() else torch.device(\"cpu\")\n",
    "print(device)\n"
   ],
   "outputs": [
    {
     "name": "stdout",
     "output_type": "stream",
     "text": [
      "sys.version_info(major=3, minor=12, micro=3, releaselevel='final', serial=0)\n",
      "matplotlib 3.10.0\n",
      "numpy 2.2.1\n",
      "pandas 2.2.3\n",
      "sklearn 1.6.0\n",
      "torch 2.5.1+cu124\n",
      "cuda:0\n"
     ]
    }
   ],
   "execution_count": 1
  },
  {
   "metadata": {
    "ExecuteTime": {
     "end_time": "2025-01-16T10:58:19.101679Z",
     "start_time": "2025-01-16T10:58:04.436252Z"
    }
   },
   "cell_type": "code",
   "source": [
    "from torchvision import datasets\n",
    "from torchvision.transforms import ToTensor\n",
    "from torchvision import transforms\n",
    "\n",
    "\n",
    "# 定义数据集的变换\n",
    "transform = transforms.Compose([\n",
    "])\n",
    "# fashion_mnist图像分类数据集，衣服分类，60000张训练图片，10000张测试图片\n",
    "train_ds = datasets.FashionMNIST(\n",
    "    root=\"data\",\n",
    "    train=True,\n",
    "    download=True,\n",
    "    transform=transform\n",
    ")\n",
    "\n",
    "test_ds = datasets.FashionMNIST(\n",
    "    root=\"data\",\n",
    "    train=False,\n",
    "    download=True,\n",
    "    transform=transform\n",
    ")\n",
    "\n",
    "# torchvision 数据集里没有提供训练集和验证集的划分\n",
    "# 当然也可以用 torch.utils.data.Dataset 实现人为划分"
   ],
   "id": "cab2f66358557158",
   "outputs": [
    {
     "name": "stdout",
     "output_type": "stream",
     "text": [
      "Downloading http://fashion-mnist.s3-website.eu-central-1.amazonaws.com/train-images-idx3-ubyte.gz\n",
      "Downloading http://fashion-mnist.s3-website.eu-central-1.amazonaws.com/train-images-idx3-ubyte.gz to data\\FashionMNIST\\raw\\train-images-idx3-ubyte.gz\n"
     ]
    },
    {
     "name": "stderr",
     "output_type": "stream",
     "text": [
      "100%|██████████| 26.4M/26.4M [00:03<00:00, 6.96MB/s]\n"
     ]
    },
    {
     "name": "stdout",
     "output_type": "stream",
     "text": [
      "Extracting data\\FashionMNIST\\raw\\train-images-idx3-ubyte.gz to data\\FashionMNIST\\raw\n",
      "\n",
      "Downloading http://fashion-mnist.s3-website.eu-central-1.amazonaws.com/train-labels-idx1-ubyte.gz\n",
      "Downloading http://fashion-mnist.s3-website.eu-central-1.amazonaws.com/train-labels-idx1-ubyte.gz to data\\FashionMNIST\\raw\\train-labels-idx1-ubyte.gz\n"
     ]
    },
    {
     "name": "stderr",
     "output_type": "stream",
     "text": [
      "100%|██████████| 29.5k/29.5k [00:00<00:00, 106kB/s]\n"
     ]
    },
    {
     "name": "stdout",
     "output_type": "stream",
     "text": [
      "Extracting data\\FashionMNIST\\raw\\train-labels-idx1-ubyte.gz to data\\FashionMNIST\\raw\n",
      "\n",
      "Downloading http://fashion-mnist.s3-website.eu-central-1.amazonaws.com/t10k-images-idx3-ubyte.gz\n",
      "Downloading http://fashion-mnist.s3-website.eu-central-1.amazonaws.com/t10k-images-idx3-ubyte.gz to data\\FashionMNIST\\raw\\t10k-images-idx3-ubyte.gz\n"
     ]
    },
    {
     "name": "stderr",
     "output_type": "stream",
     "text": [
      "100%|██████████| 4.42M/4.42M [00:02<00:00, 2.06MB/s]\n"
     ]
    },
    {
     "name": "stdout",
     "output_type": "stream",
     "text": [
      "Extracting data\\FashionMNIST\\raw\\t10k-images-idx3-ubyte.gz to data\\FashionMNIST\\raw\n",
      "\n",
      "Downloading http://fashion-mnist.s3-website.eu-central-1.amazonaws.com/t10k-labels-idx1-ubyte.gz\n",
      "Downloading http://fashion-mnist.s3-website.eu-central-1.amazonaws.com/t10k-labels-idx1-ubyte.gz to data\\FashionMNIST\\raw\\t10k-labels-idx1-ubyte.gz\n"
     ]
    },
    {
     "name": "stderr",
     "output_type": "stream",
     "text": [
      "100%|██████████| 5.15k/5.15k [00:00<?, ?B/s]"
     ]
    },
    {
     "name": "stdout",
     "output_type": "stream",
     "text": [
      "Extracting data\\FashionMNIST\\raw\\t10k-labels-idx1-ubyte.gz to data\\FashionMNIST\\raw\n",
      "\n"
     ]
    },
    {
     "name": "stderr",
     "output_type": "stream",
     "text": [
      "\n"
     ]
    }
   ],
   "execution_count": 2
  },
  {
   "metadata": {
    "ExecuteTime": {
     "end_time": "2025-01-16T10:59:07.877978Z",
     "start_time": "2025-01-16T10:59:07.874523Z"
    }
   },
   "cell_type": "code",
   "source": "type(train_ds)",
   "id": "9037bb954360f347",
   "outputs": [
    {
     "data": {
      "text/plain": [
       "torchvision.datasets.mnist.FashionMNIST"
      ]
     },
     "execution_count": 3,
     "metadata": {},
     "output_type": "execute_result"
    }
   ],
   "execution_count": 3
  },
  {
   "metadata": {
    "ExecuteTime": {
     "end_time": "2025-01-16T10:59:15.764418Z",
     "start_time": "2025-01-16T10:59:15.761023Z"
    }
   },
   "cell_type": "code",
   "source": "len(train_ds)",
   "id": "1d3363c201e6a326",
   "outputs": [
    {
     "data": {
      "text/plain": [
       "60000"
      ]
     },
     "execution_count": 4,
     "metadata": {},
     "output_type": "execute_result"
    }
   ],
   "execution_count": 4
  },
  {
   "metadata": {
    "ExecuteTime": {
     "end_time": "2025-01-16T10:59:22.660833Z",
     "start_time": "2025-01-16T10:59:22.651107Z"
    }
   },
   "cell_type": "code",
   "source": "type(train_ds[0])",
   "id": "d76b289c012ea503",
   "outputs": [
    {
     "data": {
      "text/plain": [
       "tuple"
      ]
     },
     "execution_count": 5,
     "metadata": {},
     "output_type": "execute_result"
    }
   ],
   "execution_count": 5
  },
  {
   "metadata": {
    "ExecuteTime": {
     "end_time": "2025-01-16T10:59:29.460846Z",
     "start_time": "2025-01-16T10:59:29.458647Z"
    }
   },
   "cell_type": "code",
   "source": "img, label = train_ds[0]",
   "id": "37e5c263946fbf7c",
   "outputs": [],
   "execution_count": 6
  },
  {
   "metadata": {
    "ExecuteTime": {
     "end_time": "2025-01-16T10:59:43.815911Z",
     "start_time": "2025-01-16T10:59:43.812535Z"
    }
   },
   "cell_type": "code",
   "source": "type(img) #tensor中文是 张量,和numpy的ndarray类似",
   "id": "5f94348e5d29bf5b",
   "outputs": [
    {
     "data": {
      "text/plain": [
       "PIL.Image.Image"
      ]
     },
     "execution_count": 7,
     "metadata": {},
     "output_type": "execute_result"
    }
   ],
   "execution_count": 7
  },
  {
   "metadata": {
    "ExecuteTime": {
     "end_time": "2025-01-16T10:59:50.302543Z",
     "start_time": "2025-01-16T10:59:50.289203Z"
    }
   },
   "cell_type": "code",
   "source": "img",
   "id": "486d664a933f8e93",
   "outputs": [
    {
     "data": {
      "text/plain": [
       "<PIL.Image.Image image mode=L size=28x28>"
      ],
      "image/png": "[encoded data removed]",
      "image/jpeg": "[encoded data removed]"
     },
     "execution_count": 8,
     "metadata": {},
     "output_type": "execute_result"
    }
   ],
   "execution_count": 8
  },
  {
   "metadata": {
    "ExecuteTime": {
     "end_time": "2025-01-16T11:00:00.024940Z",
     "start_time": "2025-01-16T11:00:00.021965Z"
    }
   },
   "cell_type": "code",
   "source": "label",
   "id": "55f6b0260b09c43b",
   "outputs": [
    {
     "data": {
      "text/plain": [
       "9"
      ]
     },
     "execution_count": 9,
     "metadata": {},
     "output_type": "execute_result"
    }
   ],
   "execution_count": 9
  },
  {
   "metadata": {
    "ExecuteTime": {
     "end_time": "2025-01-16T11:00:19.673452Z",
     "start_time": "2025-01-16T11:00:19.670006Z"
    }
   },
   "cell_type": "code",
   "source": [
    "# 显示图片，这里需要把transforms.ToTensor(),进行归一化注释掉，否则是不行的\n",
    "def show_img_content(img):\n",
    "    from PIL import Image\n",
    "\n",
    "    # 打开一个图像文件\n",
    "    # img = Image.open(img)\n",
    "\n",
    "\n",
    "    print(\"图像大小:\", img.size)\n",
    "    print(\"图像模式:\", img.mode)\n",
    "\n",
    "\n",
    "    # 如果图像是单通道的，比如灰度图，你可以这样获取像素值列表：\n",
    "    if img.mode == 'L':\n",
    "        pixel_values = list(img.getdata())\n",
    "        print(pixel_values)\n",
    "show_img_content(img) #这里必须把上面的 transforms.ToTensor(), # 转换为tensor，进行归一化注释掉，否则是不行的"
   ],
   "id": "e1614524ab295ac",
   "outputs": [
    {
     "name": "stdout",
     "output_type": "stream",
     "text": [
      "图像大小: (28, 28)\n",
      "图像模式: L\n",
      "[0, 0, 0, 0, 0, 0, 0, 0, 0, 0, 0, 0, 0, 0, 0, 0, 0, 0, 0, 0, 0, 0, 0, 0, 0, 0, 0, 0, 0, 0, 0, 0, 0, 0, 0, 0, 0, 0, 0, 0, 0, 0, 0, 0, 0, 0, 0, 0, 0, 0, 0, 0, 0, 0, 0, 0, 0, 0, 0, 0, 0, 0, 0, 0, 0, 0, 0, 0, 0, 0, 0, 0, 0, 0, 0, 0, 0, 0, 0, 0, 0, 0, 0, 0, 0, 0, 0, 0, 0, 0, 0, 0, 0, 0, 0, 0, 1, 0, 0, 13, 73, 0, 0, 1, 4, 0, 0, 0, 0, 1, 1, 0, 0, 0, 0, 0, 0, 0, 0, 0, 0, 0, 0, 0, 3, 0, 36, 136, 127, 62, 54, 0, 0, 0, 1, 3, 4, 0, 0, 3, 0, 0, 0, 0, 0, 0, 0, 0, 0, 0, 0, 0, 6, 0, 102, 204, 176, 134, 144, 123, 23, 0, 0, 0, 0, 12, 10, 0, 0, 0, 0, 0, 0, 0, 0, 0, 0, 0, 0, 0, 0, 0, 155, 236, 207, 178, 107, 156, 161, 109, 64, 23, 77, 130, 72, 15, 0, 0, 0, 0, 0, 0, 0, 0, 0, 0, 0, 1, 0, 69, 207, 223, 218, 216, 216, 163, 127, 121, 122, 146, 141, 88, 172, 66, 0, 0, 0, 0, 0, 0, 0, 0, 0, 1, 1, 1, 0, 200, 232, 232, 233, 229, 223, 223, 215, 213, 164, 127, 123, 196, 229, 0, 0, 0, 0, 0, 0, 0, 0, 0, 0, 0, 0, 0, 0, 183, 225, 216, 223, 228, 235, 227, 224, 222, 224, 221, 223, 245, 173, 0, 0, 0, 0, 0, 0, 0, 0, 0, 0, 0, 0, 0, 0, 193, 228, 218, 213, 198, 180, 212, 210, 211, 213, 223, 220, 243, 202, 0, 0, 0, 0, 0, 0, 0, 0, 0, 0, 1, 3, 0, 12, 219, 220, 212, 218, 192, 169, 227, 208, 218, 224, 212, 226, 197, 209, 52, 0, 0, 0, 0, 0, 0, 0, 0, 0, 0, 6, 0, 99, 244, 222, 220, 218, 203, 198, 221, 215, 213, 222, 220, 245, 119, 167, 56, 0, 0, 0, 0, 0, 0, 0, 0, 0, 4, 0, 0, 55, 236, 228, 230, 228, 240, 232, 213, 218, 223, 234, 217, 217, 209, 92, 0, 0, 0, 1, 4, 6, 7, 2, 0, 0, 0, 0, 0, 237, 226, 217, 223, 222, 219, 222, 221, 216, 223, 229, 215, 218, 255, 77, 0, 0, 3, 0, 0, 0, 0, 0, 0, 0, 62, 145, 204, 228, 207, 213, 221, 218, 208, 211, 218, 224, 223, 219, 215, 224, 244, 159, 0, 0, 0, 0, 0, 18, 44, 82, 107, 189, 228, 220, 222, 217, 226, 200, 205, 211, 230, 224, 234, 176, 188, 250, 248, 233, 238, 215, 0, 0, 57, 187, 208, 224, 221, 224, 208, 204, 214, 208, 209, 200, 159, 245, 193, 206, 223, 255, 255, 221, 234, 221, 211, 220, 232, 246, 0, 3, 202, 228, 224, 221, 211, 211, 214, 205, 205, 205, 220, 240, 80, 150, 255, 229, 221, 188, 154, 191, 210, 204, 209, 222, 228, 225, 0, 98, 233, 198, 210, 222, 229, 229, 234, 249, 220, 194, 215, 217, 241, 65, 73, 106, 117, 168, 219, 221, 215, 217, 223, 223, 224, 229, 29, 75, 204, 212, 204, 193, 205, 211, 225, 216, 185, 197, 206, 198, 213, 240, 195, 227, 245, 239, 223, 218, 212, 209, 222, 220, 221, 230, 67, 48, 203, 183, 194, 213, 197, 185, 190, 194, 192, 202, 214, 219, 221, 220, 236, 225, 216, 199, 206, 186, 181, 177, 172, 181, 205, 206, 115, 0, 122, 219, 193, 179, 171, 183, 196, 204, 210, 213, 207, 211, 210, 200, 196, 194, 191, 195, 191, 198, 192, 176, 156, 167, 177, 210, 92, 0, 0, 74, 189, 212, 191, 175, 172, 175, 181, 185, 188, 189, 188, 193, 198, 204, 209, 210, 210, 211, 188, 188, 194, 192, 216, 170, 0, 2, 0, 0, 0, 66, 200, 222, 237, 239, 242, 246, 243, 244, 221, 220, 193, 191, 179, 182, 182, 181, 176, 166, 168, 99, 58, 0, 0, 0, 0, 0, 0, 0, 0, 0, 40, 61, 44, 72, 41, 35, 0, 0, 0, 0, 0, 0, 0, 0, 0, 0, 0, 0, 0, 0, 0, 0, 0, 0, 0, 0, 0, 0, 0, 0, 0, 0, 0, 0, 0, 0, 0, 0, 0, 0, 0, 0, 0, 0, 0, 0, 0, 0, 0, 0, 0, 0, 0, 0, 0, 0, 0, 0, 0, 0, 0, 0, 0, 0, 0, 0, 0, 0, 0, 0, 0, 0, 0, 0, 0, 0, 0]\n"
     ]
    }
   ],
   "execution_count": 10
  },
  {
   "metadata": {
    "ExecuteTime": {
     "end_time": "2025-01-16T11:05:28.684241Z",
     "start_time": "2025-01-16T11:05:28.578086Z"
    }
   },
   "cell_type": "code",
   "source": [
    "#这个代码必须是注释了上面的 transforms.ToTensor()才能够运行的\n",
    "def show_single_image(img_arr):\n",
    "    plt.imshow(img_arr, cmap=\"binary\") # 显示图片\n",
    "    plt.colorbar() # 显示颜色条\n",
    "    plt.show()\n",
    "\n",
    "\n",
    "show_single_image(img)"
   ],
   "id": "a23dfda496e7aace",
   "outputs": [
    {
     "data": {
      "text/plain": [
       "<Figure size 640x480 with 2 Axes>"
      ],
      "image/png": "[encoded data removed]"
     },
     "metadata": {},
     "output_type": "display_data"
    }
   ],
   "execution_count": 11
  },
  {
   "metadata": {
    "ExecuteTime": {
     "end_time": "2025-01-16T11:05:46.942682Z",
     "start_time": "2025-01-16T11:05:46.881594Z"
    }
   },
   "cell_type": "code",
   "source": [
    "from torchvision import datasets\n",
    "from torchvision.transforms import ToTensor\n",
    "from torchvision import transforms\n",
    "\n",
    "\n",
    "# 定义数据集的变换\n",
    "transform = transforms.Compose([\n",
    "    transforms.ToTensor(), # 转换为tensor，进行归一化\n",
    "    # transforms.Normalize(mean, std) # 标准化，mean和std是数据集的均值和方差\n",
    "])\n",
    "# fashion_mnist图像分类数据集，衣服分类，60000张训练图片，10000张测试图片\n",
    "train_ds = datasets.FashionMNIST(\n",
    "    root=\"data\",\n",
    "    train=True,\n",
    "    download=True,\n",
    "    transform=transform\n",
    ")\n",
    "\n",
    "test_ds = datasets.FashionMNIST(\n",
    "    root=\"data\",\n",
    "    train=False,\n",
    "    download=True,\n",
    "    transform=transform\n",
    ")\n",
    "\n",
    "# torchvision 数据集里没有提供训练集和验证集的划分\n",
    "# 当然也可以用 torch.utils.data.Dataset 实现人为划分"
   ],
   "id": "b2358e6da5134149",
   "outputs": [],
   "execution_count": 12
  },
  {
   "metadata": {
    "ExecuteTime": {
     "end_time": "2025-01-16T11:05:55.163198Z",
     "start_time": "2025-01-16T11:05:55.153321Z"
    }
   },
   "cell_type": "code",
   "source": [
    "img, label = train_ds[0]\n",
    "img.shape  #img这时是一个tensor，shape=(1, 28, 28)"
   ],
   "id": "d87b47d202970c10",
   "outputs": [
    {
     "data": {
      "text/plain": [
       "torch.Size([1, 28, 28])"
      ]
     },
     "execution_count": 13,
     "metadata": {},
     "output_type": "execute_result"
    }
   ],
   "execution_count": 13
  },
  {
   "metadata": {
    "ExecuteTime": {
     "end_time": "2025-01-16T11:06:15.824581Z",
     "start_time": "2025-01-16T11:06:10.255133Z"
    }
   },
   "cell_type": "code",
   "source": [
    "def cal_mean_std(ds):\n",
    "    mean = 0.\n",
    "    std = 0.\n",
    "    for img, _ in ds:  # 遍历每张图片,img.shape=[1,28,28]\n",
    "        mean += img.mean(dim=(1, 2))  # 计算每张图片的均值，dim=(1, 2)表示计算每张图片的每一个像素的均值,行列共同求均值\n",
    "        std += img.std(dim=(1, 2))\n",
    "    mean /= len(ds)\n",
    "    std /= len(ds)\n",
    "    return mean, std\n",
    "\n",
    "\n",
    "print(cal_mean_std(train_ds))\n"
   ],
   "id": "b4430a75e0f251c5",
   "outputs": [
    {
     "name": "stdout",
     "output_type": "stream",
     "text": [
      "(tensor([0.2860]), tensor([0.3205]))\n"
     ]
    }
   ],
   "execution_count": 14
  },
  {
   "metadata": {
    "ExecuteTime": {
     "end_time": "2025-01-16T11:06:39.365070Z",
     "start_time": "2025-01-16T11:06:39.073035Z"
    }
   },
   "cell_type": "code",
   "source": [
    "def show_imgs(n_rows, n_cols, train_ds, class_names):\n",
    "    assert n_rows * n_cols < len(train_ds)  #确保打印的图片小于总样本数\n",
    "    plt.figure(figsize = (n_cols * 1.4, n_rows * 1.6))  #宽1.4高1.6，宽，高\n",
    "    for row in range(n_rows):\n",
    "        for col in range(n_cols):\n",
    "            index = n_cols * row + col  # 计算索引，从0开始\n",
    "            plt.subplot(n_rows, n_cols, index+1)#因为从1开始\n",
    "            img_arr, label = train_ds[index]\n",
    "            img_arr = np.transpose(img_arr, (1, 2, 0))  # 通道换到最后一维\n",
    "            plt.imshow(img_arr, cmap=\"binary\",\n",
    "                       interpolation = 'nearest')#interpolation='nearest'是临近插值\n",
    "            plt.axis('off')#去除坐标系\n",
    "            plt.title(class_names[label]) # 显示类别名称\n",
    "    plt.show()\n",
    "    \n",
    "    \n",
    "\n",
    "#已知的图片类别\n",
    "# lables在这个路径https://github.com/zalandoresearch/fashion-mnist\n",
    "class_names = ['T-shirt', 'Trouser', 'Pullover', 'Dress',\n",
    "               'Coat', 'Sandal', 'Shirt', 'Sneaker',\n",
    "               'Bag', 'Ankle boot'] #0-9分别代表的类别\n",
    "#只是打印了前15个样本\n",
    "show_imgs(3, 5, train_ds, class_names)"
   ],
   "id": "b096f657226085ae",
   "outputs": [
    {
     "data": {
      "text/plain": [
       "<Figure size 700x480 with 15 Axes>"
      ],
      "image/png": "[encoded data removed]"
     },
     "metadata": {},
     "output_type": "display_data"
    }
   ],
   "execution_count": 15
  },
  {
   "metadata": {
    "ExecuteTime": {
     "end_time": "2025-01-16T11:07:07.351004Z",
     "start_time": "2025-01-16T11:07:07.347542Z"
    }
   },
   "cell_type": "code",
   "source": [
    "# 从数据集到dataloader\n",
    "train_loader = torch.utils.data.DataLoader(train_ds, batch_size=32, shuffle=True) #batch_size分批，shuffle洗牌\n",
    "val_loader = torch.utils.data.DataLoader(test_ds, batch_size=32, shuffle=False)"
   ],
   "id": "df16b04fde05fa58",
   "outputs": [],
   "execution_count": 16
  },
  {
   "metadata": {
    "ExecuteTime": {
     "end_time": "2025-01-16T11:07:16.873890Z",
     "start_time": "2025-01-16T11:07:16.852278Z"
    }
   },
   "cell_type": "code",
   "source": [
    "for datas, labels in train_loader:\n",
    "    print(datas.shape)\n",
    "    print(labels.shape)\n",
    "    break\n",
    "#查看val_loader\n",
    "for datas, labels in val_loader:\n",
    "    print(datas.shape)\n",
    "    print(labels.shape)\n",
    "    break"
   ],
   "id": "4c489d46711c460c",
   "outputs": [
    {
     "name": "stdout",
     "output_type": "stream",
     "text": [
      "torch.Size([32, 1, 28, 28])\n",
      "torch.Size([32])\n",
      "torch.Size([32, 1, 28, 28])\n",
      "torch.Size([32])\n"
     ]
    }
   ],
   "execution_count": 17
  },
  {
   "metadata": {
    "ExecuteTime": {
     "end_time": "2025-01-16T11:07:32.952790Z",
     "start_time": "2025-01-16T11:07:32.946276Z"
    }
   },
   "cell_type": "code",
   "source": [
    "class NeuralNetwork(nn.Module):\n",
    "    def __init__(self):\n",
    "        super().__init__() # 继承父类的初始化方法，子类有父类的属性\n",
    "        self.flatten = nn.Flatten()  # 展平层\n",
    "        self.linear_relu_stack = nn.Sequential(\n",
    "            nn.Linear(784, 300),  # in_features=784, out_features=300, 784是输入特征数，300是输出特征数\n",
    "            nn.ReLU(), # 激活函数\n",
    "            nn.Linear(300, 100),#隐藏层神经元数100\n",
    "            nn.ReLU(), # 激活函数\n",
    "            nn.Linear(100, 10),#输出层神经元数10 \n",
    "        )\n",
    "\n",
    "    def forward(self, x): # 前向计算，前向传播\n",
    "        # x.shape [batch size, 1, 28, 28],1是通道数\n",
    "        x = self.flatten(x)  \n",
    "        # print(f'x.shape--{x.shape}')\n",
    "        # 展平后 x.shape [batch size, 784]\n",
    "        logits = self.linear_relu_stack(x)\n",
    "        # logits.shape [batch size, 10]\n",
    "        return logits #没有经过softmax,称为logits\n",
    "    \n",
    "model = NeuralNetwork()"
   ],
   "id": "bb682e0f66d61ff8",
   "outputs": [],
   "execution_count": 18
  },
  {
   "metadata": {
    "ExecuteTime": {
     "end_time": "2025-01-16T11:07:42.815064Z",
     "start_time": "2025-01-16T11:07:42.810652Z"
    }
   },
   "cell_type": "code",
   "source": "model",
   "id": "64597dc9fef32eb",
   "outputs": [
    {
     "data": {
      "text/plain": [
       "NeuralNetwork(\n",
       "  (flatten): Flatten(start_dim=1, end_dim=-1)\n",
       "  (linear_relu_stack): Sequential(\n",
       "    (0): Linear(in_features=784, out_features=300, bias=True)\n",
       "    (1): ReLU()\n",
       "    (2): Linear(in_features=300, out_features=100, bias=True)\n",
       "    (3): ReLU()\n",
       "    (4): Linear(in_features=100, out_features=10, bias=True)\n",
       "  )\n",
       ")"
      ]
     },
     "execution_count": 19,
     "metadata": {},
     "output_type": "execute_result"
    }
   ],
   "execution_count": 19
  },
  {
   "metadata": {
    "ExecuteTime": {
     "end_time": "2025-01-16T11:07:50.434839Z",
     "start_time": "2025-01-16T11:07:50.420474Z"
    }
   },
   "cell_type": "code",
   "source": [
    "#为了查看模型运算的tensor尺寸\n",
    "x = torch.randn(32, 1, 28, 28)\n",
    "print(x.shape)\n",
    "logits = model(x)\n",
    "print(logits.shape)"
   ],
   "id": "d1a626e0717393a4",
   "outputs": [
    {
     "name": "stdout",
     "output_type": "stream",
     "text": [
      "torch.Size([32, 1, 28, 28])\n",
      "torch.Size([32, 10])\n"
     ]
    }
   ],
   "execution_count": 20
  },
  {
   "metadata": {
    "ExecuteTime": {
     "end_time": "2025-01-16T11:08:10.857786Z",
     "start_time": "2025-01-16T11:08:10.855082Z"
    }
   },
   "cell_type": "code",
   "source": [
    "for name, param in model.named_parameters(): # 打印模型参数\n",
    "      print(name, param.shape)"
   ],
   "id": "182e4fe87a2e88b9",
   "outputs": [
    {
     "name": "stdout",
     "output_type": "stream",
     "text": [
      "linear_relu_stack.0.weight torch.Size([300, 784])\n",
      "linear_relu_stack.0.bias torch.Size([300])\n",
      "linear_relu_stack.2.weight torch.Size([100, 300])\n",
      "linear_relu_stack.2.bias torch.Size([100])\n",
      "linear_relu_stack.4.weight torch.Size([10, 100])\n",
      "linear_relu_stack.4.bias torch.Size([10])\n"
     ]
    }
   ],
   "execution_count": 21
  },
  {
   "metadata": {
    "ExecuteTime": {
     "end_time": "2025-01-16T11:08:21.234966Z",
     "start_time": "2025-01-16T11:08:21.219421Z"
    }
   },
   "cell_type": "code",
   "source": [
    "# 看看模型参数\n",
    "list(model.parameters())  # 这种方法拿到模型的所有可学习参数,requires_grad=True\n"
   ],
   "id": "c3cff64fa812dd1a",
   "outputs": [
    {
     "data": {
      "text/plain": [
       "[Parameter containing:\n",
       " tensor([[-0.0300, -0.0336, -0.0252,  ..., -0.0354,  0.0101, -0.0069],\n",
       "         [-0.0289, -0.0043, -0.0156,  ...,  0.0279, -0.0303, -0.0307],\n",
       "         [ 0.0013,  0.0135,  0.0192,  ..., -0.0302, -0.0025,  0.0050],\n",
       "         ...,\n",
       "         [ 0.0219, -0.0135, -0.0016,  ..., -0.0284, -0.0315, -0.0329],\n",
       "         [-0.0236, -0.0267,  0.0268,  ...,  0.0094,  0.0317,  0.0293],\n",
       "         [-0.0335, -0.0042,  0.0340,  ..., -0.0300, -0.0113, -0.0343]],\n",
       "        requires_grad=True),\n",
       " Parameter containing:\n",
       " tensor([ 2.2136e-02,  2.8487e-02, -2.9751e-02, -2.8060e-02, -1.0220e-02,\n",
       "         -2.5576e-02,  2.0518e-02,  1.3851e-02, -2.7152e-02,  1.6649e-03,\n",
       "          2.4994e-02, -2.7124e-02, -2.2653e-02,  2.8023e-02,  2.8277e-02,\n",
       "         -2.5684e-02,  1.3854e-02, -2.4036e-02,  1.9609e-02, -3.0915e-02,\n",
       "         -1.0308e-02, -2.6211e-04,  2.5084e-03, -3.4510e-02,  2.1086e-02,\n",
       "         -1.2988e-02,  2.9185e-02, -3.4067e-02,  1.4049e-02,  2.0232e-02,\n",
       "         -1.5408e-02, -1.7690e-02,  2.9130e-02, -3.0027e-02, -7.8769e-03,\n",
       "          2.3646e-02,  1.1061e-02, -2.0851e-02, -2.8564e-02,  3.0366e-02,\n",
       "         -2.4876e-02,  3.0900e-02, -1.0749e-02,  1.8741e-02, -2.4089e-02,\n",
       "          9.1920e-03, -2.6689e-02,  2.2834e-02, -1.3466e-02, -1.4075e-02,\n",
       "          2.5475e-02,  2.6445e-02, -2.3314e-02, -3.1986e-02,  5.7719e-04,\n",
       "          1.1553e-02,  1.6951e-02,  4.6482e-03, -4.0421e-03,  1.8870e-02,\n",
       "          2.9854e-02,  1.0811e-02, -2.1444e-03, -1.0563e-02,  2.5360e-02,\n",
       "          3.2645e-03,  6.4145e-03,  2.3696e-02, -2.8069e-02,  2.0402e-02,\n",
       "         -3.3551e-02,  8.1080e-03, -2.0890e-03,  3.3362e-02,  9.5713e-03,\n",
       "          1.8880e-02, -1.5607e-02,  1.6233e-02, -4.3192e-03, -6.4782e-03,\n",
       "          3.5807e-03,  2.4326e-02, -5.2384e-04, -4.2238e-04,  2.9669e-02,\n",
       "          3.3219e-02,  1.0986e-02,  4.9688e-03, -4.6532e-03, -3.1892e-02,\n",
       "         -3.0339e-02,  8.7517e-03, -6.7885e-03, -2.8056e-02, -2.4212e-03,\n",
       "         -3.1287e-02,  2.3784e-02, -2.5209e-02, -2.2368e-02,  3.4503e-03,\n",
       "         -3.0963e-02, -3.4054e-02,  3.5981e-03, -9.2384e-03, -2.3704e-02,\n",
       "         -3.2419e-02,  4.3992e-03, -1.6266e-02, -2.1998e-02,  2.0690e-02,\n",
       "          1.8177e-02, -1.3954e-02,  1.9825e-02, -2.2407e-03,  4.8565e-04,\n",
       "         -1.7856e-02,  1.9780e-02, -1.5109e-02,  2.2219e-02, -5.6627e-03,\n",
       "         -3.1413e-02,  1.3266e-02,  6.7724e-03,  2.2645e-02,  2.3698e-03,\n",
       "          2.4293e-02, -2.3181e-02, -1.6976e-02, -3.1667e-02, -3.3122e-02,\n",
       "         -3.5602e-02, -3.5706e-02,  2.6983e-02,  2.7329e-02, -2.3087e-02,\n",
       "          3.2522e-02, -6.7714e-03,  1.0046e-02,  1.4723e-02,  2.7557e-02,\n",
       "          1.0260e-02,  1.3872e-02, -2.1907e-02, -2.1993e-02, -2.4598e-02,\n",
       "          4.9394e-03, -8.6447e-03,  1.3656e-03, -2.6715e-02,  3.4047e-02,\n",
       "          1.4755e-02, -3.2038e-02, -1.1676e-02, -1.4292e-02, -4.2034e-03,\n",
       "          2.2465e-02, -1.1355e-02,  1.0129e-02,  2.7648e-02, -2.7096e-02,\n",
       "         -2.7651e-02,  1.7620e-02,  2.2096e-02,  2.2293e-02, -6.9345e-03,\n",
       "          3.3003e-02,  2.4855e-03,  1.0092e-02, -7.1748e-03,  2.7315e-02,\n",
       "          1.2291e-02, -1.6794e-02, -5.6860e-03,  8.1915e-03, -3.4153e-02,\n",
       "          2.2052e-02,  1.9613e-02, -3.5068e-03,  3.2741e-02,  3.1726e-02,\n",
       "         -1.7385e-02,  1.6263e-02, -3.0631e-02,  3.0283e-02, -3.2815e-02,\n",
       "         -2.3713e-02,  7.8837e-03,  9.2613e-04, -2.9502e-02, -2.0094e-02,\n",
       "         -2.6815e-02, -2.9134e-02,  1.4730e-02,  3.5166e-02, -3.1554e-02,\n",
       "         -8.9370e-03,  1.0072e-02,  3.1553e-03,  2.4896e-02,  2.6517e-02,\n",
       "          1.5083e-02, -1.2892e-02, -2.8949e-02, -1.1240e-02, -1.8080e-03,\n",
       "          1.3214e-03,  1.1284e-02, -2.7573e-02, -2.9048e-02,  3.8268e-03,\n",
       "          6.6079e-03, -1.8094e-02,  2.4762e-02,  8.6134e-03,  2.2316e-02,\n",
       "         -9.3103e-03, -1.6655e-02, -1.5891e-02, -2.0386e-02,  1.3935e-02,\n",
       "         -2.8854e-02,  8.7890e-03, -3.3449e-02, -7.4090e-03, -3.3261e-02,\n",
       "          1.7079e-03,  8.0421e-03,  6.0309e-04, -2.2839e-02,  5.5979e-03,\n",
       "         -6.6745e-03, -5.2809e-03, -5.2390e-03, -1.3264e-02, -1.2757e-03,\n",
       "          1.6631e-02, -2.3336e-02, -2.5518e-02, -1.3704e-03, -7.6071e-03,\n",
       "          9.8897e-03, -1.6342e-04, -1.0883e-02,  9.6244e-03, -1.1412e-02,\n",
       "          2.9135e-02,  1.6884e-02,  9.7342e-04,  1.1816e-03, -3.1652e-02,\n",
       "          2.5010e-02, -2.5910e-02,  7.0353e-03,  2.6355e-02,  1.8493e-02,\n",
       "         -2.3453e-02,  2.3266e-02,  7.4155e-03, -2.8831e-02, -1.8396e-02,\n",
       "          3.4798e-05, -2.3424e-02,  1.2604e-02,  2.4672e-03, -3.1328e-02,\n",
       "         -5.6859e-03, -2.9042e-02, -1.0313e-02,  3.0400e-02,  1.4986e-02,\n",
       "          8.1819e-04,  1.6568e-02,  2.6090e-02, -3.3285e-02,  1.6339e-02,\n",
       "          1.8067e-02,  1.5172e-02,  1.2189e-02, -5.0671e-03,  2.2134e-03,\n",
       "          7.2618e-03, -2.0253e-02,  2.0766e-02,  2.1719e-02,  2.1536e-03,\n",
       "          8.9064e-03,  2.5430e-02,  3.2356e-02, -2.4874e-02,  3.3369e-02,\n",
       "          6.9763e-03, -3.3466e-02, -2.9844e-02,  3.8705e-03, -9.3443e-03,\n",
       "          3.7623e-03,  2.5078e-02,  1.1913e-03, -2.2337e-02, -2.5208e-02],\n",
       "        requires_grad=True),\n",
       " Parameter containing:\n",
       " tensor([[-0.0558,  0.0567,  0.0165,  ...,  0.0518, -0.0396, -0.0220],\n",
       "         [ 0.0029,  0.0194,  0.0162,  ..., -0.0192,  0.0117,  0.0267],\n",
       "         [ 0.0132,  0.0162, -0.0307,  ...,  0.0041, -0.0363, -0.0038],\n",
       "         ...,\n",
       "         [ 0.0174,  0.0427, -0.0304,  ...,  0.0355,  0.0275,  0.0445],\n",
       "         [ 0.0212, -0.0033,  0.0548,  ..., -0.0104, -0.0449,  0.0448],\n",
       "         [-0.0134, -0.0424, -0.0475,  ...,  0.0301,  0.0396,  0.0015]],\n",
       "        requires_grad=True),\n",
       " Parameter containing:\n",
       " tensor([ 0.0134, -0.0515,  0.0049,  0.0197,  0.0174, -0.0069,  0.0441, -0.0484,\n",
       "         -0.0290,  0.0454, -0.0381, -0.0258, -0.0548,  0.0498,  0.0189, -0.0022,\n",
       "         -0.0249,  0.0218, -0.0213,  0.0457,  0.0221,  0.0266,  0.0548,  0.0409,\n",
       "          0.0541,  0.0230,  0.0120, -0.0152,  0.0073, -0.0569, -0.0177,  0.0246,\n",
       "         -0.0010,  0.0571,  0.0082,  0.0444,  0.0011,  0.0536,  0.0427, -0.0081,\n",
       "         -0.0240, -0.0460, -0.0243,  0.0320, -0.0515,  0.0079,  0.0199, -0.0425,\n",
       "         -0.0334,  0.0158, -0.0439, -0.0391, -0.0548, -0.0143,  0.0005, -0.0272,\n",
       "         -0.0153, -0.0212,  0.0543, -0.0423,  0.0282,  0.0515,  0.0025,  0.0243,\n",
       "          0.0163, -0.0518, -0.0066,  0.0217,  0.0005,  0.0167, -0.0154,  0.0524,\n",
       "          0.0321,  0.0170, -0.0067,  0.0221, -0.0305,  0.0027,  0.0228,  0.0192,\n",
       "         -0.0572, -0.0220, -0.0294, -0.0506, -0.0327,  0.0218, -0.0475, -0.0530,\n",
       "         -0.0483,  0.0047,  0.0198,  0.0010,  0.0110, -0.0380, -0.0446,  0.0160,\n",
       "          0.0221, -0.0272, -0.0497, -0.0194], requires_grad=True),\n",
       " Parameter containing:\n",
       " tensor([[-2.7367e-02, -5.7735e-02, -4.0321e-02,  5.5896e-02, -1.7110e-02,\n",
       "           9.4982e-02, -3.5020e-02, -6.5014e-02,  9.9528e-02,  3.3140e-02,\n",
       "          -7.1243e-02, -3.3883e-02,  7.7864e-02,  7.0551e-02,  4.5833e-02,\n",
       "          -6.4264e-02, -6.5427e-02,  2.8072e-02, -1.0080e-02,  8.7975e-02,\n",
       "          -1.9896e-02,  7.7918e-02, -7.9154e-02, -9.9233e-03, -4.7283e-02,\n",
       "           1.1925e-02, -2.7820e-02,  5.6234e-02,  3.7194e-02, -6.2053e-02,\n",
       "           6.1910e-02,  2.5741e-02,  4.4015e-02, -8.8606e-02,  8.8697e-02,\n",
       "          -2.1596e-02, -3.4793e-03, -3.5320e-03,  2.4253e-02, -6.4351e-02,\n",
       "           9.1308e-02,  3.2939e-03,  8.7015e-02,  7.6402e-02,  3.7403e-03,\n",
       "           8.6861e-02,  9.7258e-02,  8.5594e-03, -7.4095e-02, -3.0386e-02,\n",
       "           1.9239e-02,  8.7969e-02, -3.8945e-02,  8.8909e-02,  9.6422e-02,\n",
       "          -9.6477e-02,  7.8111e-02, -6.9839e-02,  5.2761e-03, -8.4703e-02,\n",
       "           2.8231e-02, -7.1033e-02, -7.0903e-02, -4.3922e-02,  6.6933e-02,\n",
       "           6.5302e-02,  6.2316e-02,  4.3296e-02, -8.6186e-02, -1.6563e-02,\n",
       "           3.1130e-02, -5.0632e-02,  1.5701e-02,  1.5233e-02,  5.0391e-02,\n",
       "          -7.1028e-02, -4.8555e-02,  4.0125e-02,  4.5902e-02, -6.6630e-02,\n",
       "          -2.0436e-02, -9.9757e-03,  8.7104e-02, -1.0167e-02, -9.3075e-02,\n",
       "          -5.2944e-02, -8.7563e-02,  9.8435e-02, -7.9410e-02,  8.4008e-02,\n",
       "          -3.3840e-02, -8.2708e-02, -9.8736e-02, -3.1786e-02, -5.5548e-02,\n",
       "          -6.1753e-02, -1.5422e-02, -7.7988e-02,  3.1220e-02,  7.4992e-02],\n",
       "         [ 5.2465e-02,  8.2773e-02,  3.3618e-02, -7.5789e-02, -2.7304e-02,\n",
       "          -1.6737e-02, -3.6147e-02, -5.8315e-02, -5.4616e-02, -7.4186e-02,\n",
       "          -7.2372e-02,  1.7409e-02,  6.7464e-02,  8.0806e-02,  5.7787e-02,\n",
       "          -5.2008e-03,  5.3460e-02,  3.5108e-02,  7.3406e-02, -8.4069e-02,\n",
       "          -7.0506e-02, -4.4373e-02,  5.2645e-03,  2.3414e-02,  6.9499e-02,\n",
       "          -6.5295e-02, -5.4423e-02, -8.9021e-02,  8.9065e-02, -8.0416e-02,\n",
       "          -2.3458e-02, -5.7706e-02,  3.4421e-02, -1.3738e-02, -4.2876e-02,\n",
       "          -1.3143e-02, -5.3543e-02,  5.8272e-02, -3.1956e-02,  8.1708e-02,\n",
       "          -1.3053e-02, -7.4749e-03,  4.5934e-02,  3.4226e-03, -6.1200e-02,\n",
       "          -4.9980e-02, -6.8974e-02, -9.3781e-02, -1.3096e-03,  1.9978e-02,\n",
       "           4.2247e-02,  4.5958e-02, -5.3347e-02, -5.3649e-02,  1.7977e-02,\n",
       "          -6.9052e-02, -3.8421e-02,  5.0400e-02,  7.3446e-02, -2.5282e-02,\n",
       "           1.4108e-02,  3.6074e-02, -1.6640e-02, -4.9198e-02,  5.7143e-02,\n",
       "           5.5694e-02, -1.4504e-02,  3.3250e-02,  2.7913e-02,  3.2838e-02,\n",
       "          -3.4863e-02, -1.5688e-02, -9.5592e-02,  4.8054e-02,  7.2183e-02,\n",
       "          -4.5091e-02, -1.9587e-03, -3.1745e-02,  2.3226e-02,  3.0363e-02,\n",
       "          -9.8486e-03, -9.6324e-03, -8.5730e-02, -7.9779e-02,  6.3875e-02,\n",
       "           5.3589e-02, -4.0447e-02, -9.7318e-02,  6.0888e-02,  8.8256e-02,\n",
       "          -8.5344e-02, -4.6739e-02, -6.6708e-02,  6.0451e-02, -8.2480e-03,\n",
       "           2.5138e-02, -9.1249e-02, -1.4312e-02, -3.4052e-02,  9.6011e-02],\n",
       "         [-4.7188e-02,  5.2714e-02, -8.1813e-02, -3.5335e-04,  8.2175e-02,\n",
       "          -7.4389e-02,  6.9069e-02, -6.2425e-02,  6.1408e-02,  4.8569e-02,\n",
       "          -2.0095e-02,  7.6242e-02,  9.6035e-04, -1.9451e-02,  8.5887e-02,\n",
       "           3.9598e-02, -1.4065e-02,  4.4958e-02,  9.4361e-03, -3.9646e-02,\n",
       "          -2.8046e-02,  1.3047e-02,  3.2405e-03, -6.8733e-02, -8.8793e-02,\n",
       "          -8.8005e-02,  1.8123e-02, -9.7550e-02, -5.3592e-02,  7.1918e-02,\n",
       "           2.0143e-02, -6.3753e-02,  1.3725e-03,  7.2656e-02, -3.2911e-02,\n",
       "          -8.4279e-02,  9.6977e-02, -8.3551e-02,  5.6569e-03, -7.4912e-02,\n",
       "          -2.1733e-02,  5.2982e-03,  2.0660e-02,  3.1220e-02,  6.5273e-02,\n",
       "           2.8701e-02,  7.6696e-02,  6.1444e-02, -6.2043e-02, -1.8561e-02,\n",
       "          -1.6438e-02,  9.8358e-02,  6.9795e-02, -8.2671e-02, -6.9019e-02,\n",
       "           9.1751e-02, -3.6539e-02,  2.0943e-02,  9.5563e-04, -8.7703e-02,\n",
       "           3.9146e-02, -6.4609e-02,  4.0291e-03, -6.6325e-02,  8.7246e-02,\n",
       "          -5.7385e-02, -6.9011e-02, -2.6791e-02, -6.9936e-02,  3.7565e-02,\n",
       "           8.4229e-02,  2.8016e-02, -9.5392e-02, -3.1391e-02, -3.0295e-02,\n",
       "           5.8900e-02, -2.1798e-03,  9.9799e-02, -8.2702e-02,  5.2520e-02,\n",
       "           9.2836e-02, -4.6513e-02, -7.8077e-02, -4.2538e-02,  1.5096e-03,\n",
       "          -6.9734e-02,  5.1090e-02,  8.9691e-02, -2.8182e-02,  5.9920e-02,\n",
       "          -9.1926e-02,  4.9999e-02, -5.1286e-02, -5.5884e-02,  1.8828e-02,\n",
       "          -7.9881e-03, -6.6160e-02, -4.6167e-02, -4.7361e-02,  4.3426e-03],\n",
       "         [-2.8201e-02, -6.1254e-02,  2.3076e-02,  6.1877e-02, -1.3039e-03,\n",
       "          -1.6622e-02, -3.7477e-02, -3.1282e-02,  3.8792e-02,  5.1567e-02,\n",
       "           4.7236e-03,  4.1584e-02,  6.3928e-02,  1.7675e-02, -3.0088e-02,\n",
       "          -4.9406e-02,  4.5158e-02,  6.9873e-02, -2.0614e-02, -8.8552e-02,\n",
       "          -5.4255e-02, -8.4626e-02,  3.9463e-04, -2.4540e-02,  6.1386e-02,\n",
       "          -3.5833e-03, -3.1984e-02, -6.8267e-02,  6.8598e-02,  1.1544e-02,\n",
       "          -8.4259e-02,  5.6650e-02, -8.7996e-02,  6.7740e-02, -4.6643e-02,\n",
       "           4.5564e-02, -1.6935e-02,  8.9106e-02, -8.4941e-02,  1.2104e-03,\n",
       "          -2.2388e-02, -9.7319e-02, -4.9503e-02, -6.0068e-03, -2.1427e-02,\n",
       "           3.6019e-02, -4.9503e-03, -1.5046e-02,  7.9324e-02,  9.0838e-02,\n",
       "          -8.1700e-02, -5.1400e-02,  3.2469e-02,  9.8291e-02, -4.6056e-02,\n",
       "           5.0619e-02,  1.0386e-02, -5.1228e-02,  4.2009e-02,  5.3037e-02,\n",
       "          -2.8155e-02,  8.0942e-02, -3.9317e-02,  7.0168e-02, -4.6451e-02,\n",
       "          -5.2110e-02, -3.5018e-02, -2.6912e-02, -7.7457e-02,  2.5641e-02,\n",
       "           2.4910e-02, -8.6115e-02,  5.9335e-02,  7.2357e-02,  7.3955e-02,\n",
       "           6.3304e-02, -5.4840e-02,  8.1031e-02, -5.8810e-02, -5.1038e-02,\n",
       "          -7.1865e-03, -9.4798e-02, -9.6859e-02, -3.5105e-02, -7.4757e-02,\n",
       "           4.9771e-02, -3.5667e-02,  2.3120e-02,  1.3677e-02,  8.6693e-03,\n",
       "           1.3786e-02,  4.0332e-02,  1.8451e-02,  3.8793e-02,  9.3509e-02,\n",
       "           9.6036e-02, -4.1144e-02, -7.9724e-02, -4.2454e-02, -7.6309e-03],\n",
       "         [-9.2413e-02,  8.6912e-02, -1.6663e-02,  5.1891e-02, -2.7741e-02,\n",
       "          -8.7339e-02, -8.4374e-02,  7.5360e-02, -4.4570e-02,  3.1222e-02,\n",
       "          -1.9131e-02, -3.4101e-02,  6.0292e-02, -9.7208e-02,  2.2427e-02,\n",
       "           5.4904e-02,  9.2404e-02, -8.7286e-02,  5.2261e-02,  3.5139e-02,\n",
       "           5.5944e-02,  5.0865e-02, -8.6059e-02, -6.1620e-02,  3.4842e-02,\n",
       "           4.5070e-02, -3.3191e-02,  5.8955e-02,  7.0562e-02, -6.5792e-03,\n",
       "          -6.4994e-02, -6.7254e-03, -2.2007e-02,  1.0084e-02, -3.8335e-02,\n",
       "           2.4815e-02,  2.4787e-02, -3.0340e-02, -5.3575e-02, -4.2481e-02,\n",
       "          -6.0620e-03, -2.9387e-02,  6.1805e-02, -9.1403e-03,  1.3519e-02,\n",
       "           2.9762e-02,  1.4810e-03, -8.8731e-02, -5.8405e-02, -2.8808e-02,\n",
       "           7.4805e-03,  7.1085e-02, -4.1637e-02,  9.2039e-02, -2.3981e-03,\n",
       "          -1.6170e-02,  1.5452e-02,  5.3773e-02, -5.8165e-03, -5.5579e-02,\n",
       "          -8.3071e-02,  8.3657e-02,  5.6236e-02, -6.0871e-03, -4.5659e-02,\n",
       "           6.7934e-03,  8.6254e-02,  7.1074e-02, -3.5204e-02, -3.6160e-02,\n",
       "           9.2792e-02, -8.1865e-02, -5.4975e-02, -4.7926e-02, -9.3523e-02,\n",
       "           8.6123e-02, -8.0060e-02, -3.6602e-02, -3.2689e-02,  2.9762e-02,\n",
       "           6.6413e-02, -9.5734e-02,  9.2380e-02,  2.6232e-02,  7.0127e-02,\n",
       "          -3.4570e-02,  2.3217e-02,  5.1093e-02, -3.1330e-02, -5.5430e-04,\n",
       "           2.4945e-02, -4.2115e-02, -3.5217e-02,  3.3248e-02, -9.9420e-02,\n",
       "          -1.2700e-02, -4.6849e-02, -3.8668e-02, -5.1536e-02, -2.1511e-02],\n",
       "         [ 1.0609e-03, -5.9038e-02,  3.0677e-02, -6.0919e-02, -7.1994e-02,\n",
       "          -4.3331e-02, -9.4376e-02,  4.2969e-02,  3.3766e-02,  2.8683e-02,\n",
       "          -1.9660e-02, -5.0903e-02,  7.9702e-02,  8.8047e-03,  5.2572e-02,\n",
       "          -5.6306e-03,  6.8801e-02,  9.6961e-03,  9.0556e-02, -3.9082e-02,\n",
       "           5.4436e-02,  5.5818e-02, -8.8301e-02,  1.1866e-02,  4.5377e-02,\n",
       "          -4.3512e-02, -7.2657e-02,  6.4762e-02,  2.6953e-02, -8.4790e-02,\n",
       "          -4.3509e-02, -7.0736e-05, -6.5276e-02, -7.7001e-02,  6.9365e-02,\n",
       "           5.0472e-03,  4.4002e-02, -3.3113e-02, -4.9635e-02, -1.1076e-02,\n",
       "          -6.6941e-02,  7.8511e-02, -6.7719e-02, -2.6412e-02,  6.3542e-02,\n",
       "          -2.0020e-02,  4.6521e-02,  1.7236e-02, -2.8138e-02, -3.4389e-03,\n",
       "           2.8007e-02,  5.8198e-03, -2.6837e-02, -1.0071e-02, -8.9217e-02,\n",
       "          -5.8735e-02,  8.5899e-02,  4.8699e-02, -6.3327e-02, -1.5404e-02,\n",
       "          -5.5136e-02,  5.9252e-02, -8.0909e-02, -7.9138e-02,  6.4052e-02,\n",
       "           3.6309e-02,  5.0337e-02,  3.8814e-02,  9.2564e-02,  8.5629e-02,\n",
       "          -3.7757e-02, -8.9202e-02, -5.2836e-02,  7.8719e-02,  2.5032e-02,\n",
       "          -6.5890e-03,  9.9344e-02, -4.4953e-02, -2.6181e-02,  6.2506e-02,\n",
       "           3.3382e-02,  8.3609e-02, -5.5063e-02,  6.5864e-02,  1.3754e-02,\n",
       "          -6.3720e-02,  6.4235e-02,  8.1882e-02, -4.4783e-02,  2.1857e-02,\n",
       "          -7.7743e-02,  2.8345e-02, -3.0855e-02,  5.5091e-02, -4.8174e-02,\n",
       "          -9.7473e-02,  7.3381e-02,  8.8041e-02,  5.8266e-02, -5.6478e-02],\n",
       "         [ 7.2836e-02,  3.7031e-02, -1.9612e-02, -9.9625e-02,  8.0114e-02,\n",
       "          -3.2403e-02, -7.6060e-02,  5.0968e-02,  2.5203e-02,  7.4528e-02,\n",
       "           5.3762e-02,  2.8188e-02, -1.5862e-02,  4.5806e-02,  5.6627e-02,\n",
       "           2.3014e-02,  3.4188e-02,  5.2842e-02, -8.3434e-02, -5.2129e-03,\n",
       "          -7.6534e-03, -3.0507e-03,  5.9685e-02,  8.2230e-02,  5.8570e-02,\n",
       "           9.8526e-02, -8.5179e-02,  8.4883e-02, -4.5937e-03,  7.2675e-03,\n",
       "          -9.4842e-02, -7.4065e-02, -6.2140e-02,  4.9327e-02, -8.7117e-03,\n",
       "           8.2784e-02,  6.3823e-02,  1.3311e-03, -6.8956e-03, -5.8494e-02,\n",
       "          -5.2180e-02, -3.3390e-02,  9.8708e-03,  1.3326e-02, -1.2745e-02,\n",
       "          -4.2750e-02, -4.8708e-02, -7.3565e-02, -5.2867e-02,  4.9655e-03,\n",
       "           4.3410e-02, -2.5458e-02,  4.9881e-02,  7.9365e-02, -9.3136e-02,\n",
       "           5.5866e-02,  7.3422e-02,  7.0526e-02,  9.2448e-02,  3.2988e-02,\n",
       "           8.6309e-02, -4.5954e-02,  5.5095e-02,  2.9926e-02, -4.6686e-02,\n",
       "           7.7378e-02, -9.2361e-02,  1.2836e-02,  4.5156e-02,  1.4475e-03,\n",
       "           4.6411e-02,  1.7670e-02,  1.0988e-02, -1.5165e-02, -2.8109e-02,\n",
       "           5.6830e-02, -3.7669e-02,  7.2194e-02,  8.3593e-02, -1.5324e-02,\n",
       "          -6.4622e-02, -4.4007e-02, -5.4619e-02,  7.2215e-02, -5.5855e-02,\n",
       "           8.9065e-03,  8.9209e-02,  2.4128e-03, -7.0561e-02,  2.2537e-02,\n",
       "           1.6732e-02,  4.7355e-02, -4.3417e-02, -5.9188e-02, -4.9911e-03,\n",
       "          -6.1806e-02, -4.9832e-02,  5.6467e-02,  2.7617e-02, -2.4378e-02],\n",
       "         [-8.6646e-02, -1.1037e-02,  7.7775e-02, -3.9034e-02, -6.0715e-02,\n",
       "          -5.2423e-03,  3.5421e-02, -3.6936e-02, -3.3783e-02, -7.1125e-02,\n",
       "           9.5613e-02,  3.6087e-02, -3.7152e-03, -1.2541e-02,  4.0551e-02,\n",
       "          -1.6232e-03, -7.4105e-02,  7.6272e-02,  9.2956e-02, -7.4262e-02,\n",
       "          -2.1187e-02, -9.9436e-02, -1.5655e-02,  3.1398e-03, -2.6128e-03,\n",
       "          -5.9869e-02, -7.5551e-02, -4.5638e-02, -2.1444e-04,  1.0141e-02,\n",
       "           2.0642e-02, -9.1265e-02,  8.6009e-02,  6.9304e-02, -1.2216e-02,\n",
       "           3.4098e-02, -2.7223e-03, -9.8447e-02, -2.1217e-02,  5.5882e-02,\n",
       "           7.3218e-02, -7.5317e-02,  7.0481e-02, -7.5984e-02,  5.4348e-02,\n",
       "           4.8242e-02, -9.0376e-02, -6.4437e-02, -8.8491e-02, -7.5645e-02,\n",
       "          -2.1510e-02, -2.8855e-02,  9.6719e-02, -1.3424e-02,  8.6843e-02,\n",
       "           7.4863e-02,  8.2180e-02,  1.4029e-02,  5.1904e-02,  7.7377e-02,\n",
       "           7.0104e-02,  1.5581e-02, -1.8055e-02, -2.6812e-02,  4.7298e-02,\n",
       "           4.2234e-02, -1.1821e-02,  9.3429e-02,  4.1594e-02,  6.4629e-02,\n",
       "           2.2802e-02,  2.2095e-02, -9.9211e-02,  7.4771e-02,  7.2473e-03,\n",
       "           6.1815e-02, -3.3866e-02, -3.5810e-03,  4.1030e-02, -6.7209e-02,\n",
       "          -2.7791e-02, -6.7165e-02, -8.9152e-02, -8.3283e-02,  7.2459e-03,\n",
       "          -3.2889e-02,  3.3560e-02,  4.6828e-02, -6.0030e-02, -4.3710e-02,\n",
       "           4.3032e-02, -6.3475e-02,  4.8436e-02, -7.7787e-02,  2.8233e-02,\n",
       "          -1.1963e-02, -9.2814e-02, -1.8082e-02,  4.9398e-02,  6.7248e-02],\n",
       "         [ 9.8874e-02, -7.1073e-02,  5.3211e-02, -9.6050e-02,  8.3520e-02,\n",
       "           8.2706e-02, -8.1610e-02, -3.1157e-02, -4.2463e-02, -2.6415e-02,\n",
       "          -3.1131e-02,  5.6432e-02,  5.9633e-02, -6.2265e-03,  7.9772e-02,\n",
       "           6.8848e-02, -6.4318e-02, -5.1430e-02, -2.5132e-02,  2.7668e-02,\n",
       "          -6.8744e-02, -7.3947e-02,  5.9403e-02,  6.6041e-02,  3.1736e-02,\n",
       "          -1.4235e-02,  1.8975e-02,  7.6042e-02,  8.5887e-02,  5.2028e-02,\n",
       "          -5.9701e-02, -9.8670e-03, -7.1477e-02, -6.2930e-02,  9.9002e-02,\n",
       "          -2.5890e-02, -3.6949e-02, -6.1020e-02,  4.3172e-03, -5.3371e-03,\n",
       "          -3.2102e-02,  2.1582e-02,  7.7476e-02, -4.5850e-02, -2.1652e-02,\n",
       "          -5.8892e-02,  5.9057e-02,  5.6358e-02, -3.1894e-02, -6.1564e-04,\n",
       "          -3.5117e-03,  2.4761e-02,  7.5378e-02,  4.4647e-02, -9.7246e-02,\n",
       "          -1.2572e-02,  8.6097e-02,  2.2168e-03, -8.3230e-02, -3.5726e-02,\n",
       "          -6.7587e-02, -6.1240e-02, -5.6901e-02,  6.3630e-02,  5.4411e-02,\n",
       "          -7.7068e-02, -6.4225e-02, -3.8121e-02, -9.8197e-02,  2.1056e-02,\n",
       "          -7.8114e-02, -6.0355e-02,  7.1163e-02,  4.3113e-02,  9.6105e-02,\n",
       "           2.1099e-02, -9.9143e-02, -4.1720e-02,  1.9764e-02,  4.3804e-02,\n",
       "          -1.7785e-02, -9.9812e-03,  2.2592e-02,  1.8747e-02,  1.0900e-03,\n",
       "           1.2227e-02,  5.7922e-02,  1.6008e-02,  3.8211e-02,  7.7726e-02,\n",
       "          -1.6645e-02,  6.6638e-02, -3.5651e-02, -6.1577e-03, -2.1691e-02,\n",
       "           4.4041e-02, -1.7404e-02,  4.8251e-02,  9.8789e-02,  6.1822e-02],\n",
       "         [ 4.7171e-02,  7.1471e-02, -2.3397e-02, -4.1514e-02,  5.0075e-02,\n",
       "           9.9884e-02,  7.2341e-02, -5.3543e-02,  8.6670e-02, -4.9494e-02,\n",
       "          -4.7045e-02, -8.7140e-02,  5.6936e-04,  6.9717e-02,  7.6698e-02,\n",
       "           1.1418e-02, -2.0874e-02, -6.0387e-02,  5.7506e-02,  8.7928e-03,\n",
       "           4.1098e-02,  7.4973e-02,  2.7969e-02, -5.3444e-02,  3.1631e-02,\n",
       "           8.7602e-02,  9.0228e-02,  2.2880e-02, -2.8804e-02, -1.2944e-02,\n",
       "          -7.9011e-02,  1.2421e-02,  3.1349e-02, -9.7288e-02, -9.4307e-02,\n",
       "           7.8543e-02, -4.2789e-02, -8.5246e-02, -2.2620e-02, -9.9405e-02,\n",
       "          -7.3407e-02,  7.0793e-02, -6.7300e-02,  2.2829e-02,  8.4417e-02,\n",
       "           4.1784e-02, -8.5199e-02, -7.2453e-02,  9.0982e-02,  4.7719e-02,\n",
       "           8.1931e-03, -8.7436e-03,  2.5248e-02,  4.5890e-02,  9.3086e-02,\n",
       "           7.6974e-02,  4.4805e-02, -3.6621e-02, -4.6370e-02, -7.6509e-02,\n",
       "          -5.1635e-02, -5.8245e-02,  8.4985e-02, -4.0817e-02, -6.6981e-02,\n",
       "           5.5884e-02, -6.2933e-02,  5.4366e-02,  1.2574e-02,  5.0759e-02,\n",
       "           9.2322e-02, -4.2325e-02,  3.8052e-02,  1.4746e-02, -8.7187e-02,\n",
       "          -4.2640e-02,  9.5863e-02,  3.8654e-02,  2.0129e-02,  5.0996e-02,\n",
       "           6.5253e-02, -8.4615e-02, -3.4798e-02, -4.5591e-02, -4.7210e-02,\n",
       "           2.0278e-02, -1.3545e-02,  4.7643e-02, -4.2066e-02, -8.2201e-02,\n",
       "          -7.0523e-02,  4.9426e-02, -3.9523e-02, -8.0866e-02,  6.3647e-02,\n",
       "           7.2001e-03,  8.6877e-02, -9.8297e-02,  9.7175e-02, -8.0988e-02]],\n",
       "        requires_grad=True),\n",
       " Parameter containing:\n",
       " tensor([ 0.0307, -0.0026, -0.0102,  0.0042,  0.0626,  0.0429, -0.0582, -0.0003,\n",
       "         -0.0408, -0.0736], requires_grad=True)]"
      ]
     },
     "execution_count": 22,
     "metadata": {},
     "output_type": "execute_result"
    }
   ],
   "execution_count": 22
  },
  {
   "metadata": {
    "ExecuteTime": {
     "end_time": "2025-01-16T11:08:30.103303Z",
     "start_time": "2025-01-16T11:08:30.101170Z"
    }
   },
   "cell_type": "code",
   "source": "# model.state_dict()  # 这种方法用于保存模型参数，看能看见参数属于模型的哪一部分",
   "id": "1ff4c623b0c998b2",
   "outputs": [],
   "execution_count": 23
  },
  {
   "metadata": {
    "ExecuteTime": {
     "end_time": "2025-01-16T11:08:42.883952Z",
     "start_time": "2025-01-16T11:08:42.880775Z"
    }
   },
   "cell_type": "code",
   "source": [
    "# 1. 定义损失函数 采用交叉熵损失\n",
    "loss_fct = nn.CrossEntropyLoss() #内部先做softmax，然后计算交叉熵\n",
    "# 2. 定义优化器 采用SGD\n",
    "# Optimizers specified in the torch.optim package,随机梯度下降\n",
    "optimizer = torch.optim.SGD(model.parameters(), lr=0.001, momentum=0.9)"
   ],
   "id": "6638a46283cf7ddc",
   "outputs": [],
   "execution_count": 24
  },
  {
   "metadata": {
    "ExecuteTime": {
     "end_time": "2025-01-16T11:08:52.618036Z",
     "start_time": "2025-01-16T11:08:52.546813Z"
    }
   },
   "cell_type": "code",
   "source": [
    "from sklearn.metrics import accuracy_score\n",
    "\n",
    "@torch.no_grad() # 装饰器，禁止反向传播，节省内存\n",
    "def evaluating(model, dataloader, loss_fct):\n",
    "    loss_list = [] # 记录损失\n",
    "    pred_list = [] # 记录预测\n",
    "    label_list = [] # 记录标签\n",
    "    for datas, labels in dataloader:#10000/32=312\n",
    "        datas = datas.to(device) # 转到GPU\n",
    "        labels = labels.to(device) # 转到GPU\n",
    "        # 前向计算\n",
    "        logits = model(datas)\n",
    "        loss = loss_fct(logits, labels)         # 验证集损失,loss尺寸是一个数值\n",
    "        loss_list.append(loss.item()) # 记录损失,item是把tensor转换为数值\n",
    "        \n",
    "        preds = logits.argmax(axis=-1)    # 验证集预测,argmax返回最大值索引\n",
    "        # print(preds)\n",
    "        pred_list.extend(preds.cpu().numpy().tolist())#将PyTorch张量转换为NumPy数组。只有当张量在CPU上时，这个转换才是合法的\n",
    "        # print(preds.cpu().numpy().tolist())\n",
    "        label_list.extend(labels.cpu().numpy().tolist())\n",
    "        \n",
    "    acc = accuracy_score(label_list, pred_list) # 计算准确率\n",
    "    return np.mean(loss_list), acc\n"
   ],
   "id": "d95b4180a21e5fb2",
   "outputs": [],
   "execution_count": 25
  },
  {
   "metadata": {
    "ExecuteTime": {
     "end_time": "2025-01-16T11:12:23.901940Z",
     "start_time": "2025-01-16T11:09:11.087278Z"
    }
   },
   "cell_type": "code",
   "source": [
    "# 训练\n",
    "def training(model, train_loader, val_loader, epoch, loss_fct, optimizer, eval_step=500):\n",
    "    record_dict = {\n",
    "        \"train\": [],\n",
    "        \"val\": []\n",
    "    }\n",
    "    \n",
    "    global_step = 0\n",
    "    model.train()\n",
    "    #tqdm是一个进度条库\n",
    "    with tqdm(total=epoch * len(train_loader)) as pbar: # 进度条 1875*20,60000/32=1875\n",
    "        for epoch_id in range(epoch): # 训练epoch次\n",
    "            # training\n",
    "            for datas, labels in train_loader: #执行次数是60000/32=1875\n",
    "                datas = datas.to(device) #datas尺寸是[batch_size,1,28,28]\n",
    "                labels = labels.to(device) #labels尺寸是[batch_size]\n",
    "                # 梯度清空\n",
    "                optimizer.zero_grad()\n",
    "                # 模型前向计算\n",
    "                logits = model(datas)\n",
    "                # 计算损失\n",
    "                loss = loss_fct(logits, labels)\n",
    "                # 梯度回传，loss.backward()会计算梯度，loss对模型参数求导\n",
    "                loss.backward()\n",
    "                # 调整优化器，包括学习率的变动等,优化器的学习率会随着训练的进行而减小，更新w,b\n",
    "                optimizer.step() #梯度是计算并存储在模型参数的 .grad 属性中，优化器使用这些存储的梯度来更新模型参数\n",
    "\n",
    "                preds = logits.argmax(axis=-1) # 训练集预测\n",
    "                acc = accuracy_score(labels.cpu().numpy(), preds.cpu().numpy())   # 计算准确率，numpy可以\n",
    "                loss = loss.cpu().item() # 损失转到CPU，item()取值,一个数值\n",
    "                # record\n",
    "                \n",
    "                record_dict[\"train\"].append({\n",
    "                    \"loss\": loss, \"acc\": acc, \"step\": global_step\n",
    "                }) # 记录训练集信息，每一步的损失，准确率，步数\n",
    "                \n",
    "                # evaluating\n",
    "                if global_step % eval_step == 0:\n",
    "                    model.eval() # 进入评估模式\n",
    "                    val_loss, val_acc = evaluating(model, val_loader, loss_fct)\n",
    "                    record_dict[\"val\"].append({\n",
    "                        \"loss\": val_loss, \"acc\": val_acc, \"step\": global_step\n",
    "                    })\n",
    "                    model.train() # 进入训练模式\n",
    "\n",
    "                # udate step\n",
    "                global_step += 1 # 全局步数加1\n",
    "                pbar.update(1) # 更新进度条\n",
    "                pbar.set_postfix({\"epoch\": epoch_id}) # 设置进度条显示信息\n",
    "        \n",
    "    return record_dict\n",
    "        \n",
    "\n",
    "epoch = 20 #改为40\n",
    "model = model.to(device)\n",
    "record = training(model, train_loader, val_loader, epoch, loss_fct, optimizer, eval_step=1000)"
   ],
   "id": "385f91825482e788",
   "outputs": [
    {
     "data": {
      "text/plain": [
       "  0%|          | 0/37500 [00:00<?, ?it/s]"
      ],
      "application/vnd.jupyter.widget-view+json": {
       "version_major": 2,
       "version_minor": 0,
       "model_id": "6dc35ac9736445d5bc5c3458829ceb1d"
      }
     },
     "metadata": {},
     "output_type": "display_data"
    }
   ],
   "execution_count": 26
  },
  {
   "metadata": {
    "ExecuteTime": {
     "end_time": "2025-01-16T11:14:39.969558Z",
     "start_time": "2025-01-16T11:14:39.966258Z"
    }
   },
   "cell_type": "code",
   "source": "record[\"train\"][-5:]",
   "id": "8467f560a3925e2d",
   "outputs": [
    {
     "data": {
      "text/plain": [
       "[{'loss': 0.3497258126735687, 'acc': 0.84375, 'step': 37495},\n",
       " {'loss': 0.3589205741882324, 'acc': 0.875, 'step': 37496},\n",
       " {'loss': 0.4301442801952362, 'acc': 0.875, 'step': 37497},\n",
       " {'loss': 0.2670866549015045, 'acc': 0.9375, 'step': 37498},\n",
       " {'loss': 0.37200361490249634, 'acc': 0.875, 'step': 37499}]"
      ]
     },
     "execution_count": 27,
     "metadata": {},
     "output_type": "execute_result"
    }
   ],
   "execution_count": 27
  },
  {
   "metadata": {
    "ExecuteTime": {
     "end_time": "2025-01-16T11:14:46.397668Z",
     "start_time": "2025-01-16T11:14:46.394173Z"
    }
   },
   "cell_type": "code",
   "source": "record[\"val\"][-5:]",
   "id": "450d618d0103e0df",
   "outputs": [
    {
     "data": {
      "text/plain": [
       "[{'loss': np.float64(0.36926830721834597), 'acc': 0.868, 'step': 33000},\n",
       " {'loss': np.float64(0.35619229597215074), 'acc': 0.8724, 'step': 34000},\n",
       " {'loss': np.float64(0.3534266349082938), 'acc': 0.8719, 'step': 35000},\n",
       " {'loss': np.float64(0.3509961279769675), 'acc': 0.8754, 'step': 36000},\n",
       " {'loss': np.float64(0.35652577971069577), 'acc': 0.8723, 'step': 37000}]"
      ]
     },
     "execution_count": 28,
     "metadata": {},
     "output_type": "execute_result"
    }
   ],
   "execution_count": 28
  },
  {
   "metadata": {
    "ExecuteTime": {
     "end_time": "2025-01-16T11:14:57.572896Z",
     "start_time": "2025-01-16T11:14:57.426312Z"
    }
   },
   "cell_type": "code",
   "source": [
    "#画线要注意的是损失是不一定在零到1之间的\n",
    "def plot_learning_curves(record_dict, sample_step=1000):\n",
    "    # build DataFrame\n",
    "    train_df = pd.DataFrame(record_dict[\"train\"]).set_index(\"step\").iloc[::sample_step]\n",
    "    val_df = pd.DataFrame(record_dict[\"val\"]).set_index(\"step\")\n",
    "    last_step = train_df.index[-1] # 最后一步的步数\n",
    "    # print(train_df.columns)\n",
    "    print(train_df['acc'])\n",
    "    print(val_df['acc'])\n",
    "    # plot\n",
    "    fig_num = len(train_df.columns) # 画几张图,分别是损失和准确率\n",
    "    fig, axs = plt.subplots(1, fig_num, figsize=(5 * fig_num, 5))\n",
    "    for idx, item in enumerate(train_df.columns):\n",
    "        # print(train_df[item].values)\n",
    "        axs[idx].plot(train_df.index, train_df[item], label=f\"train_{item}\")\n",
    "        axs[idx].plot(val_df.index, val_df[item], label=f\"val_{item}\")\n",
    "        axs[idx].grid() # 显示网格\n",
    "        axs[idx].legend() # 显示图例\n",
    "        axs[idx].set_xticks(range(0, train_df.index[-1], 5000)) # 设置x轴刻度\n",
    "        axs[idx].set_xticklabels(map(lambda x: f\"{int(x/1000)}k\", range(0, last_step, 5000))) # 设置x轴标签\n",
    "        axs[idx].set_xlabel(\"step\")\n",
    "    \n",
    "    plt.show()\n",
    "\n",
    "plot_learning_curves(record)  #横坐标是 steps"
   ],
   "id": "2f6c0e1c0175a772",
   "outputs": [
    {
     "name": "stdout",
     "output_type": "stream",
     "text": [
      "step\n",
      "0        0.00000\n",
      "1000     0.75000\n",
      "2000     0.78125\n",
      "3000     0.75000\n",
      "4000     0.84375\n",
      "5000     0.81250\n",
      "6000     0.81250\n",
      "7000     0.84375\n",
      "8000     0.81250\n",
      "9000     0.78125\n",
      "10000    0.81250\n",
      "11000    0.84375\n",
      "12000    0.78125\n",
      "13000    0.96875\n",
      "14000    0.96875\n",
      "15000    0.84375\n",
      "16000    0.90625\n",
      "17000    0.71875\n",
      "18000    0.93750\n",
      "19000    0.87500\n",
      "20000    0.75000\n",
      "21000    0.75000\n",
      "22000    0.90625\n",
      "23000    0.90625\n",
      "24000    0.90625\n",
      "25000    0.90625\n",
      "26000    0.84375\n",
      "27000    0.93750\n",
      "28000    0.87500\n",
      "29000    0.93750\n",
      "30000    0.93750\n",
      "31000    0.78125\n",
      "32000    0.75000\n",
      "33000    0.93750\n",
      "34000    0.93750\n",
      "35000    0.90625\n",
      "36000    0.87500\n",
      "37000    0.87500\n",
      "Name: acc, dtype: float64\n",
      "step\n",
      "0        0.0533\n",
      "1000     0.6763\n",
      "2000     0.7605\n",
      "3000     0.7947\n",
      "4000     0.8119\n",
      "5000     0.8101\n",
      "6000     0.8251\n",
      "7000     0.8248\n",
      "8000     0.8301\n",
      "9000     0.8321\n",
      "10000    0.8409\n",
      "11000    0.8432\n",
      "12000    0.8439\n",
      "13000    0.8437\n",
      "14000    0.8517\n",
      "15000    0.8463\n",
      "16000    0.8518\n",
      "17000    0.8544\n",
      "18000    0.8598\n",
      "19000    0.8566\n",
      "20000    0.8587\n",
      "21000    0.8584\n",
      "22000    0.8590\n",
      "23000    0.8614\n",
      "24000    0.8668\n",
      "25000    0.8611\n",
      "26000    0.8626\n",
      "27000    0.8652\n",
      "28000    0.8661\n",
      "29000    0.8711\n",
      "30000    0.8697\n",
      "31000    0.8699\n",
      "32000    0.8714\n",
      "33000    0.8680\n",
      "34000    0.8724\n",
      "35000    0.8719\n",
      "36000    0.8754\n",
      "37000    0.8723\n",
      "Name: acc, dtype: float64\n"
     ]
    },
    {
     "data": {
      "text/plain": [
       "<Figure size 1000x500 with 2 Axes>"
      ],
      "image/png": "[encoded data removed]"
     },
     "metadata": {},
     "output_type": "display_data"
    }
   ],
   "execution_count": 29
  },
  {
   "metadata": {
    "ExecuteTime": {
     "end_time": "2025-01-16T11:15:13.459828Z",
     "start_time": "2025-01-16T11:15:12.604509Z"
    }
   },
   "cell_type": "code",
   "source": [
    "# dataload for evaluating\n",
    "\n",
    "model.eval() # 进入评估模式\n",
    "loss, acc = evaluating(model, val_loader, loss_fct)\n",
    "print(f\"loss:     {loss:.4f}\\naccuracy: {acc:.4f}\")"
   ],
   "id": "9908aeffcd3652ea",
   "outputs": [
    {
     "name": "stdout",
     "output_type": "stream",
     "text": [
      "loss:     0.3603\n",
      "accuracy: 0.8713\n"
     ]
    }
   ],
   "execution_count": 30
  }
 ],
 "metadata": {
  "kernelspec": {
   "display_name": "Python 3",
   "language": "python",
   "name": "python3"
  },
  "language_info": {
   "codemirror_mode": {
    "name": "ipython",
    "version": 2
   },
   "file_extension": ".py",
   "mimetype": "text/x-python",
   "name": "python",
   "nbconvert_exporter": "python",
   "pygments_lexer": "ipython2",
   "version": "2.7.6"
  }
 },
 "nbformat": 4,
 "nbformat_minor": 5
}
