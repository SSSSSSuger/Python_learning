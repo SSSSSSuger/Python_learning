{
 "cells": [
  {
   "cell_type": "code",
   "metadata": {
    "ExecuteTime": {
     "end_time": "2025-02-25T14:09:33.861264Z",
     "start_time": "2025-02-25T14:09:33.854204Z"
    }
   },
   "source": [
    "import matplotlib as mpl\n",
    "import matplotlib.pyplot as plt\n",
    "%matplotlib inline\n",
    "import numpy as np\n",
    "import sklearn\n",
    "import pandas as pd\n",
    "import os\n",
    "import sys\n",
    "import time\n",
    "from tqdm.auto import tqdm\n",
    "import torch\n",
    "import torch.nn as nn\n",
    "import torch.nn.functional as F\n",
    "\n",
    "print(sys.version_info)\n",
    "for module in mpl, np, pd, sklearn, torch:\n",
    "    print(module.__name__, module.__version__)\n",
    "    \n",
    "device = torch.device(\"cuda:0\") if torch.cuda.is_available() else torch.device(\"cpu\")\n",
    "print(device)\n",
    "\n",
    "seed = 42\n"
   ],
   "outputs": [
    {
     "name": "stdout",
     "output_type": "stream",
     "text": [
      "sys.version_info(major=3, minor=12, micro=3, releaselevel='final', serial=0)\n",
      "matplotlib 3.10.0\n",
      "numpy 2.0.2\n",
      "pandas 2.2.3\n",
      "sklearn 1.6.0\n",
      "torch 2.5.1+cu124\n",
      "cuda:0\n"
     ]
    }
   ],
   "execution_count": 50
  },
  {
   "attachments": {},
   "cell_type": "markdown",
   "metadata": {},
   "source": [
    "## 数据准备\n",
    "\n",
    "```shell\n",
    "$ tree -L 1 cifar-10                                    \n",
    "cifar-10\n",
    "├── sampleSubmission.csv\n",
    "├── test\n",
    "├── train\n",
    "└── trainLabels.csv\n",
    "```"
   ]
  },
  {
   "cell_type": "code",
   "metadata": {
    "ExecuteTime": {
     "end_time": "2025-02-25T14:09:35.358531Z",
     "start_time": "2025-02-25T14:09:33.952074Z"
    }
   },
   "source": [
    "from pathlib import Path\n",
    "\n",
    "DATA_DIR = Path(\"./cifar-10\")\n",
    "\n",
    "train_labels_file = DATA_DIR / \"trainLabels.csv\"\n",
    "test_csv_file = DATA_DIR / \"sampleSubmission.csv\" #测试集模板csv文件\n",
    "train_folder = DATA_DIR / \"train\"\n",
    "test_folder = DATA_DIR / \"test\"\n",
    "\n",
    "#所有的类别\n",
    "class_names = [\n",
    "    'airplane',\n",
    "    'automobile',\n",
    "    'bird',\n",
    "    'cat',\n",
    "    'deer',\n",
    "    'dog',\n",
    "    'frog',\n",
    "    'horse',\n",
    "    'ship',\n",
    "    'truck',\n",
    "]\n",
    "\n",
    "def parse_csv_file(filepath, folder): #filepath:csv文件路径，folder:图片所在文件夹\n",
    "    \"\"\"Parses csv files into (filename(path), label) format\"\"\"\n",
    "    results = []\n",
    "    #读取所有行\n",
    "    with open(filepath, 'r') as f:\n",
    "#       lines = f.readlines()  为什么加[1:]，可以试这个\n",
    "        #第一行不需要，因为第一行是标题\n",
    "        lines = f.readlines()[1:] \n",
    "    for line in lines:#依次去取每一行\n",
    "        image_id, label_str = line.strip('\\n').split(',') #图片id 和标签分离\n",
    "        image_full_path = folder / f\"{image_id}.png\"\n",
    "        results.append((image_full_path, label_str)) #得到对应图片的路径和分类\n",
    "    return results\n",
    "\n",
    "#解析对应的文件夹\n",
    "train_labels_info = parse_csv_file(train_labels_file, train_folder)\n",
    "test_csv_info = parse_csv_file(test_csv_file, test_folder)\n",
    "#打印\n",
    "import pprint\n",
    "pprint.pprint(train_labels_info[0:5])\n",
    "pprint.pprint(test_csv_info[0:5])\n",
    "print(len(train_labels_info), len(test_csv_info))"
   ],
   "outputs": [
    {
     "name": "stdout",
     "output_type": "stream",
     "text": [
      "[(WindowsPath('cifar-10/train/1.png'), 'frog'),\n",
      " (WindowsPath('cifar-10/train/2.png'), 'truck'),\n",
      " (WindowsPath('cifar-10/train/3.png'), 'truck'),\n",
      " (WindowsPath('cifar-10/train/4.png'), 'deer'),\n",
      " (WindowsPath('cifar-10/train/5.png'), 'automobile')]\n",
      "[(WindowsPath('cifar-10/test/1.png'), 'cat'),\n",
      " (WindowsPath('cifar-10/test/2.png'), 'cat'),\n",
      " (WindowsPath('cifar-10/test/3.png'), 'cat'),\n",
      " (WindowsPath('cifar-10/test/4.png'), 'cat'),\n",
      " (WindowsPath('cifar-10/test/5.png'), 'cat')]\n",
      "50000 300000\n"
     ]
    }
   ],
   "execution_count": 51
  },
  {
   "cell_type": "code",
   "metadata": {
    "ExecuteTime": {
     "end_time": "2025-02-25T14:09:35.398567Z",
     "start_time": "2025-02-25T14:09:35.358531Z"
    }
   },
   "source": [
    "# train_df = pd.DataFrame(train_labels_info)\n",
    "train_df = pd.DataFrame(train_labels_info[0:45000]) # 取前45000张图片作为训练集\n",
    "valid_df = pd.DataFrame(train_labels_info[45000:]) # 取后5000张图片作为验证集\n",
    "test_df = pd.DataFrame(test_csv_info)\n",
    "\n",
    "train_df.columns = ['filepath', 'class']\n",
    "valid_df.columns = ['filepath', 'class']\n",
    "test_df.columns = ['filepath', 'class']\n",
    "\n",
    "print(train_df.head())\n",
    "print(valid_df.head())\n",
    "print(test_df.head())"
   ],
   "outputs": [
    {
     "name": "stdout",
     "output_type": "stream",
     "text": [
      "               filepath       class\n",
      "0  cifar-10\\train\\1.png        frog\n",
      "1  cifar-10\\train\\2.png       truck\n",
      "2  cifar-10\\train\\3.png       truck\n",
      "3  cifar-10\\train\\4.png        deer\n",
      "4  cifar-10\\train\\5.png  automobile\n",
      "                   filepath       class\n",
      "0  cifar-10\\train\\45001.png       horse\n",
      "1  cifar-10\\train\\45002.png  automobile\n",
      "2  cifar-10\\train\\45003.png        deer\n",
      "3  cifar-10\\train\\45004.png  automobile\n",
      "4  cifar-10\\train\\45005.png    airplane\n",
      "              filepath class\n",
      "0  cifar-10\\test\\1.png   cat\n",
      "1  cifar-10\\test\\2.png   cat\n",
      "2  cifar-10\\test\\3.png   cat\n",
      "3  cifar-10\\test\\4.png   cat\n",
      "4  cifar-10\\test\\5.png   cat\n"
     ]
    }
   ],
   "execution_count": 52
  },
  {
   "cell_type": "code",
   "metadata": {
    "ExecuteTime": {
     "end_time": "2025-02-25T14:09:35.406146Z",
     "start_time": "2025-02-25T14:09:35.398567Z"
    }
   },
   "source": [
    "from PIL import Image\n",
    "from torch.utils.data import Dataset, DataLoader\n",
    "from torchvision import transforms\n",
    "\n",
    "class Cifar10Dataset(Dataset):\n",
    "    df_map = {\n",
    "        \"train\": train_df,\n",
    "        \"eval\": valid_df,\n",
    "        \"test\": test_df\n",
    "    }\n",
    "    label_to_idx = {label: idx for idx, label in enumerate(class_names)} # 类别映射为idx\n",
    "    idx_to_label = {idx: label for idx, label in enumerate(class_names)} # idx映射为类别,为了test测试集使用\n",
    "    def __init__(self, mode, transform=None):\n",
    "        self.df = self.df_map.get(mode, None) # 获取对应模式的df，不同字符串对应不同模式\n",
    "        if self.df is None:\n",
    "            raise ValueError(\"mode should be one of train, val, test, but got {}\".format(mode))\n",
    "        # assert self.df, \"df is None\"\n",
    "        self.transform = transform\n",
    "        \n",
    "    def __getitem__(self, index):\n",
    "        img_path, label = self.df.iloc[index] # 获取图片路径和标签\n",
    "        img = Image.open(img_path).convert('RGB')\n",
    "        # # img 转换为 channel first\n",
    "        # img = img.transpose((2, 0, 1))\n",
    "        # transform\n",
    "        img = self.transform(img) # 数据增强\n",
    "        # label 转换为 idx\n",
    "        label = self.label_to_idx[label]\n",
    "        return img, label\n",
    "    \n",
    "    def __len__(self):\n",
    "        return self.df.shape[0] # 返回df的行数,样本数\n",
    "    \n",
    "IMAGE_SIZE = 32\n",
    "# mean, std = [0.4914, 0.4822, 0.4465], [0.247, 0.243, 0.261]\n",
    "# mean, std = [0.4367, 0.4267, 0.3946], [0.2465, 0.2419, 0.2359]\n",
    "\n",
    "transforms_train = transforms.Compose([\n",
    "        # resize\n",
    "        transforms.Resize((IMAGE_SIZE, IMAGE_SIZE)), #缩放\n",
    "        # random rotation 40\n",
    "        transforms.RandomRotation(40), #随机旋转\n",
    "        # horizaontal flip\n",
    "        transforms.RandomHorizontalFlip(),  #随机水平翻转\n",
    "        transforms.ToTensor(), #转换为tensor\n",
    "        # transforms.Normalize(mean, std) #标准化\n",
    "    ]) #数据增强\n",
    "\n",
    "transforms_eval = transforms.Compose([\n",
    "        # resize\n",
    "        transforms.Resize((IMAGE_SIZE, IMAGE_SIZE)),\n",
    "        transforms.ToTensor(),\n",
    "        # transforms.Normalize(mean, std)\n",
    "    ])\n",
    "# ToTensor还将图像的维度从[height, width, channels]转换为[channels, height, width]。\n",
    "train_ds = Cifar10Dataset(\"train\", transforms_train)\n",
    "eval_ds = Cifar10Dataset(\"eval\", transforms_eval)"
   ],
   "outputs": [],
   "execution_count": 53
  },
  {
   "cell_type": "code",
   "source": [
    "train_ds[0][0].shape # 图片的shape,输入"
   ],
   "metadata": {
    "collapsed": false,
    "ExecuteTime": {
     "end_time": "2025-02-25T14:09:35.411770Z",
     "start_time": "2025-02-25T14:09:35.407153Z"
    }
   },
   "outputs": [
    {
     "data": {
      "text/plain": [
       "torch.Size([3, 32, 32])"
      ]
     },
     "execution_count": 54,
     "metadata": {},
     "output_type": "execute_result"
    }
   ],
   "execution_count": 54
  },
  {
   "cell_type": "code",
   "source": [
    "print(train_ds.idx_to_label)  # 类别映射为idx\n",
    "train_ds.label_to_idx # idx映射为类别"
   ],
   "metadata": {
    "collapsed": false,
    "ExecuteTime": {
     "end_time": "2025-02-25T14:09:35.417956Z",
     "start_time": "2025-02-25T14:09:35.412784Z"
    }
   },
   "outputs": [
    {
     "name": "stdout",
     "output_type": "stream",
     "text": [
      "{0: 'airplane', 1: 'automobile', 2: 'bird', 3: 'cat', 4: 'deer', 5: 'dog', 6: 'frog', 7: 'horse', 8: 'ship', 9: 'truck'}\n"
     ]
    },
    {
     "data": {
      "text/plain": [
       "{'airplane': 0,\n",
       " 'automobile': 1,\n",
       " 'bird': 2,\n",
       " 'cat': 3,\n",
       " 'deer': 4,\n",
       " 'dog': 5,\n",
       " 'frog': 6,\n",
       " 'horse': 7,\n",
       " 'ship': 8,\n",
       " 'truck': 9}"
      ]
     },
     "execution_count": 55,
     "metadata": {},
     "output_type": "execute_result"
    }
   ],
   "execution_count": 55
  },
  {
   "cell_type": "code",
   "metadata": {
    "ExecuteTime": {
     "end_time": "2025-02-25T14:11:49.900585Z",
     "start_time": "2025-02-25T14:11:49.898079Z"
    }
   },
   "source": [
    "batch_size = 256\n",
    "train_dl = DataLoader(train_ds, batch_size=batch_size, shuffle=True)   \n",
    "eval_dl = DataLoader(eval_ds, batch_size=batch_size, shuffle=False)"
   ],
   "outputs": [],
   "execution_count": 70
  },
  {
   "cell_type": "code",
   "metadata": {
    "ExecuteTime": {
     "end_time": "2025-02-25T14:10:02.441981Z",
     "start_time": "2025-02-25T14:09:35.423369Z"
    }
   },
   "source": [
    "# 遍历train_ds得到每张图片，计算每个通道的均值和方差\n",
    "def cal_mean_std(ds):\n",
    "    mean = 0.\n",
    "    std = 0.\n",
    "    for img, _ in ds:\n",
    "        mean += img.mean(dim=(1, 2))\n",
    "        std += img.std(dim=(1, 2))\n",
    "    mean /= len(ds)\n",
    "    std /= len(ds)\n",
    "    return mean, std\n",
    "\n",
    "# 经过 normalize 后 均值为0，方差为1\n",
    "print(cal_mean_std(train_ds))"
   ],
   "outputs": [
    {
     "name": "stdout",
     "output_type": "stream",
     "text": [
      "(tensor([0.4370, 0.4269, 0.3948]), tensor([0.2465, 0.2419, 0.2360]))\n"
     ]
    }
   ],
   "execution_count": 57
  },
  {
   "attachments": {},
   "cell_type": "markdown",
   "metadata": {},
   "source": [
    "## 定义模型"
   ]
  },
  {
   "cell_type": "code",
   "metadata": {
    "ExecuteTime": {
     "end_time": "2025-02-25T14:10:02.489023Z",
     "start_time": "2025-02-25T14:10:02.441981Z"
    }
   },
   "source": [
    "class CNN(nn.Module):\n",
    "    def __init__(self, num_classes):\n",
    "        super().__init__()\n",
    "        self.model = nn.Sequential(\n",
    "            nn.Conv2d(in_channels=3, out_channels=128, kernel_size=3, padding=\"same\"),\n",
    "            nn.ReLU(),\n",
    "            nn.BatchNorm2d(128),# 批标准化，在通道数做的归一化\n",
    "            nn.Conv2d(in_channels=128, out_channels=128, kernel_size=3, padding=\"same\"), #输出尺寸（128，32，32）\n",
    "            nn.ReLU(),\n",
    "            nn.BatchNorm2d(128),\n",
    "            nn.MaxPool2d(kernel_size=2), #输出尺寸（128，16，16）\n",
    "            nn.Conv2d(in_channels=128, out_channels=256, kernel_size=3, padding=\"same\"),\n",
    "            nn.ReLU(),\n",
    "            nn.BatchNorm2d(256),\n",
    "            nn.Conv2d(in_channels=256, out_channels=256, kernel_size=3, padding=\"same\"), #输出尺寸（256，16，16）\n",
    "            nn.ReLU(),\n",
    "            nn.BatchNorm2d(256),\n",
    "            nn.MaxPool2d(kernel_size=2),#输出尺寸（256，8，8）\n",
    "            nn.Conv2d(in_channels=256, out_channels=512, kernel_size=3, padding=\"same\"),\n",
    "            nn.ReLU(),\n",
    "            nn.BatchNorm2d(512),\n",
    "            nn.Conv2d(in_channels=512, out_channels=512, kernel_size=3, padding=\"same\"), #输出尺寸（512，8，8）\n",
    "            nn.ReLU(),\n",
    "            nn.BatchNorm2d(512),\n",
    "            nn.MaxPool2d(kernel_size=2), #输出尺寸（512，4，4）\n",
    "            nn.Flatten(), #展平\n",
    "            nn.Linear(8192, 512),\n",
    "            nn.ReLU(),\n",
    "            nn.Linear(512, num_classes),\n",
    "        ) #Sequential自动连接各层，把各层的输出作为下一层的输入\n",
    "        \n",
    "    def forward(self, x):\n",
    "        return self.model(x)\n",
    "        \n",
    "for key, value in CNN(len(class_names)).named_parameters():\n",
    "    print(f\"{key:^40}paramerters num: {np.prod(value.shape)}\")\n",
    "    \n"
   ],
   "outputs": [
    {
     "name": "stdout",
     "output_type": "stream",
     "text": [
      "             model.0.weight             paramerters num: 3456\n",
      "              model.0.bias              paramerters num: 128\n",
      "             model.2.weight             paramerters num: 128\n",
      "              model.2.bias              paramerters num: 128\n",
      "             model.3.weight             paramerters num: 147456\n",
      "              model.3.bias              paramerters num: 128\n",
      "             model.5.weight             paramerters num: 128\n",
      "              model.5.bias              paramerters num: 128\n",
      "             model.7.weight             paramerters num: 294912\n",
      "              model.7.bias              paramerters num: 256\n",
      "             model.9.weight             paramerters num: 256\n",
      "              model.9.bias              paramerters num: 256\n",
      "            model.10.weight             paramerters num: 589824\n",
      "             model.10.bias              paramerters num: 256\n",
      "            model.12.weight             paramerters num: 256\n",
      "             model.12.bias              paramerters num: 256\n",
      "            model.14.weight             paramerters num: 1179648\n",
      "             model.14.bias              paramerters num: 512\n",
      "            model.16.weight             paramerters num: 512\n",
      "             model.16.bias              paramerters num: 512\n",
      "            model.17.weight             paramerters num: 2359296\n",
      "             model.17.bias              paramerters num: 512\n",
      "            model.19.weight             paramerters num: 512\n",
      "             model.19.bias              paramerters num: 512\n",
      "            model.22.weight             paramerters num: 4194304\n",
      "             model.22.bias              paramerters num: 512\n",
      "            model.24.weight             paramerters num: 5120\n",
      "             model.24.bias              paramerters num: 10\n"
     ]
    }
   ],
   "execution_count": 58
  },
  {
   "cell_type": "code",
   "source": [
    "total_params = sum(p.numel() for p in CNN(len(class_names)).parameters() if p.requires_grad)\n",
    "print(f\"Total trainable parameters: {total_params}\")"
   ],
   "metadata": {
    "collapsed": false,
    "ExecuteTime": {
     "end_time": "2025-02-25T14:10:02.526385Z",
     "start_time": "2025-02-25T14:10:02.490030Z"
    }
   },
   "outputs": [
    {
     "name": "stdout",
     "output_type": "stream",
     "text": [
      "Total trainable parameters: 8779914\n"
     ]
    }
   ],
   "execution_count": 59
  },
  {
   "cell_type": "code",
   "source": [
    "512*4*4"
   ],
   "metadata": {
    "collapsed": false,
    "ExecuteTime": {
     "end_time": "2025-02-25T14:10:02.531408Z",
     "start_time": "2025-02-25T14:10:02.527390Z"
    }
   },
   "outputs": [
    {
     "data": {
      "text/plain": [
       "8192"
      ]
     },
     "execution_count": 60,
     "metadata": {},
     "output_type": "execute_result"
    }
   ],
   "execution_count": 60
  },
  {
   "metadata": {
    "ExecuteTime": {
     "end_time": "2025-02-25T14:10:02.540767Z",
     "start_time": "2025-02-25T14:10:02.531408Z"
    }
   },
   "cell_type": "code",
   "source": [
    "input_4d = torch.randn(32, 3, 64, 64)  # 32 个样本，3 个通道，图像大小为 64x64\n",
    "bn2d = nn.BatchNorm2d(3)              # 对 3 个通道进行归一化\n",
    "output_4d = bn2d(input_4d)\n",
    "output_4d.shape"
   ],
   "outputs": [
    {
     "data": {
      "text/plain": [
       "torch.Size([32, 3, 64, 64])"
      ]
     },
     "execution_count": 61,
     "metadata": {},
     "output_type": "execute_result"
    }
   ],
   "execution_count": 61
  },
  {
   "metadata": {
    "ExecuteTime": {
     "end_time": "2025-02-25T14:10:02.555408Z",
     "start_time": "2025-02-25T14:10:02.541800Z"
    }
   },
   "cell_type": "code",
   "source": "output_4d",
   "outputs": [
    {
     "data": {
      "text/plain": [
       "tensor([[[[ 1.4147e+00, -1.5962e+00,  4.7182e-02,  ..., -9.7320e-02,\n",
       "           -4.1803e-01, -1.3684e-01],\n",
       "          [ 1.2733e+00,  1.6708e+00,  5.0586e-02,  ..., -2.2938e+00,\n",
       "            7.4902e-01,  1.0007e+00],\n",
       "          [ 1.2675e+00,  1.1067e+00,  7.1777e-01,  ...,  2.7557e-01,\n",
       "           -2.0401e+00,  1.0661e+00],\n",
       "          ...,\n",
       "          [ 1.9632e+00, -1.1313e-01,  1.0421e+00,  ...,  1.0883e+00,\n",
       "            4.6591e-01,  8.1062e-01],\n",
       "          [ 1.1245e+00, -1.0331e+00, -2.7841e-02,  ..., -1.5423e+00,\n",
       "           -4.3086e-01, -2.1530e-01],\n",
       "          [ 5.5437e-02,  1.8286e+00, -7.8759e-01,  ...,  1.2673e-01,\n",
       "            1.1417e+00,  1.6712e+00]],\n",
       "\n",
       "         [[ 1.0917e+00, -1.2986e+00,  2.0586e-01,  ...,  1.6081e+00,\n",
       "           -2.4140e-01, -1.5377e+00],\n",
       "          [-6.8024e-01, -7.7253e-01,  2.4797e-01,  ..., -1.7091e-01,\n",
       "           -4.1075e-01, -3.2572e-01],\n",
       "          [ 3.3994e-01, -4.0507e-02, -1.3883e+00,  ...,  3.9374e-03,\n",
       "            5.7939e-01, -1.6503e-01],\n",
       "          ...,\n",
       "          [ 1.1737e-01, -2.1231e+00,  3.9782e-01,  ..., -2.5307e-01,\n",
       "           -6.3777e-01, -6.1466e-01],\n",
       "          [ 6.9371e-01, -2.2142e+00,  3.1489e-01,  ..., -4.1505e-01,\n",
       "           -4.7520e-03, -1.9785e-01],\n",
       "          [ 2.9548e+00,  1.3973e+00, -3.5010e-02,  ..., -1.7839e-01,\n",
       "            5.3463e-01,  7.5777e-01]],\n",
       "\n",
       "         [[ 2.5114e+00, -2.2243e+00, -6.5077e-01,  ..., -2.5032e-01,\n",
       "           -1.4642e+00, -4.9701e-01],\n",
       "          [-1.2246e+00,  1.4457e+00, -2.4680e-01,  ...,  9.5496e-01,\n",
       "            1.2234e+00,  1.3797e+00],\n",
       "          [-7.0841e-01,  2.2786e+00,  8.5814e-01,  ...,  4.5399e-01,\n",
       "           -1.7431e+00,  7.1895e-01],\n",
       "          ...,\n",
       "          [-8.0316e-01, -8.6730e-01,  3.9618e-02,  ...,  9.3528e-01,\n",
       "            1.9238e+00,  1.0901e+00],\n",
       "          [-1.0879e-01,  1.6279e+00,  6.0013e-01,  ...,  5.1298e-01,\n",
       "            7.9601e-01, -2.2268e-02],\n",
       "          [-1.2789e+00,  1.3077e+00, -3.0512e-01,  ..., -2.1398e-01,\n",
       "           -1.3784e+00, -5.1252e-01]]],\n",
       "\n",
       "\n",
       "        [[[-5.4449e-01,  3.0065e-01, -1.0295e+00,  ..., -2.2388e-01,\n",
       "            1.2278e+00,  1.4118e+00],\n",
       "          [ 4.2180e-01,  1.2583e-01, -1.4893e+00,  ..., -1.2218e+00,\n",
       "           -1.1025e+00, -1.3753e+00],\n",
       "          [-7.9236e-01, -6.3337e-01,  1.1685e+00,  ..., -1.3990e+00,\n",
       "           -6.0334e-01, -1.5456e+00],\n",
       "          ...,\n",
       "          [ 3.7872e-02,  1.4094e+00,  3.3113e-01,  ..., -2.2917e-01,\n",
       "            1.8186e-01, -3.5152e-01],\n",
       "          [-5.9458e-01, -1.3062e-02, -1.5791e-01,  ..., -4.7330e-01,\n",
       "           -1.4747e+00, -7.1052e-01],\n",
       "          [ 8.4773e-01,  6.6578e-01, -5.5345e-01,  ...,  7.5518e-01,\n",
       "            4.9289e-01,  2.4260e-01]],\n",
       "\n",
       "         [[ 3.3520e-01, -3.7252e-01, -4.7843e-01,  ...,  1.0507e-02,\n",
       "            1.0565e+00, -8.1569e-01],\n",
       "          [-6.3665e-01, -1.4487e-01, -3.2693e-01,  ..., -2.0524e+00,\n",
       "            3.4765e-01,  1.0845e+00],\n",
       "          [ 3.6225e-01, -8.4664e-01, -1.1066e+00,  ..., -9.5474e-01,\n",
       "           -1.3939e+00,  5.8123e-01],\n",
       "          ...,\n",
       "          [ 4.6523e-01, -2.1838e+00,  2.1215e+00,  ..., -2.3604e+00,\n",
       "           -1.3103e+00,  8.9759e-02],\n",
       "          [-1.9619e-01, -9.8958e-01, -9.4620e-01,  ...,  1.6227e+00,\n",
       "            2.2218e+00, -1.3496e-01],\n",
       "          [-3.3023e-01, -1.4932e+00, -7.5965e-01,  ...,  1.0947e-01,\n",
       "            7.5316e-01,  1.1146e+00]],\n",
       "\n",
       "         [[-1.1638e+00,  1.3784e+00, -3.9103e-01,  ...,  2.4261e+00,\n",
       "            1.7281e+00,  1.5494e+00],\n",
       "          [-7.1340e-01,  1.3218e+00, -1.3846e+00,  ...,  6.7199e-01,\n",
       "            8.5754e-01, -1.0295e+00],\n",
       "          [ 1.1502e+00,  1.1735e+00, -9.1340e-01,  ...,  6.7094e-01,\n",
       "            1.2686e+00,  4.9124e-01],\n",
       "          ...,\n",
       "          [-7.6139e-01,  3.5298e-03,  4.8551e-01,  ..., -4.1185e-01,\n",
       "            1.0468e+00, -3.1971e-01],\n",
       "          [-2.1738e+00, -5.1818e-01,  3.3696e-01,  ..., -1.4469e-01,\n",
       "            7.0037e-01, -5.8106e-01],\n",
       "          [-1.9461e+00, -2.7516e+00,  1.8186e-01,  ...,  3.1185e-01,\n",
       "            1.3464e+00,  1.3445e-02]]],\n",
       "\n",
       "\n",
       "        [[[-4.6223e-01, -1.4629e-02,  2.4946e-01,  ...,  1.9117e+00,\n",
       "            5.2542e-02,  2.2899e+00],\n",
       "          [ 1.3220e-01, -7.3474e-01, -1.5251e-01,  ...,  2.6043e-01,\n",
       "            9.1238e-01, -4.2074e-02],\n",
       "          [ 1.9157e-01, -4.7382e-01, -4.2983e-01,  ..., -1.9061e-01,\n",
       "            3.8878e-01, -1.3013e-01],\n",
       "          ...,\n",
       "          [-2.5115e+00,  4.1956e-03, -1.3562e+00,  ..., -3.4153e+00,\n",
       "            2.3360e+00,  9.3022e-01],\n",
       "          [ 3.6472e-01,  7.7466e-01, -1.4243e+00,  ...,  2.4174e-01,\n",
       "            2.3169e-01, -1.5800e-01],\n",
       "          [-1.5682e+00, -1.6440e+00,  4.3391e-01,  ...,  3.7637e-01,\n",
       "           -7.0677e-01,  1.2832e-01]],\n",
       "\n",
       "         [[ 3.5794e-01,  8.6819e-01, -7.0844e-01,  ...,  8.9880e-01,\n",
       "            5.1268e-01,  1.9342e-01],\n",
       "          [ 3.6994e-01, -3.1322e-01, -8.0854e-01,  ..., -9.5179e-01,\n",
       "           -3.6591e-01, -1.0723e+00],\n",
       "          [-6.2271e-01, -1.7789e+00,  1.3843e+00,  ...,  6.0699e-01,\n",
       "           -1.7304e+00, -6.8296e-01],\n",
       "          ...,\n",
       "          [ 1.1787e+00,  7.7320e-01, -1.7533e+00,  ...,  4.8357e-01,\n",
       "            7.9322e-02, -8.7882e-01],\n",
       "          [-5.8116e-02, -5.1948e-01,  1.8355e-01,  ..., -1.2013e+00,\n",
       "            9.5629e-01, -5.6809e-01],\n",
       "          [ 9.3110e-01,  1.6346e-01,  1.1002e+00,  ..., -6.5213e-01,\n",
       "           -1.5836e+00,  2.2255e-01]],\n",
       "\n",
       "         [[-2.1326e-01, -1.2155e-01,  2.2397e-02,  ..., -8.7562e-01,\n",
       "           -1.2284e+00,  1.2208e+00],\n",
       "          [-5.0456e-01,  1.4616e-01,  1.8322e+00,  ...,  1.0565e+00,\n",
       "           -1.8240e+00, -1.9407e+00],\n",
       "          [ 2.0434e-01, -7.1400e-01,  3.9590e-01,  ...,  5.2219e-01,\n",
       "            5.1689e-01,  8.8149e-01],\n",
       "          ...,\n",
       "          [ 5.8477e-01,  1.1815e-01,  2.2510e+00,  ...,  8.4726e-01,\n",
       "           -6.5510e-01, -1.0331e+00],\n",
       "          [ 1.3239e-01, -1.1770e+00,  3.4665e-01,  ..., -1.3417e+00,\n",
       "            1.1250e+00, -2.2489e+00],\n",
       "          [ 1.1300e+00,  5.7818e-01,  1.4254e+00,  ..., -9.3649e-01,\n",
       "           -3.7090e-01,  1.0247e+00]]],\n",
       "\n",
       "\n",
       "        ...,\n",
       "\n",
       "\n",
       "        [[[-1.9885e+00, -3.5886e-01,  4.1213e-01,  ..., -6.0760e-01,\n",
       "           -1.4274e-01, -1.4567e+00],\n",
       "          [-1.1255e+00, -8.7489e-01, -5.8246e-01,  ...,  7.4489e-01,\n",
       "           -7.8546e-01, -1.9549e+00],\n",
       "          [-6.1393e-01, -1.2796e+00, -2.7709e-01,  ...,  6.9711e-01,\n",
       "            3.8355e-01,  1.4303e-01],\n",
       "          ...,\n",
       "          [-9.3367e-01, -3.2795e-01,  3.2394e-01,  ...,  2.1325e+00,\n",
       "            6.4067e-02,  1.2205e+00],\n",
       "          [-6.6126e-01, -6.5640e-02, -8.3737e-01,  ..., -5.3829e-01,\n",
       "            2.8830e-01, -8.5572e-01],\n",
       "          [-8.8426e-01,  9.3512e-02,  1.9119e-01,  ...,  1.0520e-01,\n",
       "           -1.1237e-01, -8.9549e-01]],\n",
       "\n",
       "         [[ 4.9020e-01, -2.8754e-01,  1.0796e-01,  ..., -1.0559e-01,\n",
       "            4.0682e-01, -2.0493e-01],\n",
       "          [-4.2682e-01, -1.6065e-01, -2.3016e-01,  ..., -9.1660e-01,\n",
       "           -2.7066e-01,  1.3503e+00],\n",
       "          [ 9.2934e-01, -6.8257e-01,  6.8977e-01,  ...,  1.5489e-01,\n",
       "           -1.2998e+00, -1.8896e+00],\n",
       "          ...,\n",
       "          [-3.8758e-01,  1.3765e-01,  1.2783e+00,  ...,  5.8178e-01,\n",
       "            2.5948e-01,  7.7716e-01],\n",
       "          [ 6.8670e-01, -4.0036e-01,  1.7103e+00,  ...,  1.9888e+00,\n",
       "           -1.0927e+00,  3.7904e-01],\n",
       "          [ 1.3853e+00,  1.9425e-01, -8.6396e-01,  ..., -1.2362e+00,\n",
       "            2.0660e-01, -1.2814e+00]],\n",
       "\n",
       "         [[ 9.9370e-01,  9.3942e-01,  1.3114e+00,  ...,  1.2530e-01,\n",
       "           -2.3583e-01,  6.5738e-01],\n",
       "          [-7.4492e-01, -1.2719e+00,  8.6689e-02,  ...,  1.4595e+00,\n",
       "           -2.3351e+00,  1.5214e+00],\n",
       "          [ 5.0241e-02, -3.1198e-01, -1.0509e+00,  ..., -9.9284e-02,\n",
       "           -6.2205e-02,  4.2085e-01],\n",
       "          ...,\n",
       "          [ 6.6437e-01, -6.7446e-01, -1.0010e-01,  ...,  1.7857e-01,\n",
       "           -8.9880e-01,  3.8372e-01],\n",
       "          [ 1.4285e+00, -3.4068e-01,  2.4750e-01,  ..., -2.4855e-01,\n",
       "            8.9262e-01, -4.2854e-01],\n",
       "          [-8.9649e-01,  1.8906e-01,  4.6946e-02,  ...,  9.4756e-01,\n",
       "           -1.2538e-01,  9.6788e-02]]],\n",
       "\n",
       "\n",
       "        [[[ 1.6545e+00,  1.1941e-01, -1.3536e+00,  ...,  4.6371e-01,\n",
       "           -6.5367e-01,  2.7741e-01],\n",
       "          [ 3.6018e-01, -1.1064e+00,  1.9973e-01,  ...,  2.3955e+00,\n",
       "            1.7421e+00,  9.2086e-02],\n",
       "          [-3.1951e-01,  1.6407e+00,  6.2928e-01,  ..., -7.1124e-01,\n",
       "            7.0228e-01,  1.3635e+00],\n",
       "          ...,\n",
       "          [-1.9681e-01, -1.3856e-01,  5.3771e-01,  ...,  7.2657e-01,\n",
       "           -1.4700e+00,  1.5140e+00],\n",
       "          [ 8.8561e-01,  4.6357e-01, -2.4591e-01,  ..., -2.2035e-01,\n",
       "           -2.6785e-01, -3.5557e-01],\n",
       "          [-1.0866e+00,  1.6651e-03,  4.4800e-01,  ..., -6.1746e-01,\n",
       "           -2.5776e+00, -2.6060e-01]],\n",
       "\n",
       "         [[-6.6946e-01,  3.6452e-01, -1.6669e+00,  ...,  3.6520e-01,\n",
       "            1.3392e-01, -2.3371e+00],\n",
       "          [-9.5963e-01, -1.0618e+00, -1.8343e-01,  ..., -4.1143e-01,\n",
       "           -2.8414e-01,  1.3590e+00],\n",
       "          [ 5.1959e-01,  3.5291e-01, -3.0779e-02,  ..., -6.1962e-01,\n",
       "            1.5373e+00,  1.1291e+00],\n",
       "          ...,\n",
       "          [-1.5691e+00,  9.2681e-01,  2.5168e-01,  ..., -6.8233e-01,\n",
       "           -1.3543e+00,  2.1699e-01],\n",
       "          [ 6.4294e-01, -5.9408e-01,  2.0857e-01,  ...,  4.7376e-01,\n",
       "           -1.2399e+00,  4.1128e-01],\n",
       "          [-6.3475e-01, -1.6703e+00, -1.6819e-01,  ..., -8.9482e-02,\n",
       "            1.2893e+00, -8.6444e-01]],\n",
       "\n",
       "         [[ 2.1487e+00,  9.8134e-01,  9.0371e-01,  ..., -1.1688e-01,\n",
       "           -6.6562e-02,  3.3620e-01],\n",
       "          [-8.8027e-01, -4.7432e-01,  6.1957e-01,  ..., -3.4476e-01,\n",
       "            1.1674e+00,  1.1350e+00],\n",
       "          [-3.7801e-01, -1.3758e+00,  2.6024e-01,  ...,  7.0955e-01,\n",
       "            1.2282e+00,  1.2284e+00],\n",
       "          ...,\n",
       "          [ 6.3477e-01,  3.7884e-01, -1.5442e+00,  ..., -7.7233e-01,\n",
       "           -7.2483e-01,  6.3970e-01],\n",
       "          [ 1.4904e+00,  5.5653e-01, -2.3859e-01,  ...,  7.9133e-01,\n",
       "           -8.0079e-01,  1.5900e+00],\n",
       "          [ 1.4524e+00,  4.0245e-01,  3.4258e-01,  ..., -2.9332e+00,\n",
       "            6.4302e-02,  3.3570e-01]]],\n",
       "\n",
       "\n",
       "        [[[ 9.2676e-03, -1.4760e+00,  5.2730e-01,  ...,  1.5577e-01,\n",
       "           -8.0437e-01, -3.3137e-01],\n",
       "          [ 1.7160e+00, -1.5978e+00, -1.8578e+00,  ..., -7.6913e-01,\n",
       "            1.7601e-01,  2.0415e+00],\n",
       "          [ 1.1351e+00,  2.1141e+00, -9.2279e-01,  ..., -1.6880e+00,\n",
       "           -5.4189e-01, -1.1309e-01],\n",
       "          ...,\n",
       "          [ 2.2045e-01,  2.7888e+00, -1.6487e-01,  ...,  1.6527e-01,\n",
       "           -6.0110e-01, -4.5545e-01],\n",
       "          [-3.1554e-01,  8.8527e-01,  1.0286e+00,  ...,  2.1969e+00,\n",
       "            2.2102e+00,  4.9367e-01],\n",
       "          [ 8.2021e-01,  4.1380e-01,  1.7279e+00,  ...,  7.8130e-01,\n",
       "           -1.8554e-01,  1.9438e-01]],\n",
       "\n",
       "         [[ 3.5267e-01,  1.0735e+00,  9.7254e-01,  ...,  6.0503e-02,\n",
       "            9.6738e-01,  5.8893e-01],\n",
       "          [-1.5505e+00,  6.0542e-01,  8.0581e-01,  ...,  6.7676e-02,\n",
       "            2.9193e-01, -1.4116e-01],\n",
       "          [ 6.2355e-01, -2.1215e-01,  4.2363e-01,  ...,  4.6463e-01,\n",
       "           -1.0679e+00, -1.5392e+00],\n",
       "          ...,\n",
       "          [ 1.1617e+00,  5.8930e-01, -1.0619e-01,  ..., -8.5224e-02,\n",
       "            3.0011e+00,  4.6194e-01],\n",
       "          [-1.5621e+00,  1.1667e+00, -1.4236e-01,  ...,  8.2350e-02,\n",
       "           -5.9566e-01,  1.6832e+00],\n",
       "          [-1.0154e-01, -1.1982e+00, -7.8457e-02,  ..., -1.2196e+00,\n",
       "           -6.3649e-01,  1.6174e+00]],\n",
       "\n",
       "         [[-9.5294e-01,  1.1043e+00, -3.2618e-01,  ..., -1.1203e+00,\n",
       "           -9.6932e-01, -2.6493e-01],\n",
       "          [-7.3008e-01,  7.3028e-02,  2.1458e+00,  ..., -1.2729e+00,\n",
       "            3.0946e-01,  9.3440e-01],\n",
       "          [ 1.3285e+00,  2.0129e-02,  1.2080e+00,  ..., -8.6714e-01,\n",
       "            1.4091e+00,  2.6704e-01],\n",
       "          ...,\n",
       "          [-1.1770e+00,  3.6861e-01,  5.7402e-01,  ...,  5.7888e-01,\n",
       "           -5.7011e-01,  7.1350e-01],\n",
       "          [-8.4019e-02, -1.8172e+00,  4.8670e-03,  ...,  7.6206e-01,\n",
       "           -2.2542e-02,  2.3657e+00],\n",
       "          [-1.1614e+00, -1.4820e-01,  1.1582e+00,  ...,  1.1184e+00,\n",
       "            9.9631e-01,  6.8631e-01]]]], grad_fn=<NativeBatchNormBackward0>)"
      ]
     },
     "execution_count": 62,
     "metadata": {},
     "output_type": "execute_result"
    }
   ],
   "execution_count": 62
  },
  {
   "metadata": {
    "ExecuteTime": {
     "end_time": "2025-02-25T14:10:02.564908Z",
     "start_time": "2025-02-25T14:10:02.555408Z"
    }
   },
   "cell_type": "code",
   "source": [
    "bn2d = nn.BatchNorm2d(1)              # 对 3 个通道进行归一化\n",
    "output_4d1 = bn2d(input_4d[:, 0:1, :, :])\n",
    "output_4d1"
   ],
   "outputs": [
    {
     "data": {
      "text/plain": [
       "tensor([[[[ 1.4147e+00, -1.5962e+00,  4.7182e-02,  ..., -9.7320e-02,\n",
       "           -4.1803e-01, -1.3684e-01],\n",
       "          [ 1.2733e+00,  1.6708e+00,  5.0586e-02,  ..., -2.2938e+00,\n",
       "            7.4902e-01,  1.0007e+00],\n",
       "          [ 1.2675e+00,  1.1067e+00,  7.1777e-01,  ...,  2.7557e-01,\n",
       "           -2.0401e+00,  1.0661e+00],\n",
       "          ...,\n",
       "          [ 1.9632e+00, -1.1313e-01,  1.0421e+00,  ...,  1.0883e+00,\n",
       "            4.6591e-01,  8.1062e-01],\n",
       "          [ 1.1245e+00, -1.0331e+00, -2.7841e-02,  ..., -1.5423e+00,\n",
       "           -4.3086e-01, -2.1530e-01],\n",
       "          [ 5.5437e-02,  1.8286e+00, -7.8759e-01,  ...,  1.2673e-01,\n",
       "            1.1417e+00,  1.6712e+00]]],\n",
       "\n",
       "\n",
       "        [[[-5.4449e-01,  3.0065e-01, -1.0295e+00,  ..., -2.2388e-01,\n",
       "            1.2278e+00,  1.4118e+00],\n",
       "          [ 4.2180e-01,  1.2583e-01, -1.4893e+00,  ..., -1.2218e+00,\n",
       "           -1.1025e+00, -1.3753e+00],\n",
       "          [-7.9236e-01, -6.3337e-01,  1.1685e+00,  ..., -1.3990e+00,\n",
       "           -6.0334e-01, -1.5456e+00],\n",
       "          ...,\n",
       "          [ 3.7872e-02,  1.4094e+00,  3.3113e-01,  ..., -2.2917e-01,\n",
       "            1.8186e-01, -3.5152e-01],\n",
       "          [-5.9458e-01, -1.3062e-02, -1.5791e-01,  ..., -4.7330e-01,\n",
       "           -1.4747e+00, -7.1052e-01],\n",
       "          [ 8.4773e-01,  6.6578e-01, -5.5345e-01,  ...,  7.5518e-01,\n",
       "            4.9289e-01,  2.4260e-01]]],\n",
       "\n",
       "\n",
       "        [[[-4.6223e-01, -1.4629e-02,  2.4946e-01,  ...,  1.9117e+00,\n",
       "            5.2542e-02,  2.2899e+00],\n",
       "          [ 1.3220e-01, -7.3474e-01, -1.5251e-01,  ...,  2.6043e-01,\n",
       "            9.1238e-01, -4.2074e-02],\n",
       "          [ 1.9157e-01, -4.7382e-01, -4.2983e-01,  ..., -1.9061e-01,\n",
       "            3.8878e-01, -1.3013e-01],\n",
       "          ...,\n",
       "          [-2.5115e+00,  4.1956e-03, -1.3562e+00,  ..., -3.4153e+00,\n",
       "            2.3360e+00,  9.3022e-01],\n",
       "          [ 3.6472e-01,  7.7466e-01, -1.4243e+00,  ...,  2.4174e-01,\n",
       "            2.3169e-01, -1.5800e-01],\n",
       "          [-1.5682e+00, -1.6440e+00,  4.3391e-01,  ...,  3.7637e-01,\n",
       "           -7.0677e-01,  1.2832e-01]]],\n",
       "\n",
       "\n",
       "        ...,\n",
       "\n",
       "\n",
       "        [[[-1.9885e+00, -3.5886e-01,  4.1213e-01,  ..., -6.0760e-01,\n",
       "           -1.4274e-01, -1.4567e+00],\n",
       "          [-1.1255e+00, -8.7489e-01, -5.8246e-01,  ...,  7.4489e-01,\n",
       "           -7.8546e-01, -1.9549e+00],\n",
       "          [-6.1393e-01, -1.2796e+00, -2.7709e-01,  ...,  6.9711e-01,\n",
       "            3.8355e-01,  1.4303e-01],\n",
       "          ...,\n",
       "          [-9.3367e-01, -3.2795e-01,  3.2394e-01,  ...,  2.1325e+00,\n",
       "            6.4067e-02,  1.2205e+00],\n",
       "          [-6.6126e-01, -6.5640e-02, -8.3737e-01,  ..., -5.3829e-01,\n",
       "            2.8830e-01, -8.5572e-01],\n",
       "          [-8.8426e-01,  9.3512e-02,  1.9119e-01,  ...,  1.0520e-01,\n",
       "           -1.1237e-01, -8.9549e-01]]],\n",
       "\n",
       "\n",
       "        [[[ 1.6545e+00,  1.1941e-01, -1.3536e+00,  ...,  4.6371e-01,\n",
       "           -6.5367e-01,  2.7741e-01],\n",
       "          [ 3.6018e-01, -1.1064e+00,  1.9973e-01,  ...,  2.3955e+00,\n",
       "            1.7421e+00,  9.2086e-02],\n",
       "          [-3.1951e-01,  1.6407e+00,  6.2929e-01,  ..., -7.1124e-01,\n",
       "            7.0228e-01,  1.3635e+00],\n",
       "          ...,\n",
       "          [-1.9681e-01, -1.3856e-01,  5.3771e-01,  ...,  7.2657e-01,\n",
       "           -1.4700e+00,  1.5140e+00],\n",
       "          [ 8.8561e-01,  4.6357e-01, -2.4591e-01,  ..., -2.2035e-01,\n",
       "           -2.6785e-01, -3.5557e-01],\n",
       "          [-1.0866e+00,  1.6651e-03,  4.4800e-01,  ..., -6.1746e-01,\n",
       "           -2.5776e+00, -2.6060e-01]]],\n",
       "\n",
       "\n",
       "        [[[ 9.2676e-03, -1.4760e+00,  5.2730e-01,  ...,  1.5577e-01,\n",
       "           -8.0437e-01, -3.3137e-01],\n",
       "          [ 1.7160e+00, -1.5978e+00, -1.8578e+00,  ..., -7.6913e-01,\n",
       "            1.7601e-01,  2.0415e+00],\n",
       "          [ 1.1351e+00,  2.1141e+00, -9.2279e-01,  ..., -1.6880e+00,\n",
       "           -5.4189e-01, -1.1309e-01],\n",
       "          ...,\n",
       "          [ 2.2045e-01,  2.7888e+00, -1.6487e-01,  ...,  1.6527e-01,\n",
       "           -6.0110e-01, -4.5545e-01],\n",
       "          [-3.1554e-01,  8.8527e-01,  1.0286e+00,  ...,  2.1969e+00,\n",
       "            2.2102e+00,  4.9367e-01],\n",
       "          [ 8.2021e-01,  4.1380e-01,  1.7279e+00,  ...,  7.8130e-01,\n",
       "           -1.8554e-01,  1.9438e-01]]]], grad_fn=<NativeBatchNormBackward0>)"
      ]
     },
     "execution_count": 63,
     "metadata": {},
     "output_type": "execute_result"
    }
   ],
   "execution_count": 63
  },
  {
   "attachments": {},
   "cell_type": "markdown",
   "metadata": {},
   "source": [
    "## 训练\n",
    "\n",
    "pytorch的训练需要自行实现，包括\n",
    "1. 定义损失函数\n",
    "2. 定义优化器\n",
    "3. 定义训练步\n",
    "4. 训练"
   ]
  },
  {
   "cell_type": "code",
   "metadata": {
    "ExecuteTime": {
     "end_time": "2025-02-25T14:10:02.569236Z",
     "start_time": "2025-02-25T14:10:02.564908Z"
    }
   },
   "source": [
    "from sklearn.metrics import accuracy_score\n",
    "\n",
    "@torch.no_grad()\n",
    "def evaluating(model, dataloader, loss_fct):\n",
    "    loss_list = []\n",
    "    pred_list = []\n",
    "    label_list = []\n",
    "    for datas, labels in dataloader:\n",
    "        datas = datas.to(device)\n",
    "        labels = labels.to(device)\n",
    "        # 前向计算\n",
    "        logits = model(datas)\n",
    "        loss = loss_fct(logits, labels)         # 验证集损失\n",
    "        loss_list.append(loss.item())\n",
    "        \n",
    "        preds = logits.argmax(axis=-1)    # 验证集预测\n",
    "        pred_list.extend(preds.cpu().numpy().tolist())\n",
    "        label_list.extend(labels.cpu().numpy().tolist())\n",
    "        \n",
    "    acc = accuracy_score(label_list, pred_list)\n",
    "    return np.mean(loss_list), acc\n"
   ],
   "outputs": [],
   "execution_count": 64
  },
  {
   "attachments": {},
   "cell_type": "markdown",
   "metadata": {},
   "source": [
    "### TensorBoard 可视化\n",
    "\n",
    "\n",
    "训练过程中可以使用如下命令启动tensorboard服务。\n",
    "\n",
    "```shell\n",
    "tensorboard \\\n",
    "    --logdir=runs \\     # log 存放路径\n",
    "    --host 0.0.0.0 \\    # ip\n",
    "    --port 8848         # 端口\n",
    "```"
   ]
  },
  {
   "cell_type": "code",
   "metadata": {
    "ExecuteTime": {
     "end_time": "2025-02-25T14:10:02.575813Z",
     "start_time": "2025-02-25T14:10:02.569236Z"
    }
   },
   "source": [
    "from torch.utils.tensorboard import SummaryWriter\n",
    "\n",
    "\n",
    "class TensorBoardCallback:\n",
    "    def __init__(self, log_dir, flush_secs=10):\n",
    "        \"\"\"\n",
    "        Args:\n",
    "            log_dir (str): dir to write log.\n",
    "            flush_secs (int, optional): write to dsk each flush_secs seconds. Defaults to 10.\n",
    "        \"\"\"\n",
    "        self.writer = SummaryWriter(log_dir=log_dir, flush_secs=flush_secs)\n",
    "\n",
    "    def draw_model(self, model, input_shape):\n",
    "        self.writer.add_graph(model, input_to_model=torch.randn(input_shape))\n",
    "        \n",
    "    def add_loss_scalars(self, step, loss, val_loss):\n",
    "        self.writer.add_scalars(\n",
    "            main_tag=\"training/loss\", \n",
    "            tag_scalar_dict={\"loss\": loss, \"val_loss\": val_loss},\n",
    "            global_step=step,\n",
    "            )\n",
    "        \n",
    "    def add_acc_scalars(self, step, acc, val_acc):\n",
    "        self.writer.add_scalars(\n",
    "            main_tag=\"training/accuracy\",\n",
    "            tag_scalar_dict={\"accuracy\": acc, \"val_accuracy\": val_acc},\n",
    "            global_step=step,\n",
    "        )\n",
    "        \n",
    "    def add_lr_scalars(self, step, learning_rate):\n",
    "        self.writer.add_scalars(\n",
    "            main_tag=\"training/learning_rate\",\n",
    "            tag_scalar_dict={\"learning_rate\": learning_rate},\n",
    "            global_step=step,\n",
    "            \n",
    "        )\n",
    "    \n",
    "    def __call__(self, step, **kwargs):\n",
    "        # add loss\n",
    "        loss = kwargs.pop(\"loss\", None)\n",
    "        val_loss = kwargs.pop(\"val_loss\", None)\n",
    "        if loss is not None and val_loss is not None:\n",
    "            self.add_loss_scalars(step, loss, val_loss)\n",
    "        # add acc\n",
    "        acc = kwargs.pop(\"acc\", None)\n",
    "        val_acc = kwargs.pop(\"val_acc\", None)\n",
    "        if acc is not None and val_acc is not None:\n",
    "            self.add_acc_scalars(step, acc, val_acc)\n",
    "        # add lr\n",
    "        learning_rate = kwargs.pop(\"lr\", None)\n",
    "        if learning_rate is not None:\n",
    "            self.add_lr_scalars(step, learning_rate)\n"
   ],
   "outputs": [],
   "execution_count": 65
  },
  {
   "attachments": {},
   "cell_type": "markdown",
   "metadata": {},
   "source": [
    "### Save Best\n"
   ]
  },
  {
   "cell_type": "code",
   "metadata": {
    "ExecuteTime": {
     "end_time": "2025-02-25T14:10:02.582673Z",
     "start_time": "2025-02-25T14:10:02.576319Z"
    }
   },
   "source": [
    "class SaveCheckpointsCallback:\n",
    "    def __init__(self, save_dir, save_step=5000, save_best_only=True):\n",
    "        \"\"\"\n",
    "        Save checkpoints each save_epoch epoch. \n",
    "        We save checkpoint by epoch in this implementation.\n",
    "        Usually, training scripts with pytorch evaluating model and save checkpoint by step.\n",
    "\n",
    "        Args:\n",
    "            save_dir (str): dir to save checkpoint\n",
    "            save_epoch (int, optional): the frequency to save checkpoint. Defaults to 1.\n",
    "            save_best_only (bool, optional): If True, only save the best model or save each model at every epoch.\n",
    "        \"\"\"\n",
    "        self.save_dir = save_dir\n",
    "        self.save_step = save_step\n",
    "        self.save_best_only = save_best_only\n",
    "        self.best_metrics = -1\n",
    "        \n",
    "        # mkdir\n",
    "        if not os.path.exists(self.save_dir):\n",
    "            os.mkdir(self.save_dir)\n",
    "        \n",
    "    def __call__(self, step, state_dict, metric=None):\n",
    "        if step % self.save_step > 0:\n",
    "            return\n",
    "        \n",
    "        if self.save_best_only:\n",
    "            assert metric is not None\n",
    "            if metric >= self.best_metrics:\n",
    "                # save checkpoints\n",
    "                torch.save(state_dict, os.path.join(self.save_dir, \"best.ckpt\"))\n",
    "                # update best metrics\n",
    "                self.best_metrics = metric\n",
    "        else:\n",
    "            torch.save(state_dict, os.path.join(self.save_dir, f\"{step}.ckpt\"))\n",
    "\n"
   ],
   "outputs": [],
   "execution_count": 66
  },
  {
   "attachments": {},
   "cell_type": "markdown",
   "metadata": {},
   "source": [
    "### Early Stop"
   ]
  },
  {
   "cell_type": "code",
   "metadata": {
    "ExecuteTime": {
     "end_time": "2025-02-25T14:10:02.588096Z",
     "start_time": "2025-02-25T14:10:02.583680Z"
    }
   },
   "source": [
    "class EarlyStopCallback:\n",
    "    def __init__(self, patience=5, min_delta=0.01):\n",
    "        \"\"\"\n",
    "\n",
    "        Args:\n",
    "            patience (int, optional): Number of epochs with no improvement after which training will be stopped.. Defaults to 5.\n",
    "            min_delta (float, optional): Minimum change in the monitored quantity to qualify as an improvement, i.e. an absolute \n",
    "                change of less than min_delta, will count as no improvement. Defaults to 0.01.\n",
    "        \"\"\"\n",
    "        self.patience = patience\n",
    "        self.min_delta = min_delta\n",
    "        self.best_metric = -1\n",
    "        self.counter = 0\n",
    "        \n",
    "    def __call__(self, metric):\n",
    "        if metric >= self.best_metric + self.min_delta:\n",
    "            # update best metric\n",
    "            self.best_metric = metric\n",
    "            # reset counter \n",
    "            self.counter = 0\n",
    "        else: \n",
    "            self.counter += 1\n",
    "            \n",
    "    @property\n",
    "    def early_stop(self):\n",
    "        return self.counter >= self.patience\n"
   ],
   "outputs": [],
   "execution_count": 67
  },
  {
   "cell_type": "code",
   "metadata": {
    "ExecuteTime": {
     "end_time": "2025-02-25T14:10:02.796161Z",
     "start_time": "2025-02-25T14:10:02.588096Z"
    }
   },
   "source": [
    "# 训练\n",
    "def training(\n",
    "    model, \n",
    "    train_loader, \n",
    "    val_loader, \n",
    "    epoch, \n",
    "    loss_fct, \n",
    "    optimizer, \n",
    "    tensorboard_callback=None,\n",
    "    save_ckpt_callback=None,\n",
    "    early_stop_callback=None,\n",
    "    eval_step=500,\n",
    "    ):\n",
    "    record_dict = {\n",
    "        \"train\": [],\n",
    "        \"val\": []\n",
    "    }\n",
    "    \n",
    "    global_step = 0\n",
    "    model.train()\n",
    "    with tqdm(total=epoch * len(train_loader)) as pbar:\n",
    "        for epoch_id in range(epoch):\n",
    "            # training\n",
    "            for datas, labels in train_loader:\n",
    "                datas = datas.to(device)\n",
    "                labels = labels.to(device)\n",
    "                # 梯度清空\n",
    "                optimizer.zero_grad()\n",
    "                # 模型前向计算\n",
    "                logits = model(datas)\n",
    "                # 计算损失\n",
    "                loss = loss_fct(logits, labels)\n",
    "                # 梯度回传\n",
    "                loss.backward()\n",
    "                # 调整优化器，包括学习率的变动等\n",
    "                optimizer.step()\n",
    "                preds = logits.argmax(axis=-1) #最大值的索引\n",
    "            \n",
    "                acc = accuracy_score(labels.cpu().numpy(), preds.cpu().numpy())     # 计算准确率\n",
    "                loss = loss.cpu().item() # 计算损失\n",
    "                # record\n",
    "                \n",
    "                record_dict[\"train\"].append({\n",
    "                    \"loss\": loss, \"acc\": acc, \"step\": global_step # 记录每一步的损失和准确率\n",
    "                })\n",
    "                \n",
    "                # evaluating\n",
    "                if global_step % eval_step == 0:\n",
    "                    model.eval()\n",
    "                    val_loss, val_acc = evaluating(model, val_loader, loss_fct)\n",
    "                    record_dict[\"val\"].append({\n",
    "                        \"loss\": val_loss, \"acc\": val_acc, \"step\": global_step\n",
    "                    })\n",
    "                    model.train()\n",
    "                    \n",
    "                    # 1. 使用 tensorboard 可视化\n",
    "                    if tensorboard_callback is not None:\n",
    "                        tensorboard_callback(\n",
    "                            global_step, \n",
    "                            loss=loss, val_loss=val_loss,\n",
    "                            acc=acc, val_acc=val_acc,\n",
    "                            lr=optimizer.param_groups[0][\"lr\"],\n",
    "                            )\n",
    "                \n",
    "                    # 2. 保存模型权重 save model checkpoint\n",
    "                    if save_ckpt_callback is not None:\n",
    "                        save_ckpt_callback(global_step, model.state_dict(), metric=val_acc)\n",
    "\n",
    "                    # 3. 早停 Early Stop\n",
    "                    if early_stop_callback is not None:\n",
    "                        early_stop_callback(val_acc)\n",
    "                        if early_stop_callback.early_stop:\n",
    "                            print(f\"Early stop at epoch {epoch_id} / global_step {global_step}\")\n",
    "                            return record_dict\n",
    "                    \n",
    "                # udate step\n",
    "                global_step += 1\n",
    "                pbar.update(1)\n",
    "                pbar.set_postfix({\"epoch\": epoch_id})\n",
    "        \n",
    "    return record_dict\n",
    "        \n",
    "\n",
    "epoch = 20\n",
    "\n",
    "model = CNN(num_classes=10)\n",
    "\n",
    "# 1. 定义损失函数 采用交叉熵损失\n",
    "loss_fct = nn.CrossEntropyLoss()\n",
    "# 2. 定义优化器 采用 adam\n",
    "# Optimizers specified in the torch.optim package\n",
    "optimizer = torch.optim.Adam(model.parameters(), lr=0.001)\n",
    "\n",
    "# 1. tensorboard 可视化\n",
    "if not os.path.exists(\"runs\"):\n",
    "    os.mkdir(\"runs\")\n",
    "tensorboard_callback = TensorBoardCallback(\"runs/cifar-10\")\n",
    "tensorboard_callback.draw_model(model, [1, 3, IMAGE_SIZE, IMAGE_SIZE])\n",
    "# 2. save best\n",
    "if not os.path.exists(\"checkpoints\"):\n",
    "    os.makedirs(\"checkpoints\")\n",
    "save_ckpt_callback = SaveCheckpointsCallback(\"checkpoints/cifar-10\", save_step=len(train_dl), save_best_only=True)\n",
    "# 3. early stop\n",
    "early_stop_callback = EarlyStopCallback(patience=5)\n",
    "\n",
    "model = model.to(device)\n"
   ],
   "outputs": [],
   "execution_count": 68
  },
  {
   "cell_type": "code",
   "source": [
    "record = training(\n",
    "    model,\n",
    "    train_dl,\n",
    "    eval_dl,\n",
    "    epoch,\n",
    "    loss_fct,\n",
    "    optimizer,\n",
    "    tensorboard_callback=tensorboard_callback,\n",
    "    save_ckpt_callback=save_ckpt_callback,\n",
    "    early_stop_callback=early_stop_callback,\n",
    "    eval_step=len(train_dl)\n",
    "    )"
   ],
   "metadata": {
    "collapsed": false,
    "ExecuteTime": {
     "end_time": "2025-02-25T14:23:36.069554Z",
     "start_time": "2025-02-25T14:12:15.561309Z"
    }
   },
   "outputs": [
    {
     "data": {
      "text/plain": [
       "  0%|          | 0/3520 [00:00<?, ?it/s]"
      ],
      "application/vnd.jupyter.widget-view+json": {
       "version_major": 2,
       "version_minor": 0,
       "model_id": "46f11d8e61ed46d29b7bbf92e7926b84"
      }
     },
     "metadata": {},
     "output_type": "display_data"
    },
    {
     "name": "stdout",
     "output_type": "stream",
     "text": [
      "Early stop at epoch 18 / global_step 3168\n"
     ]
    }
   ],
   "execution_count": 71
  },
  {
   "cell_type": "code",
   "metadata": {
    "ExecuteTime": {
     "end_time": "2025-02-25T14:24:45.566370Z",
     "start_time": "2025-02-25T14:24:45.395599Z"
    }
   },
   "source": [
    "#画线要注意的是损失是不一定在零到1之间的\n",
    "def plot_learning_curves(record_dict, sample_step=500):\n",
    "    # build DataFrame\n",
    "    train_df = pd.DataFrame(record_dict[\"train\"]).set_index(\"step\").iloc[::sample_step]\n",
    "    val_df = pd.DataFrame(record_dict[\"val\"]).set_index(\"step\")\n",
    "\n",
    "    # plot\n",
    "    fig_num = len(train_df.columns)\n",
    "    fig, axs = plt.subplots(1, fig_num, figsize=(5 * fig_num, 5))\n",
    "    for idx, item in enumerate(train_df.columns):    \n",
    "        axs[idx].plot(train_df.index, train_df[item], label=f\"train_{item}\")\n",
    "        axs[idx].plot(val_df.index, val_df[item], label=f\"val_{item}\")\n",
    "        axs[idx].grid()\n",
    "        axs[idx].legend()\n",
    "        # axs[idx].set_xticks(range(0, train_df.index[-1], 5000))\n",
    "        # axs[idx].set_xticklabels(map(lambda x: f\"{int(x/1000)}k\", range(0, train_df.index[-1], 5000)))\n",
    "        axs[idx].set_xlabel(\"step\")\n",
    "    \n",
    "    plt.show()\n",
    "\n",
    "plot_learning_curves(record, sample_step=10)  #横坐标是 steps"
   ],
   "outputs": [
    {
     "data": {
      "text/plain": [
       "<Figure size 1000x500 with 2 Axes>"
      ],
      "image/png": "[encoded data removed]"
     },
     "metadata": {},
     "output_type": "display_data"
    }
   ],
   "execution_count": 72
  },
  {
   "attachments": {},
   "cell_type": "markdown",
   "metadata": {},
   "source": [
    "# 评估"
   ]
  },
  {
   "cell_type": "code",
   "metadata": {
    "ExecuteTime": {
     "end_time": "2025-02-25T14:24:57.240453Z",
     "start_time": "2025-02-25T14:24:54.217147Z"
    }
   },
   "source": [
    "# dataload for evaluating\n",
    "\n",
    "# load checkpoints\n",
    "model.load_state_dict(torch.load(\"checkpoints/cifar-10/best.ckpt\", map_location=\"cpu\"))\n",
    "\n",
    "model.eval()\n",
    "loss, acc = evaluating(model, eval_dl, loss_fct)\n",
    "print(f\"loss:     {loss:.4f}\\naccuracy: {acc:.4f}\")"
   ],
   "outputs": [
    {
     "name": "stderr",
     "output_type": "stream",
     "text": [
      "C:\\Users\\false\\AppData\\Local\\Temp\\ipykernel_25780\\1513600467.py:4: FutureWarning: You are using `torch.load` with `weights_only=False` (the current default value), which uses the default pickle module implicitly. It is possible to construct malicious pickle data which will execute arbitrary code during unpickling (See https://github.com/pytorch/pytorch/blob/main/SECURITY.md#untrusted-models for more details). In a future release, the default value for `weights_only` will be flipped to `True`. This limits the functions that could be executed during unpickling. Arbitrary objects will no longer be allowed to be loaded via this mode unless they are explicitly allowlisted by the user via `torch.serialization.add_safe_globals`. We recommend you start setting `weights_only=True` for any use case where you don't have full control of the loaded file. Please open an issue on GitHub for any issues related to this experimental feature.\n",
      "  model.load_state_dict(torch.load(\"checkpoints/cifar-10/best.ckpt\", map_location=\"cpu\"))\n"
     ]
    },
    {
     "name": "stdout",
     "output_type": "stream",
     "text": [
      "loss:     0.4638\n",
      "accuracy: 0.8602\n"
     ]
    }
   ],
   "execution_count": 73
  },
  {
   "attachments": {},
   "cell_type": "markdown",
   "metadata": {},
   "source": [
    "# 推理"
   ]
  },
  {
   "cell_type": "code",
   "metadata": {
    "ExecuteTime": {
     "end_time": "2025-02-25T14:25:29.707034Z",
     "start_time": "2025-02-25T14:25:20.176144Z"
    }
   },
   "source": [
    "# test_df\n",
    "test_ds = Cifar10Dataset(\"test\", transform=transforms_eval)\n",
    "test_dl = DataLoader(test_ds, batch_size=batch_size, shuffle=False, drop_last=False)\n",
    "\n",
    "preds_collect = [] # 预测结果收集器\n",
    "model.eval()\n",
    "for data, fake_label in tqdm(test_dl):\n",
    "    data = data.to(device=device)\n",
    "    logits = model(data) #得到预测结果\n",
    "    preds = [test_ds.idx_to_label[idx] for idx in logits.argmax(axis=-1).cpu().tolist()] # 得到预测类别，idx_to_label是id到字符串类别的映射\n",
    "    preds_collect.extend(preds)\n",
    "    \n",
    "test_df[\"label\"] = preds_collect # 增加预测类别列,比赛要求这一列是label\n",
    "test_df.head()"
   ],
   "outputs": [
    {
     "data": {
      "text/plain": [
       "  0%|          | 0/1172 [00:00<?, ?it/s]"
      ],
      "application/vnd.jupyter.widget-view+json": {
       "version_major": 2,
       "version_minor": 0,
       "model_id": "bb922b51f97841cd9c1ae15be56dfcdf"
      }
     },
     "metadata": {},
     "output_type": "display_data"
    },
    {
     "ename": "KeyboardInterrupt",
     "evalue": "",
     "output_type": "error",
     "traceback": [
      "\u001B[1;31m---------------------------------------------------------------------------\u001B[0m",
      "\u001B[1;31mKeyboardInterrupt\u001B[0m                         Traceback (most recent call last)",
      "Cell \u001B[1;32mIn[74], line 7\u001B[0m\n\u001B[0;32m      5\u001B[0m preds_collect \u001B[38;5;241m=\u001B[39m [] \u001B[38;5;66;03m# 预测结果收集器\u001B[39;00m\n\u001B[0;32m      6\u001B[0m model\u001B[38;5;241m.\u001B[39meval()\n\u001B[1;32m----> 7\u001B[0m \u001B[38;5;28;43;01mfor\u001B[39;49;00m\u001B[43m \u001B[49m\u001B[43mdata\u001B[49m\u001B[43m,\u001B[49m\u001B[43m \u001B[49m\u001B[43mfake_label\u001B[49m\u001B[43m \u001B[49m\u001B[38;5;129;43;01min\u001B[39;49;00m\u001B[43m \u001B[49m\u001B[43mtqdm\u001B[49m\u001B[43m(\u001B[49m\u001B[43mtest_dl\u001B[49m\u001B[43m)\u001B[49m\u001B[43m:\u001B[49m\n\u001B[0;32m      8\u001B[0m \u001B[43m    \u001B[49m\u001B[43mdata\u001B[49m\u001B[43m \u001B[49m\u001B[38;5;241;43m=\u001B[39;49m\u001B[43m \u001B[49m\u001B[43mdata\u001B[49m\u001B[38;5;241;43m.\u001B[39;49m\u001B[43mto\u001B[49m\u001B[43m(\u001B[49m\u001B[43mdevice\u001B[49m\u001B[38;5;241;43m=\u001B[39;49m\u001B[43mdevice\u001B[49m\u001B[43m)\u001B[49m\n\u001B[0;32m      9\u001B[0m \u001B[43m    \u001B[49m\u001B[43mlogits\u001B[49m\u001B[43m \u001B[49m\u001B[38;5;241;43m=\u001B[39;49m\u001B[43m \u001B[49m\u001B[43mmodel\u001B[49m\u001B[43m(\u001B[49m\u001B[43mdata\u001B[49m\u001B[43m)\u001B[49m\u001B[43m \u001B[49m\u001B[38;5;66;43;03m#得到预测结果\u001B[39;49;00m\n",
      "File \u001B[1;32mC:\\Program Files\\Python312\\Lib\\site-packages\\tqdm\\notebook.py:250\u001B[0m, in \u001B[0;36mtqdm_notebook.__iter__\u001B[1;34m(self)\u001B[0m\n\u001B[0;32m    248\u001B[0m \u001B[38;5;28;01mtry\u001B[39;00m:\n\u001B[0;32m    249\u001B[0m     it \u001B[38;5;241m=\u001B[39m \u001B[38;5;28msuper\u001B[39m()\u001B[38;5;241m.\u001B[39m\u001B[38;5;21m__iter__\u001B[39m()\n\u001B[1;32m--> 250\u001B[0m \u001B[43m    \u001B[49m\u001B[38;5;28;43;01mfor\u001B[39;49;00m\u001B[43m \u001B[49m\u001B[43mobj\u001B[49m\u001B[43m \u001B[49m\u001B[38;5;129;43;01min\u001B[39;49;00m\u001B[43m \u001B[49m\u001B[43mit\u001B[49m\u001B[43m:\u001B[49m\n\u001B[0;32m    251\u001B[0m \u001B[43m        \u001B[49m\u001B[38;5;66;43;03m# return super(tqdm...) will not catch exception\u001B[39;49;00m\n\u001B[0;32m    252\u001B[0m \u001B[43m        \u001B[49m\u001B[38;5;28;43;01myield\u001B[39;49;00m\u001B[43m \u001B[49m\u001B[43mobj\u001B[49m\n\u001B[0;32m    253\u001B[0m \u001B[38;5;66;03m# NB: except ... [ as ...] breaks IPython async KeyboardInterrupt\u001B[39;00m\n",
      "File \u001B[1;32mC:\\Program Files\\Python312\\Lib\\site-packages\\tqdm\\std.py:1181\u001B[0m, in \u001B[0;36mtqdm.__iter__\u001B[1;34m(self)\u001B[0m\n\u001B[0;32m   1178\u001B[0m time \u001B[38;5;241m=\u001B[39m \u001B[38;5;28mself\u001B[39m\u001B[38;5;241m.\u001B[39m_time\n\u001B[0;32m   1180\u001B[0m \u001B[38;5;28;01mtry\u001B[39;00m:\n\u001B[1;32m-> 1181\u001B[0m \u001B[43m    \u001B[49m\u001B[38;5;28;43;01mfor\u001B[39;49;00m\u001B[43m \u001B[49m\u001B[43mobj\u001B[49m\u001B[43m \u001B[49m\u001B[38;5;129;43;01min\u001B[39;49;00m\u001B[43m \u001B[49m\u001B[43miterable\u001B[49m\u001B[43m:\u001B[49m\n\u001B[0;32m   1182\u001B[0m \u001B[43m        \u001B[49m\u001B[38;5;28;43;01myield\u001B[39;49;00m\u001B[43m \u001B[49m\u001B[43mobj\u001B[49m\n\u001B[0;32m   1183\u001B[0m \u001B[43m        \u001B[49m\u001B[38;5;66;43;03m# Update and possibly print the progressbar.\u001B[39;49;00m\n\u001B[0;32m   1184\u001B[0m \u001B[43m        \u001B[49m\u001B[38;5;66;43;03m# Note: does not call self.update(1) for speed optimisation.\u001B[39;49;00m\n",
      "File \u001B[1;32mC:\\Program Files\\Python312\\Lib\\site-packages\\torch\\utils\\data\\dataloader.py:701\u001B[0m, in \u001B[0;36m_BaseDataLoaderIter.__next__\u001B[1;34m(self)\u001B[0m\n\u001B[0;32m    698\u001B[0m \u001B[38;5;28;01mif\u001B[39;00m \u001B[38;5;28mself\u001B[39m\u001B[38;5;241m.\u001B[39m_sampler_iter \u001B[38;5;129;01mis\u001B[39;00m \u001B[38;5;28;01mNone\u001B[39;00m:\n\u001B[0;32m    699\u001B[0m     \u001B[38;5;66;03m# TODO(https://github.com/pytorch/pytorch/issues/76750)\u001B[39;00m\n\u001B[0;32m    700\u001B[0m     \u001B[38;5;28mself\u001B[39m\u001B[38;5;241m.\u001B[39m_reset()  \u001B[38;5;66;03m# type: ignore[call-arg]\u001B[39;00m\n\u001B[1;32m--> 701\u001B[0m data \u001B[38;5;241m=\u001B[39m \u001B[38;5;28;43mself\u001B[39;49m\u001B[38;5;241;43m.\u001B[39;49m\u001B[43m_next_data\u001B[49m\u001B[43m(\u001B[49m\u001B[43m)\u001B[49m\n\u001B[0;32m    702\u001B[0m \u001B[38;5;28mself\u001B[39m\u001B[38;5;241m.\u001B[39m_num_yielded \u001B[38;5;241m+\u001B[39m\u001B[38;5;241m=\u001B[39m \u001B[38;5;241m1\u001B[39m\n\u001B[0;32m    703\u001B[0m \u001B[38;5;28;01mif\u001B[39;00m (\n\u001B[0;32m    704\u001B[0m     \u001B[38;5;28mself\u001B[39m\u001B[38;5;241m.\u001B[39m_dataset_kind \u001B[38;5;241m==\u001B[39m _DatasetKind\u001B[38;5;241m.\u001B[39mIterable\n\u001B[0;32m    705\u001B[0m     \u001B[38;5;129;01mand\u001B[39;00m \u001B[38;5;28mself\u001B[39m\u001B[38;5;241m.\u001B[39m_IterableDataset_len_called \u001B[38;5;129;01mis\u001B[39;00m \u001B[38;5;129;01mnot\u001B[39;00m \u001B[38;5;28;01mNone\u001B[39;00m\n\u001B[0;32m    706\u001B[0m     \u001B[38;5;129;01mand\u001B[39;00m \u001B[38;5;28mself\u001B[39m\u001B[38;5;241m.\u001B[39m_num_yielded \u001B[38;5;241m>\u001B[39m \u001B[38;5;28mself\u001B[39m\u001B[38;5;241m.\u001B[39m_IterableDataset_len_called\n\u001B[0;32m    707\u001B[0m ):\n",
      "File \u001B[1;32mC:\\Program Files\\Python312\\Lib\\site-packages\\torch\\utils\\data\\dataloader.py:757\u001B[0m, in \u001B[0;36m_SingleProcessDataLoaderIter._next_data\u001B[1;34m(self)\u001B[0m\n\u001B[0;32m    755\u001B[0m \u001B[38;5;28;01mdef\u001B[39;00m \u001B[38;5;21m_next_data\u001B[39m(\u001B[38;5;28mself\u001B[39m):\n\u001B[0;32m    756\u001B[0m     index \u001B[38;5;241m=\u001B[39m \u001B[38;5;28mself\u001B[39m\u001B[38;5;241m.\u001B[39m_next_index()  \u001B[38;5;66;03m# may raise StopIteration\u001B[39;00m\n\u001B[1;32m--> 757\u001B[0m     data \u001B[38;5;241m=\u001B[39m \u001B[38;5;28;43mself\u001B[39;49m\u001B[38;5;241;43m.\u001B[39;49m\u001B[43m_dataset_fetcher\u001B[49m\u001B[38;5;241;43m.\u001B[39;49m\u001B[43mfetch\u001B[49m\u001B[43m(\u001B[49m\u001B[43mindex\u001B[49m\u001B[43m)\u001B[49m  \u001B[38;5;66;03m# may raise StopIteration\u001B[39;00m\n\u001B[0;32m    758\u001B[0m     \u001B[38;5;28;01mif\u001B[39;00m \u001B[38;5;28mself\u001B[39m\u001B[38;5;241m.\u001B[39m_pin_memory:\n\u001B[0;32m    759\u001B[0m         data \u001B[38;5;241m=\u001B[39m _utils\u001B[38;5;241m.\u001B[39mpin_memory\u001B[38;5;241m.\u001B[39mpin_memory(data, \u001B[38;5;28mself\u001B[39m\u001B[38;5;241m.\u001B[39m_pin_memory_device)\n",
      "File \u001B[1;32mC:\\Program Files\\Python312\\Lib\\site-packages\\torch\\utils\\data\\_utils\\fetch.py:52\u001B[0m, in \u001B[0;36m_MapDatasetFetcher.fetch\u001B[1;34m(self, possibly_batched_index)\u001B[0m\n\u001B[0;32m     50\u001B[0m         data \u001B[38;5;241m=\u001B[39m \u001B[38;5;28mself\u001B[39m\u001B[38;5;241m.\u001B[39mdataset\u001B[38;5;241m.\u001B[39m__getitems__(possibly_batched_index)\n\u001B[0;32m     51\u001B[0m     \u001B[38;5;28;01melse\u001B[39;00m:\n\u001B[1;32m---> 52\u001B[0m         data \u001B[38;5;241m=\u001B[39m [\u001B[38;5;28;43mself\u001B[39;49m\u001B[38;5;241;43m.\u001B[39;49m\u001B[43mdataset\u001B[49m\u001B[43m[\u001B[49m\u001B[43midx\u001B[49m\u001B[43m]\u001B[49m \u001B[38;5;28;01mfor\u001B[39;00m idx \u001B[38;5;129;01min\u001B[39;00m possibly_batched_index]\n\u001B[0;32m     53\u001B[0m \u001B[38;5;28;01melse\u001B[39;00m:\n\u001B[0;32m     54\u001B[0m     data \u001B[38;5;241m=\u001B[39m \u001B[38;5;28mself\u001B[39m\u001B[38;5;241m.\u001B[39mdataset[possibly_batched_index]\n",
      "Cell \u001B[1;32mIn[53], line 22\u001B[0m, in \u001B[0;36mCifar10Dataset.__getitem__\u001B[1;34m(self, index)\u001B[0m\n\u001B[0;32m     20\u001B[0m \u001B[38;5;28;01mdef\u001B[39;00m \u001B[38;5;21m__getitem__\u001B[39m(\u001B[38;5;28mself\u001B[39m, index):\n\u001B[0;32m     21\u001B[0m     img_path, label \u001B[38;5;241m=\u001B[39m \u001B[38;5;28mself\u001B[39m\u001B[38;5;241m.\u001B[39mdf\u001B[38;5;241m.\u001B[39miloc[index] \u001B[38;5;66;03m# 获取图片路径和标签\u001B[39;00m\n\u001B[1;32m---> 22\u001B[0m     img \u001B[38;5;241m=\u001B[39m \u001B[43mImage\u001B[49m\u001B[38;5;241;43m.\u001B[39;49m\u001B[43mopen\u001B[49m\u001B[43m(\u001B[49m\u001B[43mimg_path\u001B[49m\u001B[43m)\u001B[49m\u001B[38;5;241m.\u001B[39mconvert(\u001B[38;5;124m'\u001B[39m\u001B[38;5;124mRGB\u001B[39m\u001B[38;5;124m'\u001B[39m)\n\u001B[0;32m     23\u001B[0m     \u001B[38;5;66;03m# # img 转换为 channel first\u001B[39;00m\n\u001B[0;32m     24\u001B[0m     \u001B[38;5;66;03m# img = img.transpose((2, 0, 1))\u001B[39;00m\n\u001B[0;32m     25\u001B[0m     \u001B[38;5;66;03m# transform\u001B[39;00m\n\u001B[0;32m     26\u001B[0m     img \u001B[38;5;241m=\u001B[39m \u001B[38;5;28mself\u001B[39m\u001B[38;5;241m.\u001B[39mtransform(img) \u001B[38;5;66;03m# 数据增强\u001B[39;00m\n",
      "File \u001B[1;32mC:\\Program Files\\Python312\\Lib\\site-packages\\PIL\\Image.py:3465\u001B[0m, in \u001B[0;36mopen\u001B[1;34m(fp, mode, formats)\u001B[0m\n\u001B[0;32m   3462\u001B[0m     filename \u001B[38;5;241m=\u001B[39m os\u001B[38;5;241m.\u001B[39mfspath(fp)\n\u001B[0;32m   3464\u001B[0m \u001B[38;5;28;01mif\u001B[39;00m filename:\n\u001B[1;32m-> 3465\u001B[0m     fp \u001B[38;5;241m=\u001B[39m \u001B[43mbuiltins\u001B[49m\u001B[38;5;241;43m.\u001B[39;49m\u001B[43mopen\u001B[49m\u001B[43m(\u001B[49m\u001B[43mfilename\u001B[49m\u001B[43m,\u001B[49m\u001B[43m \u001B[49m\u001B[38;5;124;43m\"\u001B[39;49m\u001B[38;5;124;43mrb\u001B[39;49m\u001B[38;5;124;43m\"\u001B[39;49m\u001B[43m)\u001B[49m\n\u001B[0;32m   3466\u001B[0m     exclusive_fp \u001B[38;5;241m=\u001B[39m \u001B[38;5;28;01mTrue\u001B[39;00m\n\u001B[0;32m   3467\u001B[0m \u001B[38;5;28;01melse\u001B[39;00m:\n",
      "\u001B[1;31mKeyboardInterrupt\u001B[0m: "
     ]
    }
   ],
   "execution_count": 74
  },
  {
   "cell_type": "code",
   "execution_count": 1,
   "outputs": [
    {
     "data": {
      "text/plain": "300032"
     },
     "execution_count": 1,
     "metadata": {},
     "output_type": "execute_result"
    }
   ],
   "source": [
    "64*4688"
   ],
   "metadata": {
    "collapsed": false,
    "ExecuteTime": {
     "end_time": "2024-04-30T01:29:55.567562100Z",
     "start_time": "2024-04-30T01:29:55.544576400Z"
    }
   }
  },
  {
   "cell_type": "code",
   "execution_count": 26,
   "metadata": {},
   "outputs": [],
   "source": [
    "# 导出 submission.csv\n",
    "test_df.to_csv(\"submission.csv\", index=False)"
   ]
  }
 ],
 "metadata": {
  "kernelspec": {
   "display_name": "pytorch",
   "language": "python",
   "name": "python3"
  },
  "language_info": {
   "codemirror_mode": {
    "name": "ipython",
    "version": 3
   },
   "file_extension": ".py",
   "mimetype": "text/x-python",
   "name": "python",
   "nbconvert_exporter": "python",
   "pygments_lexer": "ipython3",
   "version": "3.10.8"
  },
  "orig_nbformat": 4
 },
 "nbformat": 4,
 "nbformat_minor": 2
}
